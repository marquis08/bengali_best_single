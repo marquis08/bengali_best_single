{
 "cells": [
  {
   "cell_type": "markdown",
   "metadata": {},
   "source": [
    "# Bengali.AI SEResNeXt training with pytorch\n",
    "\n",
    "I will introduce following contents\n",
    "\n",
    " - **Fast data loading** with feather format\n",
    " - **Data augmentation** technic with affine transformation\n",
    " - **CNN SoTA models**: Use pytorch `pretrainedmodels` library, especially I use **`SEResNeXt`** in this notebook\n",
    " - **Training code abstraction**: Use `pytorch-ignite` module for the trainining abstraction\n",
    " \n",
    "### Update history\n",
    "\n",
    " - 2020/1/4 v2: Added albumentations augmentations introduced in [Bengali: albumentations data augmentation tutorial](https://www.kaggle.com/corochann/bengali-albumentations-data-augmentation-tutorial)"
   ]
  },
  {
   "cell_type": "markdown",
   "metadata": {},
   "source": [
    "# Table of Contents:\n",
    "**[Fast data loading with feather](#load)**<br>\n",
    "**[Dataset](#dataset)**<br>\n",
    "**[Data augmentation/processing](#processing)**<br>\n",
    "**[pytorch model & define classifier](#model)**<br>\n",
    "**[Training code](#train)**<br>\n",
    "**[Prediction](#pred)**<br>\n",
    "**[Reference and further reading](#ref)**<br>"
   ]
  },
  {
   "cell_type": "markdown",
   "metadata": {},
   "source": [
    "To install https://github.com/Cadene/pretrained-models.pytorch without internet connection, we can install library as \"dataset\".\n",
    "\n",
    "It is uploaded by @rishabhiitbhu : https://www.kaggle.com/rishabhiitbhu/pretrainedmodels"
   ]
  },
  {
   "cell_type": "markdown",
   "metadata": {},
   "source": [
    "!pip install iterative-stratification"
   ]
  },
  {
   "cell_type": "code",
   "execution_count": 1,
   "metadata": {},
   "outputs": [],
   "source": [
    "from iterstrat.ml_stratifiers import MultilabelStratifiedShuffleSplit"
   ]
  },
  {
   "cell_type": "code",
   "execution_count": 2,
   "metadata": {},
   "outputs": [],
   "source": [
    "import pretrainedmodels"
   ]
  },
  {
   "cell_type": "code",
   "execution_count": 3,
   "metadata": {},
   "outputs": [
    {
     "name": "stdout",
     "output_type": "stream",
     "text": [
      "['fbresnet152', 'bninception', 'resnext101_32x4d', 'resnext101_64x4d', 'inceptionv4', 'inceptionresnetv2', 'alexnet', 'densenet121', 'densenet169', 'densenet201', 'densenet161', 'resnet18', 'resnet34', 'resnet50', 'resnet101', 'resnet152', 'inceptionv3', 'squeezenet1_0', 'squeezenet1_1', 'vgg11', 'vgg11_bn', 'vgg13', 'vgg13_bn', 'vgg16', 'vgg16_bn', 'vgg19_bn', 'vgg19', 'nasnetamobile', 'nasnetalarge', 'dpn68', 'dpn68b', 'dpn92', 'dpn98', 'dpn131', 'dpn107', 'xception', 'senet154', 'se_resnet50', 'se_resnet101', 'se_resnet152', 'se_resnext50_32x4d', 'se_resnext101_32x4d', 'cafferesnet101', 'pnasnet5large', 'polynet']\n"
     ]
    }
   ],
   "source": [
    "print(pretrainedmodels.model_names)"
   ]
  },
  {
   "cell_type": "code",
   "execution_count": 4,
   "metadata": {
    "_kg_hide-input": true,
    "_kg_hide-output": true
   },
   "outputs": [],
   "source": [
    "import gc\n",
    "import os\n",
    "from pathlib import Path\n",
    "import random\n",
    "import sys\n",
    "\n",
    "from tqdm.notebook import tqdm\n",
    "import numpy as np # linear algebra\n",
    "import pandas as pd # data processing, CSV file I/O (e.g. pd.read_csv)\n",
    "\n",
    "import matplotlib.pyplot as plt\n",
    "import seaborn as sns\n",
    "\n",
    "from IPython.core.display import display, HTML\n",
    "\n",
    "# --- plotly ---\n",
    "#from plotly import tools, subplots\n",
    "#import plotly.offline as py\n",
    "#py.init_notebook_mode(connected=True)\n",
    "#import plotly.graph_objs as go\n",
    "#import plotly.express as px\n",
    "#import plotly.figure_factory as ff\n",
    "\n",
    "# --- models ---\n",
    "#from sklearn import preprocessing\n",
    "#from sklearn.model_selection import KFold\n",
    "#import lightgbm as lgb\n",
    "#import xgboost as xgb\n",
    "#import catboost as cb\n",
    "\n",
    "# --- setup ---\n",
    "pd.set_option('max_columns', 50)\n",
    "\n",
    "import warnings\n",
    "warnings.filterwarnings('ignore')"
   ]
  },
  {
   "cell_type": "code",
   "execution_count": 5,
   "metadata": {},
   "outputs": [],
   "source": [
    "import torch \n",
    "def seed_everything(seed):\n",
    "    random.seed(seed)\n",
    "    os.environ['PYTHONHASHSEED'] = str(seed)\n",
    "    np.random.seed(seed)\n",
    "    torch.manual_seed(seed)\n",
    "    torch.cuda.manual_seed(seed)\n",
    "    torch.backends.cudnn.deterministic = True\n",
    "\n",
    "SEED = 42\n",
    "seed_everything(SEED)"
   ]
  },
  {
   "cell_type": "code",
   "execution_count": 6,
   "metadata": {},
   "outputs": [],
   "source": [
    "debug=False\n",
    "submission=False\n",
    "batch_size = 128\n",
    "device='cuda:0'\n",
    "out='.'\n",
    "image_size=128\n",
    "arch='pretrained'\n",
    "model_name='se_resnext50_32x4d'"
   ]
  },
  {
   "cell_type": "code",
   "execution_count": 7,
   "metadata": {
    "_cell_guid": "79c7e3d0-c299-4dcb-8224-4455121ee9b0",
    "_kg_hide-input": false,
    "_kg_hide-output": true,
    "_uuid": "d629ff2d2480ee46fbb7e2d37f6b5fab8052498a"
   },
   "outputs": [],
   "source": [
    "datadir = Path('../bengali/input/')\n",
    "featherdir = Path('../bengali/feather/')\n",
    "outdir = Path('../bengali/model/128_cutmixup_v3_cutout_v4')"
   ]
  },
  {
   "cell_type": "code",
   "execution_count": 8,
   "metadata": {
    "_kg_hide-input": true,
    "_kg_hide-output": true
   },
   "outputs": [],
   "source": [
    "# Read in the data CSV files\n",
    "# train = pd.read_csv(datadir/'train.csv')\n",
    "# test = pd.read_csv(datadir/'test.csv')\n",
    "# sample_submission = pd.read_csv(datadir/'sample_submission.csv')\n",
    "# class_map = pd.read_csv(datadir/'class_map.csv')"
   ]
  },
  {
   "cell_type": "markdown",
   "metadata": {},
   "source": [
    "# Fast data loading with feather\n",
    "\n",
    "Refer [Bengali.AI super fast data loading with feather](https://www.kaggle.com/corochann/bengali-ai-super-fast-data-loading-with-feather) and [dataset](https://www.kaggle.com/corochann/bengaliaicv19feather) for detail.<br/>\n",
    "Original `parquet` format takes about 60 sec to load 1 data, while `feather` format takes about **2 sec to load 1 data!!!**\n",
    "\n",
    "### How to add dataset\n",
    "\n",
    "When you write kernel, click \"+ Add Data\" botton on right top.<br/>\n",
    "Then inside window pop-up, you can see \"Search Datasets\" text box on right top.<br/>\n",
    "You can type \"bengaliai-cv19-feather\" to find this dataset and press \"Add\" botton to add the data."
   ]
  },
  {
   "cell_type": "code",
   "execution_count": 9,
   "metadata": {},
   "outputs": [],
   "source": [
    "import numpy as np\n",
    "import pandas as pd\n",
    "import gc\n",
    "\n",
    "\n",
    "def prepare_image(datadir, featherdir, data_type='train',\n",
    "                  submission=False, indices=[0, 1, 2, 3]):\n",
    "    assert data_type in ['train', 'test']\n",
    "    if submission:\n",
    "        image_df_list = [pd.read_parquet(datadir / f'{data_type}_image_data_{i}.parquet')\n",
    "                         for i in indices]\n",
    "    else:\n",
    "        image_df_list = [pd.read_feather(featherdir / f'{data_type}_image_data_{i}.feather')\n",
    "                         for i in indices]\n",
    "\n",
    "    print('image_df_list', len(image_df_list))\n",
    "    HEIGHT = 137\n",
    "    WIDTH = 236\n",
    "    images = [df.iloc[:, 1:].values.reshape(-1, HEIGHT, WIDTH) for df in image_df_list]\n",
    "    del image_df_list\n",
    "    gc.collect()\n",
    "    images = np.concatenate(images, axis=0)\n",
    "    return images\n"
   ]
  },
  {
   "cell_type": "code",
   "execution_count": 10,
   "metadata": {},
   "outputs": [
    {
     "name": "stdout",
     "output_type": "stream",
     "text": [
      "image_df_list 4\n",
      "CPU times: user 13.5 s, sys: 17 s, total: 30.5 s\n",
      "Wall time: 4.87 s\n"
     ]
    }
   ],
   "source": [
    "%%time\n",
    "\n",
    "train = pd.read_csv(datadir/'train.csv')\n",
    "train_labels = train[['grapheme_root', 'vowel_diacritic', 'consonant_diacritic']].values\n",
    "indices = [0] if debug else [0, 1, 2, 3]\n",
    "train_images = prepare_image(\n",
    "    datadir, featherdir, data_type='train', submission=False, indices=indices)\n"
   ]
  },
  {
   "cell_type": "markdown",
   "metadata": {},
   "source": [
    "<a id=\"dataset\"></a>\n",
    "# Dataset"
   ]
  },
  {
   "cell_type": "code",
   "execution_count": 11,
   "metadata": {
    "_kg_hide-input": true
   },
   "outputs": [],
   "source": [
    "\"\"\"\n",
    "Referenced `chainer.dataset.DatasetMixin` to work with pytorch Dataset.\n",
    "\"\"\"\n",
    "import numpy\n",
    "import six\n",
    "import torch\n",
    "from torch.utils.data.dataset import Dataset\n",
    "\n",
    "\n",
    "class DatasetMixin(Dataset):\n",
    "\n",
    "    def __init__(self, transform=None):\n",
    "        self.transform = transform\n",
    "\n",
    "    def __getitem__(self, index):\n",
    "        \"\"\"Returns an example or a sequence of examples.\"\"\"\n",
    "        if torch.is_tensor(index):\n",
    "            index = index.tolist()\n",
    "        if isinstance(index, slice):\n",
    "            current, stop, step = index.indices(len(self))\n",
    "            return [self.get_example_wrapper(i) for i in\n",
    "                    six.moves.range(current, stop, step)]\n",
    "        elif isinstance(index, list) or isinstance(index, numpy.ndarray):\n",
    "            return [self.get_example_wrapper(i) for i in index]\n",
    "        else:\n",
    "            return self.get_example_wrapper(index)\n",
    "\n",
    "    def __len__(self):\n",
    "        \"\"\"Returns the number of data points.\"\"\"\n",
    "        raise NotImplementedError\n",
    "\n",
    "    def get_example_wrapper(self, i):\n",
    "        \"\"\"Wrapper of `get_example`, to apply `transform` if necessary\"\"\"\n",
    "        example = self.get_example(i)\n",
    "        if self.transform:\n",
    "            example = self.transform(example)\n",
    "        return example\n",
    "\n",
    "    def get_example(self, i):\n",
    "        \"\"\"Returns the i-th example.\n",
    "\n",
    "        Implementations should override it. It should raise :class:`IndexError`\n",
    "        if the index is invalid.\n",
    "\n",
    "        Args:\n",
    "            i (int): The index of the example.\n",
    "\n",
    "        Returns:\n",
    "            The i-th example.\n",
    "\n",
    "        \"\"\"\n",
    "        raise NotImplementedError\n"
   ]
  },
  {
   "cell_type": "markdown",
   "metadata": {},
   "source": [
    "This `DatasetMixin` class can be used to define any custom dataset class in pytorch. We can implement `get_example(self, i)` method to return `i`-th data.\n",
    "\n",
    "Here I return i-th image `x` and `label`, with scaling image to be value ranges between 0~1."
   ]
  },
  {
   "cell_type": "code",
   "execution_count": 12,
   "metadata": {},
   "outputs": [],
   "source": [
    "import numpy as np\n",
    "\n",
    "\n",
    "class BengaliAIDataset(DatasetMixin):\n",
    "    def __init__(self, images, labels=None, transform=None, indices=None):\n",
    "        super(BengaliAIDataset, self).__init__(transform=transform)\n",
    "        self.images = images\n",
    "        self.labels = labels\n",
    "        if indices is None:\n",
    "            indices = np.arange(len(images))\n",
    "        self.indices = indices\n",
    "        self.train = labels is not None\n",
    "\n",
    "    def __len__(self):\n",
    "        \"\"\"return length of this dataset\"\"\"\n",
    "        return len(self.indices)\n",
    "\n",
    "    def get_example(self, i):\n",
    "        \"\"\"Return i-th data\"\"\"\n",
    "        i = self.indices[i]\n",
    "        x = self.images[i]\n",
    "        # Opposite white and black: background will be white and\n",
    "        # for future Affine transformation\n",
    "        x = (255 - x).astype(np.float32) / 255.\n",
    "        if self.train:\n",
    "            y = self.labels[i]\n",
    "            return x, y\n",
    "        else:\n",
    "            return x\n"
   ]
  },
  {
   "cell_type": "markdown",
   "metadata": {},
   "source": [
    "Let's see how this `BengaliAIDataset` work"
   ]
  },
  {
   "cell_type": "markdown",
   "metadata": {},
   "source": [
    "`train_dataset[i]` returns i-th image array and 3 target labels (graphme_root, vowel_diacritic and consonant_diacritic)."
   ]
  },
  {
   "cell_type": "markdown",
   "metadata": {},
   "source": [
    "<a id=\"processing\"></a>\n",
    "# Data augmentation/processing"
   ]
  },
  {
   "cell_type": "markdown",
   "metadata": {},
   "source": [
    "For CNN training, data augmentation is important to improve test accuracy (generalization performance). I will show some image preprocessing to increase the data variety."
   ]
  },
  {
   "cell_type": "code",
   "execution_count": 13,
   "metadata": {
    "_kg_hide-input": true
   },
   "outputs": [],
   "source": [
    "\"\"\"\n",
    "From https://www.kaggle.com/corochann/deep-learning-cnn-with-chainer-lb-0-99700\n",
    "\"\"\"\n",
    "import cv2\n",
    "from skimage.transform import AffineTransform, warp\n",
    "import numpy as np\n",
    "\n",
    "\n",
    "def affine_image(img):\n",
    "    \"\"\"\n",
    "\n",
    "    Args:\n",
    "        img: (h, w) or (1, h, w)\n",
    "\n",
    "    Returns:\n",
    "        img: (h, w)\n",
    "    \"\"\"\n",
    "    # ch, h, w = img.shape\n",
    "    # img = img / 255.\n",
    "    if img.ndim == 3:\n",
    "        img = img[0]\n",
    "\n",
    "    # --- scale ---\n",
    "    min_scale = 0.8\n",
    "    max_scale = 1.2\n",
    "    sx = np.random.uniform(min_scale, max_scale)\n",
    "    sy = np.random.uniform(min_scale, max_scale)\n",
    "\n",
    "    # --- rotation ---\n",
    "    max_rot_angle = 7\n",
    "    rot_angle = np.random.uniform(-max_rot_angle, max_rot_angle) * np.pi / 180.\n",
    "\n",
    "    # --- shear ---\n",
    "    max_shear_angle = 10\n",
    "    shear_angle = np.random.uniform(-max_shear_angle, max_shear_angle) * np.pi / 180.\n",
    "\n",
    "    # --- translation ---\n",
    "    max_translation = 4\n",
    "    tx = np.random.randint(-max_translation, max_translation)\n",
    "    ty = np.random.randint(-max_translation, max_translation)\n",
    "\n",
    "    tform = AffineTransform(scale=(sx, sy), rotation=rot_angle, shear=shear_angle,\n",
    "                            translation=(tx, ty))\n",
    "    transformed_image = warp(img, tform)\n",
    "    assert transformed_image.ndim == 2\n",
    "    return transformed_image\n",
    "\n",
    "\n",
    "def crop_char_image(image, threshold=5./255.):\n",
    "    assert image.ndim == 2\n",
    "    is_black = image > threshold\n",
    "\n",
    "    is_black_vertical = np.sum(is_black, axis=0) > 0\n",
    "    is_black_horizontal = np.sum(is_black, axis=1) > 0\n",
    "    left = np.argmax(is_black_horizontal)\n",
    "    right = np.argmax(is_black_horizontal[::-1])\n",
    "    top = np.argmax(is_black_vertical)\n",
    "    bottom = np.argmax(is_black_vertical[::-1])\n",
    "    height, width = image.shape\n",
    "    cropped_image = image[left:height - right, top:width - bottom]\n",
    "    return cropped_image\n",
    "\n",
    "\n",
    "def resize(image, size=(128, 128)):\n",
    "    return cv2.resize(image, size)"
   ]
  },
  {
   "cell_type": "markdown",
   "metadata": {},
   "source": [
    "Put everything together with `Transform` class. <br>\n",
    "[Update] I added **albumentations augmentations** introduced in [Bengali: albumentations data augmentation tutorial](https://www.kaggle.com/corochann/bengali-albumentations-data-augmentation-tutorial)."
   ]
  },
  {
   "cell_type": "code",
   "execution_count": 14,
   "metadata": {
    "_kg_hide-input": false
   },
   "outputs": [],
   "source": [
    "import albumentations\n",
    "from albumentations.core.transforms_interface import DualTransform\n",
    "from albumentations.augmentations import functional as F\n",
    "import albumentations as A\n",
    "import numpy as np\n",
    "\n",
    "class GridMask(DualTransform):\n",
    "    \"\"\"GridMask augmentation for image classification and object detection.\n",
    "    \n",
    "    Author: Qishen Ha\n",
    "    Email: haqishen@gmail.com\n",
    "    2020/01/29\n",
    "\n",
    "    Args:\n",
    "        num_grid (int): number of grid in a row or column.\n",
    "        fill_value (int, float, lisf of int, list of float): value for dropped pixels.\n",
    "        rotate ((int, int) or int): range from which a random angle is picked. If rotate is a single int\n",
    "            an angle is picked from (-rotate, rotate). Default: (-90, 90)\n",
    "        mode (int):\n",
    "            0 - cropout a quarter of the square of each grid (left top)\n",
    "            1 - reserve a quarter of the square of each grid (left top)\n",
    "            2 - cropout 2 quarter of the square of each grid (left top & right bottom)\n",
    "\n",
    "    Targets:\n",
    "        image, mask\n",
    "\n",
    "    Image types:\n",
    "        uint8, float32\n",
    "\n",
    "    Reference:\n",
    "    |  https://arxiv.org/abs/2001.04086\n",
    "    |  https://github.com/akuxcw/GridMask\n",
    "    \"\"\"\n",
    "\n",
    "    def __init__(self, num_grid=3, fill_value=0, rotate=0, mode=0, always_apply=False, p=0.5):\n",
    "        super(GridMask, self).__init__(always_apply, p)\n",
    "        if isinstance(num_grid, int):\n",
    "            num_grid = (num_grid, num_grid)\n",
    "        if isinstance(rotate, int):\n",
    "            rotate = (-rotate, rotate)\n",
    "        self.num_grid = num_grid\n",
    "        self.fill_value = fill_value\n",
    "        self.rotate = rotate\n",
    "        self.mode = mode\n",
    "        self.masks = None\n",
    "        self.rand_h_max = []\n",
    "        self.rand_w_max = []\n",
    "\n",
    "    def init_masks(self, height, width):\n",
    "        if self.masks is None:\n",
    "            self.masks = []\n",
    "            n_masks = self.num_grid[1] - self.num_grid[0] + 1\n",
    "            for n, n_g in enumerate(range(self.num_grid[0], self.num_grid[1] + 1, 1)):\n",
    "                grid_h = height / n_g\n",
    "                grid_w = width / n_g\n",
    "                this_mask = np.ones((int((n_g + 1) * grid_h), int((n_g + 1) * grid_w))).astype(np.uint8)\n",
    "                for i in range(n_g + 1):\n",
    "                    for j in range(n_g + 1):\n",
    "                        this_mask[\n",
    "                             int(i * grid_h) : int(i * grid_h + grid_h / 2),\n",
    "                             int(j * grid_w) : int(j * grid_w + grid_w / 2)\n",
    "                        ] = self.fill_value\n",
    "                        if self.mode == 2:\n",
    "                            this_mask[\n",
    "                                 int(i * grid_h + grid_h / 2) : int(i * grid_h + grid_h),\n",
    "                                 int(j * grid_w + grid_w / 2) : int(j * grid_w + grid_w)\n",
    "                            ] = self.fill_value\n",
    "                \n",
    "                if self.mode == 1:\n",
    "                    this_mask = 1 - this_mask\n",
    "\n",
    "                self.masks.append(this_mask)\n",
    "                self.rand_h_max.append(grid_h)\n",
    "                self.rand_w_max.append(grid_w)\n",
    "\n",
    "    def apply(self, image, mask, rand_h, rand_w, angle, **params):\n",
    "        h, w = image.shape[:2]\n",
    "        mask = F.rotate(mask, angle) if self.rotate[1] > 0 else mask\n",
    "        mask = mask[:,:,np.newaxis] if image.ndim == 3 else mask\n",
    "        image *= mask[rand_h:rand_h+h, rand_w:rand_w+w].astype(image.dtype)\n",
    "        return image\n",
    "\n",
    "    def get_params_dependent_on_targets(self, params):\n",
    "        img = params['image']\n",
    "        height, width = img.shape[:2]\n",
    "        self.init_masks(height, width)\n",
    "\n",
    "        mid = np.random.randint(len(self.masks))\n",
    "        mask = self.masks[mid]\n",
    "        rand_h = np.random.randint(self.rand_h_max[mid])\n",
    "        rand_w = np.random.randint(self.rand_w_max[mid])\n",
    "        angle = np.random.randint(self.rotate[0], self.rotate[1]) if self.rotate[1] > 0 else 0\n",
    "\n",
    "        return {'mask': mask, 'rand_h': rand_h, 'rand_w': rand_w, 'angle': angle}\n",
    "\n",
    "    @property\n",
    "    def targets_as_params(self):\n",
    "        return ['image']\n",
    "\n",
    "    def get_transform_init_args_names(self):\n",
    "        return ('num_grid', 'fill_value', 'rotate', 'mode')\n",
    "\n",
    "def add_gaussian_noise(x, sigma):\n",
    "    x += np.random.randn(*x.shape) * sigma\n",
    "    x = np.clip(x, 0., 1.)\n",
    "    return x\n",
    "\n",
    "\n",
    "def _evaluate_ratio(ratio):\n",
    "    if ratio <= 0.:\n",
    "        return False\n",
    "    return np.random.uniform() < ratio\n",
    "\n",
    "\n",
    "def apply_aug(aug, image):\n",
    "    return aug(image=image)['image']\n",
    "\n",
    "\n",
    "class Transform:\n",
    "    def __init__(self, affine=False, crop=False, gridmask=False, size=(128, 128),\n",
    "                 normalize=True, train=True, threshold=40.,\n",
    "                 sigma=-1., blur_ratio=0., noise_ratio=0., cutout_ratio=0.,\n",
    "                 grid_distortion_ratio=0., elastic_distortion_ratio=0., random_brightness_ratio=0.,\n",
    "                 piece_affine_ratio=0., ssr_ratio=0.):\n",
    "        self.affine = affine\n",
    "        self.crop = crop\n",
    "        self.gridmask = gridmask\n",
    "        self.size = size\n",
    "        self.normalize = normalize\n",
    "        self.train = train\n",
    "        self.threshold = threshold / 255.\n",
    "        self.sigma = sigma / 255.\n",
    "\n",
    "        self.blur_ratio = blur_ratio\n",
    "        self.noise_ratio = noise_ratio\n",
    "        self.cutout_ratio = cutout_ratio\n",
    "        self.grid_distortion_ratio = grid_distortion_ratio\n",
    "        self.elastic_distortion_ratio = elastic_distortion_ratio\n",
    "        self.random_brightness_ratio = random_brightness_ratio\n",
    "        self.piece_affine_ratio = piece_affine_ratio\n",
    "        self.ssr_ratio = ssr_ratio\n",
    "        #self.gmask_ratio = gmask_ratio\n",
    "\n",
    "    def __call__(self, example):\n",
    "        if self.train:\n",
    "            x, y = example\n",
    "        else:\n",
    "            x = example\n",
    "        # --- Augmentation ---\n",
    "        if self.affine:\n",
    "            x = affine_image(x)\n",
    "\n",
    "        # --- Train/Test common preprocessing ---\n",
    "        if self.crop:\n",
    "            x = crop_char_image(x, threshold=self.threshold)\n",
    "        if self.gridmask:\n",
    "            x = apply_aug(GridMask(num_grid=3, p=0.2, mode=2), x)\n",
    "        if self.size is not None:\n",
    "            x = resize(x, size=self.size)\n",
    "        if self.sigma > 0.:\n",
    "            x = add_gaussian_noise(x, sigma=self.sigma)\n",
    "\n",
    "        # albumentations...\n",
    "        x = x.astype(np.float32)\n",
    "        assert x.ndim == 2\n",
    "        # 1. blur\n",
    "        if _evaluate_ratio(self.blur_ratio):\n",
    "            r = np.random.uniform()\n",
    "            if r < 0.25:\n",
    "                x = apply_aug(A.Blur(p=1.0), x)\n",
    "            elif r < 0.5:\n",
    "                x = apply_aug(A.MedianBlur(blur_limit=5, p=1.0), x)\n",
    "            elif r < 0.75:\n",
    "                x = apply_aug(A.GaussianBlur(p=1.0), x)\n",
    "            else:\n",
    "                x = apply_aug(A.MotionBlur(p=1.0), x)\n",
    "\n",
    "        if _evaluate_ratio(self.noise_ratio):\n",
    "            r = np.random.uniform()\n",
    "            if r < 0.50:\n",
    "                x = apply_aug(A.GaussNoise(var_limit=5. / 255., p=1.0), x)\n",
    "            else:\n",
    "                x = apply_aug(A.MultiplicativeNoise(p=1.0), x)\n",
    "\n",
    "        if _evaluate_ratio(self.cutout_ratio):\n",
    "            # A.Cutout(num_holes=2,  max_h_size=2, max_w_size=2, p=1.0)  # Deprecated...\n",
    "            #x = apply_aug(A.CoarseDropout(max_holes=10, max_height=13, max_width=23, p=1.0), x)\n",
    "            x = apply_aug(A.Cutout(num_holes=40, max_h_size=13, max_w_size=23, p=1), x)\n",
    "\n",
    "        if _evaluate_ratio(self.grid_distortion_ratio):\n",
    "            x = apply_aug(A.GridDistortion(p=1.0), x)\n",
    "\n",
    "        if _evaluate_ratio(self.elastic_distortion_ratio):\n",
    "            x = apply_aug(A.ElasticTransform(\n",
    "                sigma=50, alpha=1, alpha_affine=10, p=1.0), x)\n",
    "\n",
    "        if _evaluate_ratio(self.random_brightness_ratio):\n",
    "            # A.RandomBrightness(p=1.0)  # Deprecated...\n",
    "            # A.RandomContrast(p=1.0)    # Deprecated...\n",
    "            x = apply_aug(A.RandomBrightnessContrast(p=1.0), x)\n",
    "\n",
    "        if _evaluate_ratio(self.piece_affine_ratio):\n",
    "            x = apply_aug(A.IAAPiecewiseAffine(p=1.0), x)\n",
    "\n",
    "        if _evaluate_ratio(self.ssr_ratio):\n",
    "            x = apply_aug(A.ShiftScaleRotate(\n",
    "                shift_limit=0.0625,\n",
    "                scale_limit=0.1,\n",
    "                rotate_limit=30,\n",
    "                p=1.0), x)\n",
    "\n",
    "        if self.normalize:\n",
    "            x = (x.astype(np.float32) - 0.0692) / 0.2051\n",
    "        if x.ndim == 2:\n",
    "            x = x[None, :, :]\n",
    "        x = x.astype(np.float32)\n",
    "        if self.train:\n",
    "            y = y.astype(np.int64)\n",
    "            return x, y\n",
    "        else:\n",
    "            return x"
   ]
  },
  {
   "cell_type": "markdown",
   "metadata": {},
   "source": [
    "<a id=\"model\"></a> \n",
    "# pytorch model & define classifier"
   ]
  },
  {
   "cell_type": "code",
   "execution_count": 15,
   "metadata": {
    "_kg_hide-input": true
   },
   "outputs": [],
   "source": [
    "import torch\n",
    "\n",
    "\n",
    "def residual_add(lhs, rhs):\n",
    "    lhs_ch, rhs_ch = lhs.shape[1], rhs.shape[1]\n",
    "    if lhs_ch < rhs_ch:\n",
    "        out = lhs + rhs[:, :lhs_ch]\n",
    "    elif lhs_ch > rhs_ch:\n",
    "        out = torch.cat([lhs[:, :rhs_ch] + rhs, lhs[:, rhs_ch:]], dim=1)\n",
    "    else:\n",
    "        out = lhs + rhs\n",
    "    return out\n"
   ]
  },
  {
   "cell_type": "code",
   "execution_count": 16,
   "metadata": {
    "_kg_hide-input": true
   },
   "outputs": [],
   "source": [
    "from typing import List\n",
    "\n",
    "import torch\n",
    "from torch import nn\n",
    "from torch.nn.parameter import Parameter\n",
    "\n",
    "\n",
    "class LazyLoadModule(nn.Module):\n",
    "    \"\"\"Lazy buffer/parameter loading using load_state_dict_pre_hook\n",
    "\n",
    "    Define all buffer/parameter in `_lazy_buffer_keys`/`_lazy_parameter_keys` and\n",
    "    save buffer with `register_buffer`/`register_parameter`\n",
    "    method, which can be outside of __init__ method.\n",
    "    Then this module can load any shape of Tensor during de-serializing.\n",
    "\n",
    "    Note that default value of lazy buffer is torch.Tensor([]), while lazy parameter is None.\n",
    "    \"\"\"\n",
    "    _lazy_buffer_keys: List[str] = []     # It needs to be override to register lazy buffer\n",
    "    _lazy_parameter_keys: List[str] = []  # It needs to be override to register lazy parameter\n",
    "\n",
    "    def __init__(self):\n",
    "        super(LazyLoadModule, self).__init__()\n",
    "        for k in self._lazy_buffer_keys:\n",
    "            self.register_buffer(k, torch.tensor([]))\n",
    "        for k in self._lazy_parameter_keys:\n",
    "            self.register_parameter(k, None)\n",
    "        self._register_load_state_dict_pre_hook(self._hook)\n",
    "\n",
    "    def _hook(self, state_dict, prefix, local_metadata, strict, missing_keys,\n",
    "             unexpected_keys, error_msgs):\n",
    "        for key in self._lazy_buffer_keys:\n",
    "            self.register_buffer(key, state_dict[prefix + key])\n",
    "\n",
    "        for key in self._lazy_parameter_keys:\n",
    "            self.register_parameter(key, Parameter(state_dict[prefix + key]))\n"
   ]
  },
  {
   "cell_type": "code",
   "execution_count": 17,
   "metadata": {
    "_kg_hide-input": true
   },
   "outputs": [],
   "source": [
    "import math\n",
    "import torch\n",
    "from torch.nn import init\n",
    "from torch.nn.parameter import Parameter\n",
    "import torch.nn.functional as F\n",
    "\n",
    "\n",
    "class LazyLinear(LazyLoadModule):\n",
    "    \"\"\"Linear module with lazy input inference\n",
    "\n",
    "    `in_features` can be `None`, and it is determined at the first time of forward step dynamically.\n",
    "    \"\"\"\n",
    "\n",
    "    __constants__ = ['bias', 'in_features', 'out_features']\n",
    "    _lazy_parameter_keys = ['weight']\n",
    "\n",
    "    def __init__(self, in_features, out_features, bias=True):\n",
    "        super(LazyLinear, self).__init__()\n",
    "        self.in_features = in_features\n",
    "        self.out_features = out_features\n",
    "        if bias:\n",
    "            self.bias = Parameter(torch.Tensor(out_features))\n",
    "        else:\n",
    "            self.register_parameter('bias', None)\n",
    "\n",
    "        if in_features is not None:\n",
    "            self.weight = Parameter(torch.Tensor(out_features, in_features))\n",
    "            self.reset_parameters()\n",
    "\n",
    "    def reset_parameters(self):\n",
    "        init.kaiming_uniform_(self.weight, a=math.sqrt(5))\n",
    "        if self.bias is not None:\n",
    "            fan_in, _ = init._calculate_fan_in_and_fan_out(self.weight)\n",
    "            bound = 1 / math.sqrt(fan_in)\n",
    "            init.uniform_(self.bias, -bound, bound)\n",
    "\n",
    "    def forward(self, input):\n",
    "        if self.weight is None:\n",
    "            self.in_features = input.shape[-1]\n",
    "            self.weight = Parameter(torch.Tensor(self.out_features, self.in_features))\n",
    "            self.reset_parameters()\n",
    "\n",
    "            # Need to send lazy defined parameter to device...\n",
    "            self.to(input.device)\n",
    "        return F.linear(input, self.weight, self.bias)\n",
    "\n",
    "    def extra_repr(self):\n",
    "        return 'in_features={}, out_features={}, bias={}'.format(\n",
    "            self.in_features, self.out_features, self.bias is not None\n",
    "        )\n"
   ]
  },
  {
   "cell_type": "code",
   "execution_count": 18,
   "metadata": {
    "_kg_hide-input": true
   },
   "outputs": [],
   "source": [
    "from torch import nn\n",
    "import torch.nn.functional as F\n",
    "\n",
    "\n",
    "class LinearBlock(nn.Module):\n",
    "\n",
    "    def __init__(self, in_features, out_features, bias=True,\n",
    "                 use_bn=True, activation=F.relu, dropout_ratio=-1, residual=False,):\n",
    "        super(LinearBlock, self).__init__()\n",
    "        if in_features is None:\n",
    "            self.linear = LazyLinear(in_features, out_features, bias=bias)\n",
    "        else:\n",
    "            self.linear = nn.Linear(in_features, out_features, bias=bias)\n",
    "        if use_bn:\n",
    "            self.bn = nn.BatchNorm1d(out_features)\n",
    "        if dropout_ratio > 0.:\n",
    "            self.dropout = nn.Dropout(p=dropout_ratio)\n",
    "        else:\n",
    "            self.dropout = None\n",
    "        self.activation = activation\n",
    "        self.use_bn = use_bn\n",
    "        self.dropout_ratio = dropout_ratio\n",
    "        self.residual = residual\n",
    "\n",
    "    def __call__(self, x):\n",
    "        h = self.linear(x)\n",
    "        if self.use_bn:\n",
    "            h = self.bn(h)\n",
    "        if self.activation is not None:\n",
    "            h = self.activation(h)\n",
    "        if self.residual:\n",
    "            h = residual_add(h, x)\n",
    "        if self.dropout_ratio > 0:\n",
    "            h = self.dropout(h)\n",
    "        return h"
   ]
  },
  {
   "cell_type": "code",
   "execution_count": 19,
   "metadata": {},
   "outputs": [],
   "source": [
    "import pretrainedmodels\n",
    "import torch\n",
    "from torch import nn\n",
    "import torch.nn.functional as F\n",
    "from torch.nn import Sequential\n",
    "\n",
    "\n",
    "class PretrainedCNN(nn.Module):\n",
    "    def __init__(self, model_name='se_resnext101_32x4d',\n",
    "                 in_channels=1, out_dim=10, use_bn=True,\n",
    "                 pretrained='imagenet'):\n",
    "        super(PretrainedCNN, self).__init__()\n",
    "        self.conv0 = nn.Conv2d(\n",
    "            in_channels, 3, kernel_size=3, stride=1, padding=1, bias=True)\n",
    "        self.base_model = pretrainedmodels.__dict__[model_name](pretrained=pretrained)\n",
    "        activation = F.leaky_relu\n",
    "        self.do_pooling = True\n",
    "        if self.do_pooling:\n",
    "            inch = self.base_model.last_linear.in_features\n",
    "        else:\n",
    "            inch = None\n",
    "        hdim = 512\n",
    "        lin1 = LinearBlock(inch, hdim, use_bn=use_bn, activation=activation, residual=False)\n",
    "        lin2 = LinearBlock(hdim, out_dim, use_bn=use_bn, activation=None, residual=False)\n",
    "        self.lin_layers = Sequential(lin1, lin2)\n",
    "\n",
    "    def forward(self, x):\n",
    "        h = self.conv0(x)\n",
    "        h = self.base_model.features(h)\n",
    "\n",
    "        if self.do_pooling:\n",
    "            h = torch.sum(h, dim=(-1, -2))\n",
    "        else:\n",
    "            # [128, 2048, 4, 4] when input is (128, 128)\n",
    "            bs, ch, height, width = h.shape\n",
    "            h = h.view(bs, ch*height*width)\n",
    "        for layer in self.lin_layers:\n",
    "            h = layer(h)\n",
    "        return h"
   ]
  },
  {
   "cell_type": "markdown",
   "metadata": {},
   "source": [
    "## Cutmix"
   ]
  },
  {
   "cell_type": "code",
   "execution_count": 20,
   "metadata": {},
   "outputs": [],
   "source": [
    "import torch\n",
    "import numpy as np\n",
    "\n",
    "def rand_bbox(size, lam):\n",
    "    W = size[2]\n",
    "    H = size[3]\n",
    "    cut_rat = np.sqrt(1. - lam)\n",
    "    cut_w = np.int(W * cut_rat)\n",
    "    cut_h = np.int(H * cut_rat)\n",
    "\n",
    "    # uniform\n",
    "    cx = np.random.randint(W)\n",
    "    cy = np.random.randint(H)\n",
    "\n",
    "    bbx1 = np.clip(cx - cut_w // 2, 0, W)\n",
    "    bby1 = np.clip(cy - cut_h // 2, 0, H)\n",
    "    bbx2 = np.clip(cx + cut_w // 2, 0, W)\n",
    "    bby2 = np.clip(cy + cut_h // 2, 0, H)\n",
    "\n",
    "    return bbx1, bby1, bbx2, bby2\n",
    "\n",
    "def cutmix(data, targets1, targets2, targets3, alpha):\n",
    "    indices = torch.randperm(data.size(0))\n",
    "    shuffled_data = data[indices]\n",
    "    shuffled_targets1 = targets1[indices]\n",
    "    shuffled_targets2 = targets2[indices]\n",
    "    shuffled_targets3 = targets3[indices]\n",
    "\n",
    "    lam = np.random.beta(alpha, alpha)\n",
    "    bbx1, bby1, bbx2, bby2 = rand_bbox(data.size(), lam)\n",
    "    data[:, :, bbx1:bbx2, bby1:bby2] = data[indices, :, bbx1:bbx2, bby1:bby2]\n",
    "    # adjust lambda to exactly match pixel ratio\n",
    "    lam = 1 - ((bbx2 - bbx1) * (bby2 - bby1) / (data.size()[-1] * data.size()[-2]))\n",
    "\n",
    "    targets = [targets1, shuffled_targets1, targets2, shuffled_targets2, targets3, shuffled_targets3, lam]\n",
    "    return data, targets\n",
    "\n",
    "def mixup(data, targets1, targets2, targets3, alpha):\n",
    "    indices = torch.randperm(data.size(0))\n",
    "    shuffled_data = data[indices]\n",
    "    shuffled_targets1 = targets1[indices]\n",
    "    shuffled_targets2 = targets2[indices]\n",
    "    shuffled_targets3 = targets3[indices]\n",
    "\n",
    "    lam = np.random.beta(alpha, alpha)\n",
    "    data = data * lam + shuffled_data * (1 - lam)\n",
    "    targets = [targets1, shuffled_targets1, targets2, shuffled_targets2, targets3, shuffled_targets3, lam]\n",
    "\n",
    "    return data, targets\n",
    "\n",
    "def cutmix_criterion(preds1,preds2,preds3, targets):\n",
    "    targets1, targets2,targets3, targets4,targets5, targets6, lam = targets[0], targets[1], targets[2], targets[3], targets[4], targets[5], targets[6]\n",
    "    criterion = nn.CrossEntropyLoss(reduction='mean')\n",
    "    return lam * criterion(preds1, targets1) + (1 - lam) * criterion(preds1, targets2) + lam * criterion(preds2, targets3) + (1 - lam) * criterion(preds2, targets4) + lam * criterion(preds3, targets5) + (1 - lam) * criterion(preds3, targets6)\n",
    "\n",
    "def mixup_criterion(preds1,preds2,preds3, targets):\n",
    "    targets1, targets2,targets3, targets4,targets5, targets6, lam = targets[0], targets[1], targets[2], targets[3], targets[4], targets[5], targets[6]\n",
    "    criterion = nn.CrossEntropyLoss(reduction='mean')\n",
    "    return lam * criterion(preds1, targets1) + (1 - lam) * criterion(preds1, targets2) + lam * criterion(preds2, targets3) + (1 - lam) * criterion(preds2, targets4) + lam * criterion(preds3, targets5) + (1 - lam) * criterion(preds3, targets6)\n"
   ]
  },
  {
   "cell_type": "markdown",
   "metadata": {},
   "source": [
    "## Classifier with cutmix"
   ]
  },
  {
   "cell_type": "code",
   "execution_count": 21,
   "metadata": {
    "_kg_hide-input": true
   },
   "outputs": [],
   "source": [
    "import torch\n",
    "from torch import nn\n",
    "import torch.nn.functional as F\n",
    "from tqdm import tqdm\n",
    "\n",
    "\n",
    "def accuracy(y, t):\n",
    "    pred_label = torch.argmax(y, dim=1)\n",
    "    count = pred_label.shape[0]\n",
    "    correct = (pred_label == t).sum().type(torch.float32)\n",
    "    acc = correct / count\n",
    "    return acc\n",
    "\n",
    "\n",
    "class BengaliClassifier(nn.Module):\n",
    "    def __init__(self, predictor, use_mixup=False, n_grapheme=168, n_vowel=11, n_consonant=7):\n",
    "        super(BengaliClassifier, self).__init__()\n",
    "        self.n_grapheme = n_grapheme\n",
    "        self.n_vowel = n_vowel\n",
    "        self.n_consonant = n_consonant\n",
    "        self.n_total_class = self.n_grapheme + self.n_vowel + self.n_consonant\n",
    "        self.predictor = predictor\n",
    "        self.use_mixup = use_mixup\n",
    "        self.is_train = True\n",
    "        if self.is_train:\n",
    "            self.metrics_keys = ['loss', 'acc_grapheme', 'acc_vowel', 'acc_consonant']\n",
    "        else:\n",
    "            self.metrics_keys = [\n",
    "                'loss', 'loss_grapheme', 'loss_vowel', 'loss_consonant',\n",
    "                'acc_grapheme', 'acc_vowel', 'acc_consonant']\n",
    "    def apply_mixup(self, x, y):\n",
    "        assert y is not None\n",
    "        \n",
    "        if np.random.rand()<0.9:\n",
    "            data, target = cutmix(x, y[:, 0], y[:, 1], y[:, 2], 1)\n",
    "            pred = self.predictor(data)\n",
    "            if isinstance(pred, tuple):\n",
    "                assert len(pred) == 3\n",
    "                preds = pred\n",
    "            else:\n",
    "                assert pred.shape[1] == self.n_total_class\n",
    "                preds = torch.split(pred, [self.n_grapheme, self.n_vowel, self.n_consonant], dim=1)\n",
    "            loss = cutmix_criterion(preds[0], preds[1], preds[2], target)\n",
    "        else:\n",
    "            data, target = mixup(x, y[:, 0], y[:, 1], y[:, 2], 1)\n",
    "            pred = self.predictor(data)\n",
    "            if isinstance(pred, tuple):\n",
    "                assert len(pred) == 3\n",
    "                preds = pred\n",
    "            else:\n",
    "                assert pred.shape[1] == self.n_total_class\n",
    "                preds = torch.split(pred, [self.n_grapheme, self.n_vowel, self.n_consonant], dim=1)\n",
    "            loss = mixup_criterion(preds[0], preds[1], preds[2], target)\n",
    "            \n",
    "        acc_grapheme = accuracy(preds[0], y[:, 0]).item(),\n",
    "        acc_vowel = accuracy(preds[1], y[:, 1]).item(),\n",
    "        acc_consonant = accuracy(preds[2], y[:, 2]).item(),\n",
    "        \n",
    "        return loss, pred, acc_grapheme, acc_vowel, acc_consonant\n",
    "\n",
    "    def forward(self, x, y=None):\n",
    "        \n",
    "        if self.use_mixup and self.is_train:\n",
    "            loss, pred, acc_grapheme, acc_vowel, acc_consonant = self.apply_mixup(x, y)\n",
    "            metrics = {\n",
    "                'loss': loss.item(),\n",
    "                'acc_grapheme': acc_grapheme[0],\n",
    "                'acc_vowel': acc_vowel[0],\n",
    "                'acc_consonant': acc_consonant[0]\n",
    "            }\n",
    "        else:\n",
    "            pred = self.predictor(x)\n",
    "            if isinstance(pred, tuple):\n",
    "                assert len(pred) == 3\n",
    "                preds = pred\n",
    "            else:\n",
    "                assert pred.shape[1] == self.n_total_class\n",
    "                preds = torch.split(pred, [self.n_grapheme, self.n_vowel, self.n_consonant], dim=1)\n",
    "            \n",
    "            loss_grapheme = F.cross_entropy(preds[0], y[:, 0])\n",
    "            loss_vowel = F.cross_entropy(preds[1], y[:, 1])\n",
    "            loss_consonant = F.cross_entropy(preds[2], y[:, 2])\n",
    "            \n",
    "            loss = loss_grapheme + loss_vowel + loss_consonant\n",
    "            metrics = {\n",
    "                'loss': loss.item(),\n",
    "                'loss_grapheme': loss_grapheme.item(),\n",
    "                'loss_vowel': loss_vowel.item(),\n",
    "                'loss_consonant': loss_consonant.item(),\n",
    "                'acc_grapheme': accuracy(preds[0], y[:, 0]),\n",
    "                'acc_vowel': accuracy(preds[1], y[:, 1]),\n",
    "                'acc_consonant': accuracy(preds[2], y[:, 2]),\n",
    "            }\n",
    "        return loss, metrics, pred\n",
    "\n",
    "    def calc(self, data_loader):\n",
    "        device: torch.device = next(self.parameters()).device\n",
    "        self.eval()\n",
    "        output_list = []\n",
    "        with torch.no_grad():\n",
    "            for batch in tqdm(data_loader):\n",
    "                # TODO: support general preprocessing.\n",
    "                # If `data` is not `Data` instance, `to` method is not supported!\n",
    "                batch = batch.to(device)\n",
    "                pred = self.predictor(batch)\n",
    "                output_list.append(pred)\n",
    "        output = torch.cat(output_list, dim=0)\n",
    "        preds = torch.split(output, [self.n_grapheme, self.n_vowel, self.n_consonant], dim=1)\n",
    "        return preds\n",
    "\n",
    "    def predict_proba(self, data_loader):\n",
    "        preds = self.calc(data_loader)\n",
    "        return [F.softmax(p, dim=1) for p in preds]\n",
    "\n",
    "    def predict(self, data_loader):\n",
    "        preds = self.calc(data_loader)\n",
    "        pred_labels = [torch.argmax(p, dim=1) for p in preds]\n",
    "        return pred_labels"
   ]
  },
  {
   "cell_type": "markdown",
   "metadata": {},
   "source": [
    "<a id=\"train\"></a>\n",
    "# Training code"
   ]
  },
  {
   "cell_type": "markdown",
   "metadata": {},
   "source": [
    "## prepare data"
   ]
  },
  {
   "cell_type": "code",
   "execution_count": 22,
   "metadata": {},
   "outputs": [],
   "source": [
    "train_transform = Transform(size=(image_size, image_size), threshold=20., gridmask=False, cutout_ratio=1.0)\n",
    "\n",
    "valid_transform = Transform(size=(image_size, image_size), threshold=20., gridmask=False)"
   ]
  },
  {
   "cell_type": "code",
   "execution_count": 23,
   "metadata": {},
   "outputs": [
    {
     "name": "stdout",
     "output_type": "stream",
     "text": [
      "CPU times: user 4 µs, sys: 5 µs, total: 9 µs\n",
      "Wall time: 13.4 µs\n"
     ]
    }
   ],
   "source": [
    "%%time\n",
    "msss = MultilabelStratifiedShuffleSplit(n_splits=1, test_size=0.2 ,random_state=SEED)"
   ]
  },
  {
   "cell_type": "code",
   "execution_count": 24,
   "metadata": {},
   "outputs": [],
   "source": [
    "for tr, val in msss.split(train_images, train_labels):\n",
    "    tr_idx = tr\n",
    "    val_idx = val"
   ]
  },
  {
   "cell_type": "code",
   "execution_count": 25,
   "metadata": {
    "_kg_hide-input": true
   },
   "outputs": [
    {
     "name": "stdout",
     "output_type": "stream",
     "text": [
      "train_dataset 160672 valid_dataset 40168\n"
     ]
    }
   ],
   "source": [
    "#n_dataset = len(train_images)\n",
    "#train_data_size = 200 if debug else int(n_dataset * 0.8)\n",
    "#valid_data_size = 100 if debug else int(n_dataset - train_data_size)\n",
    "\n",
    "#perm = np.random.RandomState(777).permutation(n_dataset)\n",
    "#print('perm', perm)\n",
    "\n",
    "train_dataset = BengaliAIDataset(\n",
    "    train_images, train_labels, transform=train_transform,\n",
    "    indices=tr_idx)\n",
    "\n",
    "valid_dataset = BengaliAIDataset(\n",
    "    train_images, train_labels, transform=valid_transform,\n",
    "    indices=val_idx)\n",
    "print('train_dataset', len(train_dataset), 'valid_dataset', len(valid_dataset))"
   ]
  },
  {
   "cell_type": "code",
   "execution_count": 26,
   "metadata": {},
   "outputs": [
    {
     "name": "stdout",
     "output_type": "stream",
     "text": [
      "n_total 186\n",
      "predictor <class '__main__.PretrainedCNN'>\n"
     ]
    }
   ],
   "source": [
    "# --- Model ---\n",
    "device = torch.device(device)\n",
    "n_grapheme = 168\n",
    "n_vowel = 11\n",
    "n_consonant = 7\n",
    "n_total = n_grapheme + n_vowel + n_consonant\n",
    "print('n_total', n_total)\n",
    "# Set pretrained='imagenet' to download imagenet pretrained model...\n",
    "predictor = PretrainedCNN(in_channels=1, out_dim=n_total, model_name=model_name, pretrained=None)\n",
    "print('predictor', type(predictor))\n",
    "\n",
    "classifier = BengaliClassifier(predictor, use_mixup=True).to(device)"
   ]
  },
  {
   "cell_type": "markdown",
   "metadata": {},
   "source": [
    "## Ignite utility\n",
    "\n",
    "pytorch-ignite utility class for training"
   ]
  },
  {
   "cell_type": "code",
   "execution_count": 27,
   "metadata": {
    "_kg_hide-input": true
   },
   "outputs": [],
   "source": [
    "import json\n",
    "from logging import getLogger\n",
    "import numpy\n",
    "\n",
    "def save_json(filepath, params):\n",
    "    with open(filepath, 'w') as f:\n",
    "        json.dump(params, f, indent=4)"
   ]
  },
  {
   "cell_type": "code",
   "execution_count": 28,
   "metadata": {
    "_kg_hide-input": true
   },
   "outputs": [],
   "source": [
    "import os\n",
    "from logging import getLogger\n",
    "from time import perf_counter\n",
    "\n",
    "import pandas as pd\n",
    "import torch\n",
    "# from chainer_chemistry.utils import save_json\n",
    "\n",
    "from ignite.engine.engine import Engine, Events\n",
    "from ignite.metrics import Average\n",
    "\n",
    "\n",
    "class DictOutputTransform:\n",
    "    def __init__(self, key, index=0):\n",
    "        self.key = key\n",
    "        self.index = index\n",
    "\n",
    "    def __call__(self, x):\n",
    "        if self.index >= 0:\n",
    "            x = x[self.index]\n",
    "        return x[self.key]\n",
    "\n",
    "\n",
    "def create_trainer(classifier, optimizer, device):\n",
    "    \n",
    "    classifier.to(device)\n",
    "\n",
    "    def update_fn(engine, batch):\n",
    "        classifier.is_train = True\n",
    "        classifier.train()\n",
    "        optimizer.zero_grad()\n",
    "        # batch = [elem.to(device) for elem in batch]\n",
    "        x, y = [elem.to(device) for elem in batch]\n",
    "        loss, metrics, pred_y = classifier(x, y)\n",
    "        loss.backward()\n",
    "        optimizer.step()\n",
    "        return metrics, pred_y, y\n",
    "    trainer = Engine(update_fn)\n",
    "\n",
    "    for key in classifier.metrics_keys:\n",
    "        Average(output_transform=DictOutputTransform(key)).attach(trainer, key)\n",
    "    return trainer\n",
    "\n",
    "\n",
    "def create_evaluator(classifier, device):\n",
    "    \n",
    "    classifier.to(device)\n",
    "\n",
    "    def update_fn(engine, batch):\n",
    "        classifier.is_train = False\n",
    "        classifier.eval()\n",
    "        with torch.no_grad():\n",
    "            # batch = [elem.to(device) for elem in batch]\n",
    "            x, y = [elem.to(device) for elem in batch]\n",
    "            _, metrics, pred_y = classifier(x, y)\n",
    "            return metrics, pred_y, y\n",
    "    evaluator = Engine(update_fn)\n",
    "\n",
    "    for key in classifier.metrics_keys + ['loss_grapheme', 'loss_vowel', 'loss_consonant']:\n",
    "        Average(output_transform=DictOutputTransform(key)).attach(evaluator, key)\n",
    "    return evaluator\n",
    "\n",
    "class LogReport:\n",
    "    def __init__(self, evaluator=None, dirpath=None, logger=None):\n",
    "        self.evaluator = evaluator\n",
    "        self.dirpath = str(dirpath) if dirpath is not None else None\n",
    "        self.logger = logger or getLogger(__name__)\n",
    "\n",
    "        self.reported_dict = {}  # To handle additional parameter to monitor\n",
    "        self.history = []\n",
    "        self.start_time = perf_counter()\n",
    "\n",
    "    def report(self, key, value):\n",
    "        self.reported_dict[key] = value\n",
    "\n",
    "    def __call__(self, engine):\n",
    "        elapsed_time = perf_counter() - self.start_time\n",
    "        elem = {'epoch': engine.state.epoch,\n",
    "                'iteration': engine.state.iteration}\n",
    "        elem.update({f'train/{key}': value\n",
    "                     for key, value in engine.state.metrics.items()})\n",
    "        if self.evaluator is not None:\n",
    "            elem.update({f'valid/{key}': value\n",
    "                         for key, value in self.evaluator.state.metrics.items()})\n",
    "        elem.update(self.reported_dict)\n",
    "        elem['elapsed_time'] = elapsed_time\n",
    "        self.history.append(elem)\n",
    "        if self.dirpath:\n",
    "            save_json(os.path.join(self.dirpath, 'log.json'), self.history)\n",
    "            self.get_dataframe().to_csv(os.path.join(self.dirpath, 'log.csv'), index=False)\n",
    "\n",
    "        # --- print ---\n",
    "        msg = ''\n",
    "        for key, value in elem.items():\n",
    "            if key in ['iteration']:\n",
    "                # skip printing some parameters...\n",
    "                continue\n",
    "            elif isinstance(value, int):\n",
    "                msg += f'{key} {value: >6d} '\n",
    "            else:\n",
    "                msg += f'{key} {value: 8f} '\n",
    "#         self.logger.warning(msg)\n",
    "        print(msg)\n",
    "\n",
    "        # --- Reset ---\n",
    "        self.reported_dict = {}\n",
    "\n",
    "    def get_dataframe(self):\n",
    "        df = pd.DataFrame(self.history)\n",
    "        return df\n",
    "\n",
    "\n",
    "class SpeedCheckHandler:\n",
    "    def __init__(self, iteration_interval=10, logger=None):\n",
    "        self.iteration_interval = iteration_interval\n",
    "        self.logger = logger or getLogger(__name__)\n",
    "        self.prev_time = perf_counter()\n",
    "\n",
    "    def __call__(self, engine: Engine):\n",
    "        if engine.state.iteration % self.iteration_interval == 0:\n",
    "            cur_time = perf_counter()\n",
    "            spd = self.iteration_interval / (cur_time - self.prev_time)\n",
    "            self.logger.warning(f'{spd} iter/sec')\n",
    "            # reset\n",
    "            self.prev_time = cur_time\n",
    "\n",
    "    def attach(self, engine: Engine):\n",
    "        engine.add_event_handler(Events.ITERATION_COMPLETED, self)\n",
    "\n",
    "\n",
    "class ModelSnapshotHandler:\n",
    "    def __init__(self, model, filepath='model_{count:06}.pt',\n",
    "                 interval=1, logger=None):\n",
    "        self.model = model\n",
    "        self.filepath: str = str(filepath)\n",
    "        self.interval = interval\n",
    "        self.logger = logger or getLogger(__name__)\n",
    "        self.count = 0\n",
    "\n",
    "    def __call__(self, engine: Engine):\n",
    "        self.count += 1\n",
    "        if self.count % self.interval == 0:\n",
    "            filepath = self.filepath.format(count=self.count)\n",
    "            torch.save(self.model.state_dict(), filepath)\n",
    "            # self.logger.warning(f'save model to {filepath}...')\n"
   ]
  },
  {
   "cell_type": "code",
   "execution_count": 29,
   "metadata": {
    "_kg_hide-input": true
   },
   "outputs": [],
   "source": [
    "import warnings\n",
    "\n",
    "import torch\n",
    "\n",
    "from ignite.metrics.metric import Metric\n",
    "\n",
    "\n",
    "class EpochMetric(Metric):\n",
    "    \"\"\"Class for metrics that should be computed on the entire output history of a model.\n",
    "    Model's output and targets are restricted to be of shape `(batch_size, n_classes)`. Output\n",
    "    datatype should be `float32`. Target datatype should be `long`.\n",
    "\n",
    "    .. warning::\n",
    "\n",
    "        Current implementation stores all input data (output and target) in as tensors before computing a metric.\n",
    "        This can potentially lead to a memory error if the input data is larger than available RAM.\n",
    "\n",
    "\n",
    "    - `update` must receive output of the form `(y_pred, y)`.\n",
    "\n",
    "    If target shape is `(batch_size, n_classes)` and `n_classes > 1` than it should be binary: e.g. `[[0, 1, 0, 1], ]`.\n",
    "\n",
    "    Args:\n",
    "        compute_fn (callable): a callable with the signature (`torch.tensor`, `torch.tensor`) takes as the input\n",
    "            `predictions` and `targets` and returns a scalar.\n",
    "        output_transform (callable, optional): a callable that is used to transform the\n",
    "            :class:`~ignite.engine.Engine`'s `process_function`'s output into the\n",
    "            form expected by the metric. This can be useful if, for example, you have a multi-output model and\n",
    "            you want to compute the metric with respect to one of the outputs.\n",
    "\n",
    "    \"\"\"\n",
    "\n",
    "    def __init__(self, compute_fn, output_transform=lambda x: x):\n",
    "\n",
    "        if not callable(compute_fn):\n",
    "            raise TypeError(\"Argument compute_fn should be callable.\")\n",
    "\n",
    "        super(EpochMetric, self).__init__(output_transform=output_transform)\n",
    "        self.compute_fn = compute_fn\n",
    "\n",
    "    def reset(self):\n",
    "        self._predictions = torch.tensor([], dtype=torch.float32)\n",
    "        self._targets = torch.tensor([], dtype=torch.long)\n",
    "\n",
    "    def update(self, output):\n",
    "        y_pred, y = output\n",
    "        self._predictions = torch.cat([self._predictions, y_pred], dim=0)\n",
    "        self._targets = torch.cat([self._targets, y], dim=0)\n",
    "\n",
    "        # Check once the signature and execution of compute_fn\n",
    "        if self._predictions.shape == y_pred.shape:\n",
    "            try:\n",
    "                self.compute_fn(self._predictions, self._targets)\n",
    "            except Exception as e:\n",
    "                warnings.warn(\"Probably, there can be a problem with `compute_fn`:\\n {}.\".format(e),\n",
    "                              RuntimeWarning)\n",
    "\n",
    "    def compute(self):\n",
    "        return self.compute_fn(self._predictions, self._targets)\n"
   ]
  },
  {
   "cell_type": "code",
   "execution_count": 30,
   "metadata": {
    "_kg_hide-input": true
   },
   "outputs": [],
   "source": [
    "import numpy as np\n",
    "import sklearn.metrics\n",
    "import torch\n",
    "\n",
    "\n",
    "def macro_recall(pred_y, y, n_grapheme=168, n_vowel=11, n_consonant=7):\n",
    "    pred_y = torch.split(pred_y, [n_grapheme, n_vowel, n_consonant], dim=1)\n",
    "    pred_labels = [torch.argmax(py, dim=1).cpu().numpy() for py in pred_y]\n",
    "\n",
    "    y = y.cpu().numpy()\n",
    "    # pred_y = [p.cpu().numpy() for p in pred_y]\n",
    "\n",
    "    recall_grapheme = sklearn.metrics.recall_score(pred_labels[0], y[:, 0], average='macro')\n",
    "    recall_vowel = sklearn.metrics.recall_score(pred_labels[1], y[:, 1], average='macro')\n",
    "    recall_consonant = sklearn.metrics.recall_score(pred_labels[2], y[:, 2], average='macro')\n",
    "    scores = [recall_grapheme, recall_vowel, recall_consonant]\n",
    "    final_score = np.average(scores, weights=[2, 1, 1])\n",
    "    # print(f'recall: grapheme {recall_grapheme}, vowel {recall_vowel}, consonant {recall_consonant}, '\n",
    "    #       f'total {final_score}, y {y.shape}')\n",
    "    return final_score\n",
    "\n",
    "\n",
    "def calc_macro_recall(solution, submission):\n",
    "    # solution df, submission df\n",
    "    scores = []\n",
    "    for component in ['grapheme_root', 'consonant_diacritic', 'vowel_diacritic']:\n",
    "        y_true_subset = solution[solution[component] == component]['target'].values\n",
    "        y_pred_subset = submission[submission[component] == component]['target'].values\n",
    "        scores.append(sklearn.metrics.recall_score(\n",
    "            y_true_subset, y_pred_subset, average='macro'))\n",
    "    final_score = np.average(scores, weights=[2, 1, 1])\n",
    "    return final_score\n"
   ]
  },
  {
   "cell_type": "code",
   "execution_count": 31,
   "metadata": {
    "_kg_hide-output": true
   },
   "outputs": [
    {
     "data": {
      "text/plain": [
       "<ignite.engine.events.RemovableEventHandle at 0x7f978dd663d0>"
      ]
     },
     "execution_count": 31,
     "metadata": {},
     "output_type": "execute_result"
    }
   ],
   "source": [
    "import argparse\n",
    "from distutils.util import strtobool\n",
    "import os\n",
    "\n",
    "import torch\n",
    "from ignite.contrib.handlers import ProgressBar\n",
    "from ignite.engine import Events\n",
    "from numpy.random.mtrand import RandomState\n",
    "from torch.utils.data.dataloader import DataLoader\n",
    "\n",
    "# --- Training setting ---\n",
    "\n",
    "train_loader = DataLoader(train_dataset, batch_size=batch_size, shuffle=True, num_workers=8)\n",
    "valid_loader = DataLoader(valid_dataset, batch_size=batch_size, shuffle=False, num_workers=8)\n",
    "\n",
    "\n",
    "optimizer = torch.optim.Adam(classifier.parameters(), lr=0.001)\n",
    "scheduler = torch.optim.lr_scheduler.ReduceLROnPlateau(\n",
    "    optimizer, mode='max', factor=0.7, patience=5, min_lr=1e-10)\n",
    "\n",
    "trainer = create_trainer(classifier, optimizer, device)\n",
    "def output_transform(output):\n",
    "    metric, pred_y, y = output\n",
    "    return pred_y.cpu(), y.cpu()\n",
    "EpochMetric(\n",
    "    compute_fn=macro_recall,\n",
    "    output_transform=output_transform\n",
    ").attach(trainer, 'recall')\n",
    "\n",
    "pbar = ProgressBar()\n",
    "pbar.attach(trainer, metric_names='all')\n",
    "\n",
    "evaluator = create_evaluator(classifier, device)\n",
    "EpochMetric(\n",
    "    compute_fn=macro_recall,\n",
    "    output_transform=output_transform\n",
    ").attach(evaluator, 'recall')\n",
    "\n",
    "def run_evaluator(engine):\n",
    "    evaluator.run(valid_loader)\n",
    "\n",
    "def schedule_lr(engine):\n",
    "    metrics = evaluator.state.metrics\n",
    "    #metrics = engine.state.metrics\n",
    "    avg_mae = metrics['recall']\n",
    "\n",
    "    # --- update lr ---\n",
    "    lr = scheduler.optimizer.param_groups[0]['lr']\n",
    "    scheduler.step(avg_mae)\n",
    "    log_report.report('lr', lr)\n",
    "\n",
    "def score_fn(engine):\n",
    "    recall = evaluator.state.metrics['recall']\n",
    "    return recall\n",
    "\n",
    "trainer.add_event_handler(Events.EPOCH_COMPLETED, run_evaluator)\n",
    "trainer.add_event_handler(Events.EPOCH_COMPLETED, schedule_lr)\n",
    "log_report = LogReport(evaluator, outdir)\n",
    "trainer.add_event_handler(Events.EPOCH_COMPLETED, log_report)\n",
    "trainer.add_event_handler(\n",
    "    Events.EPOCH_COMPLETED,\n",
    "    ModelSnapshotHandler(predictor, filepath=outdir / '128_cutmixup_v3_cutout_v4.pt'))\n",
    "\n",
    "from ignite.handlers import Checkpoint, DiskSaver, global_step_from_engine\n",
    "\n",
    "to_save = {'model': predictor}\n",
    "handler = Checkpoint(to_save, DiskSaver('../bengali/model/128_cutmixup_v3_cutout_v4/', require_empty=False), \n",
    "                     n_saved=1, filename_prefix='best_128_cutmixup_v3_cutout_v4', score_function=score_fn,\n",
    "                    score_name='recall', global_step_transform=global_step_from_engine(trainer))\n",
    "\n",
    "evaluator.add_event_handler(Events.COMPLETED, handler)\n"
   ]
  },
  {
   "cell_type": "code",
   "execution_count": 32,
   "metadata": {
    "scrolled": true
   },
   "outputs": [
    {
     "name": "stderr",
     "output_type": "stream",
     "text": [
      "                                                        \r"
     ]
    },
    {
     "name": "stdout",
     "output_type": "stream",
     "text": [
      "epoch      1 train/loss  7.836130 train/acc_grapheme  0.054059 train/acc_vowel  0.402381 train/acc_consonant  0.586964 train/recall  0.171760 valid/loss  4.226827 valid/acc_grapheme  0.337629 valid/acc_vowel  0.836780 valid/acc_consonant  0.884137 valid/loss_grapheme  2.847071 valid/loss_vowel  0.758010 valid/loss_consonant  0.621745 valid/recall  0.606905 lr  0.001000 elapsed_time  385.937914 \n"
     ]
    },
    {
     "name": "stderr",
     "output_type": "stream",
     "text": [
      "                                                                                                                                            \r"
     ]
    },
    {
     "name": "stdout",
     "output_type": "stream",
     "text": [
      "epoch      2 train/loss  6.084412 train/acc_grapheme  0.187170 train/acc_vowel  0.513137 train/acc_consonant  0.691257 train/recall  0.367037 valid/loss  2.301760 valid/acc_grapheme  0.686202 valid/acc_vowel  0.933850 valid/acc_consonant  0.933822 valid/loss_grapheme  1.401336 valid/loss_vowel  0.516825 valid/loss_consonant  0.383600 valid/recall  0.861589 lr  0.001000 elapsed_time  774.454072 \n"
     ]
    },
    {
     "name": "stderr",
     "output_type": "stream",
     "text": [
      "                                                                                                                                           \r"
     ]
    },
    {
     "name": "stdout",
     "output_type": "stream",
     "text": [
      "epoch      3 train/loss  5.589835 train/acc_grapheme  0.250554 train/acc_vowel  0.527394 train/acc_consonant  0.704381 train/recall  0.423812 valid/loss  1.623074 valid/acc_grapheme  0.847501 valid/acc_vowel  0.950350 valid/acc_consonant  0.941609 valid/loss_grapheme  0.868123 valid/loss_vowel  0.431858 valid/loss_consonant  0.323093 valid/recall  0.900644 lr  0.001000 elapsed_time  1163.788972 \n"
     ]
    },
    {
     "name": "stderr",
     "output_type": "stream",
     "text": [
      "                                                                                                                                           \r"
     ]
    },
    {
     "name": "stdout",
     "output_type": "stream",
     "text": [
      "epoch      4 train/loss  5.297098 train/acc_grapheme  0.298971 train/acc_vowel  0.554233 train/acc_consonant  0.715858 train/recall  0.457415 valid/loss  1.714419 valid/acc_grapheme  0.864246 valid/acc_vowel  0.954911 valid/acc_consonant  0.937622 valid/loss_grapheme  0.890794 valid/loss_vowel  0.475632 valid/loss_consonant  0.347993 valid/recall  0.920269 lr  0.001000 elapsed_time  1549.813730 \n"
     ]
    },
    {
     "name": "stderr",
     "output_type": "stream",
     "text": [
      "                                                                                                                                          \r"
     ]
    },
    {
     "name": "stdout",
     "output_type": "stream",
     "text": [
      "epoch      5 train/loss  5.140829 train/acc_grapheme  0.308619 train/acc_vowel  0.552877 train/acc_consonant  0.715117 train/recall  0.459255 valid/loss  1.393389 valid/acc_grapheme  0.897017 valid/acc_vowel  0.965900 valid/acc_consonant  0.965711 valid/loss_grapheme  0.688821 valid/loss_vowel  0.417074 valid/loss_consonant  0.287495 valid/recall  0.935419 lr  0.001000 elapsed_time  1939.109275 \n"
     ]
    },
    {
     "name": "stderr",
     "output_type": "stream",
     "text": [
      "                                                                                                                                           \r"
     ]
    },
    {
     "name": "stdout",
     "output_type": "stream",
     "text": [
      "epoch      6 train/loss  5.011945 train/acc_grapheme  0.330762 train/acc_vowel  0.566170 train/acc_consonant  0.722917 train/recall  0.480404 valid/loss  1.110319 valid/acc_grapheme  0.911058 valid/acc_vowel  0.974985 valid/acc_consonant  0.971403 valid/loss_grapheme  0.560993 valid/loss_vowel  0.315497 valid/loss_consonant  0.233829 valid/recall  0.938225 lr  0.001000 elapsed_time  2328.947195 \n"
     ]
    },
    {
     "name": "stderr",
     "output_type": "stream",
     "text": [
      "                                                                                                                                          \r"
     ]
    },
    {
     "name": "stdout",
     "output_type": "stream",
     "text": [
      "epoch      7 train/loss  4.728545 train/acc_grapheme  0.369352 train/acc_vowel  0.594801 train/acc_consonant  0.738630 train/recall  0.517371 valid/loss  0.993317 valid/acc_grapheme  0.919175 valid/acc_vowel  0.973562 valid/acc_consonant  0.975544 valid/loss_grapheme  0.487202 valid/loss_vowel  0.294125 valid/loss_consonant  0.211989 valid/recall  0.942688 lr  0.001000 elapsed_time  2717.503848 \n"
     ]
    },
    {
     "name": "stderr",
     "output_type": "stream",
     "text": [
      "                                                                                                                                           \r"
     ]
    },
    {
     "name": "stdout",
     "output_type": "stream",
     "text": [
      "epoch      8 train/loss  4.711841 train/acc_grapheme  0.376561 train/acc_vowel  0.598135 train/acc_consonant  0.739606 train/recall  0.519158 valid/loss  2.296458 valid/acc_grapheme  0.840561 valid/acc_vowel  0.692007 valid/acc_consonant  0.945690 valid/loss_grapheme  0.824504 valid/loss_vowel  1.155512 valid/loss_consonant  0.316441 valid/recall  0.890116 lr  0.001000 elapsed_time  3102.453282 \n"
     ]
    },
    {
     "name": "stderr",
     "output_type": "stream",
     "text": [
      "                                                                                                                                          \r"
     ]
    },
    {
     "name": "stdout",
     "output_type": "stream",
     "text": [
      "epoch      9 train/loss  4.645899 train/acc_grapheme  0.389207 train/acc_vowel  0.609767 train/acc_consonant  0.746591 train/recall  0.532673 valid/loss  1.828010 valid/acc_grapheme  0.891140 valid/acc_vowel  0.740674 valid/acc_consonant  0.955106 valid/loss_grapheme  0.696740 valid/loss_vowel  0.831334 valid/loss_consonant  0.299936 valid/recall  0.909241 lr  0.001000 elapsed_time  3490.959394 \n"
     ]
    },
    {
     "name": "stderr",
     "output_type": "stream",
     "text": [
      "                                                                                                                                           \r"
     ]
    },
    {
     "name": "stdout",
     "output_type": "stream",
     "text": [
      "epoch     10 train/loss  4.523411 train/acc_grapheme  0.403445 train/acc_vowel  0.618873 train/acc_consonant  0.747699 train/recall  0.545678 valid/loss  1.164877 valid/acc_grapheme  0.941023 valid/acc_vowel  0.980011 valid/acc_consonant  0.973740 valid/loss_grapheme  0.536406 valid/loss_vowel  0.361224 valid/loss_consonant  0.267247 valid/recall  0.961097 lr  0.001000 elapsed_time  3879.213090 \n"
     ]
    },
    {
     "name": "stderr",
     "output_type": "stream",
     "text": [
      "                                                                                                                                            \r"
     ]
    },
    {
     "name": "stdout",
     "output_type": "stream",
     "text": [
      "epoch     11 train/loss  4.538802 train/acc_grapheme  0.401703 train/acc_vowel  0.616621 train/acc_consonant  0.751468 train/recall  0.546339 valid/loss  2.170245 valid/acc_grapheme  0.854213 valid/acc_vowel  0.715240 valid/acc_consonant  0.947180 valid/loss_grapheme  0.878157 valid/loss_vowel  0.944614 valid/loss_consonant  0.347474 valid/recall  0.890768 lr  0.001000 elapsed_time  4268.002080 \n"
     ]
    },
    {
     "name": "stderr",
     "output_type": "stream",
     "text": [
      "                                                                                                                                            \r"
     ]
    },
    {
     "name": "stdout",
     "output_type": "stream",
     "text": [
      "epoch     12 train/loss  4.488280 train/acc_grapheme  0.400360 train/acc_vowel  0.607951 train/acc_consonant  0.744993 train/recall  0.536156 valid/loss  0.973061 valid/acc_grapheme  0.950807 valid/acc_vowel  0.983730 valid/acc_consonant  0.981715 valid/loss_grapheme  0.447427 valid/loss_vowel  0.307133 valid/loss_consonant  0.218500 valid/recall  0.966836 lr  0.001000 elapsed_time  4655.199648 \n"
     ]
    },
    {
     "name": "stderr",
     "output_type": "stream",
     "text": [
      "                                                                                                                                          \r"
     ]
    },
    {
     "name": "stdout",
     "output_type": "stream",
     "text": [
      "epoch     13 train/loss  4.448250 train/acc_grapheme  0.418920 train/acc_vowel  0.628328 train/acc_consonant  0.755667 train/recall  0.560792 valid/loss  0.944896 valid/acc_grapheme  0.953395 valid/acc_vowel  0.983326 valid/acc_consonant  0.978287 valid/loss_grapheme  0.412193 valid/loss_vowel  0.316830 valid/loss_consonant  0.215872 valid/recall  0.967295 lr  0.001000 elapsed_time  5043.096363 \n"
     ]
    },
    {
     "name": "stderr",
     "output_type": "stream",
     "text": [
      "                                                                                                                                            \r"
     ]
    },
    {
     "name": "stdout",
     "output_type": "stream",
     "text": [
      "epoch     14 train/loss  4.384815 train/acc_grapheme  0.430820 train/acc_vowel  0.633105 train/acc_consonant  0.759853 train/recall  0.570073 valid/loss  1.819503 valid/acc_grapheme  0.907213 valid/acc_vowel  0.789020 valid/acc_consonant  0.960859 valid/loss_grapheme  0.738045 valid/loss_vowel  0.746536 valid/loss_consonant  0.334922 valid/recall  0.912918 lr  0.001000 elapsed_time  5431.925400 \n"
     ]
    },
    {
     "name": "stderr",
     "output_type": "stream",
     "text": [
      "                                                                                                                                          \r"
     ]
    },
    {
     "name": "stdout",
     "output_type": "stream",
     "text": [
      "epoch     15 train/loss  4.391377 train/acc_grapheme  0.436517 train/acc_vowel  0.640961 train/acc_consonant  0.763305 train/recall  0.572770 valid/loss  1.078086 valid/acc_grapheme  0.950937 valid/acc_vowel  0.980938 valid/acc_consonant  0.978113 valid/loss_grapheme  0.508473 valid/loss_vowel  0.341776 valid/loss_consonant  0.227837 valid/recall  0.966878 lr  0.001000 elapsed_time  5818.263527 \n"
     ]
    },
    {
     "name": "stderr",
     "output_type": "stream",
     "text": [
      "                                                                                                                                            \r"
     ]
    },
    {
     "name": "stdout",
     "output_type": "stream",
     "text": [
      "epoch     16 train/loss  4.228884 train/acc_grapheme  0.458885 train/acc_vowel  0.653924 train/acc_consonant  0.773158 train/recall  0.594496 valid/loss  0.977185 valid/acc_grapheme  0.954291 valid/acc_vowel  0.976528 valid/acc_consonant  0.983294 valid/loss_grapheme  0.407652 valid/loss_vowel  0.341415 valid/loss_consonant  0.228117 valid/recall  0.969267 lr  0.001000 elapsed_time  6205.199196 \n"
     ]
    },
    {
     "name": "stderr",
     "output_type": "stream",
     "text": [
      "                                                                                                                                            \r"
     ]
    },
    {
     "name": "stdout",
     "output_type": "stream",
     "text": [
      "epoch     17 train/loss  4.213762 train/acc_grapheme  0.450146 train/acc_vowel  0.641272 train/acc_consonant  0.764076 train/recall  0.581151 valid/loss  1.089124 valid/acc_grapheme  0.944800 valid/acc_vowel  0.962993 valid/acc_consonant  0.978124 valid/loss_grapheme  0.476725 valid/loss_vowel  0.377129 valid/loss_consonant  0.235269 valid/recall  0.959031 lr  0.001000 elapsed_time  6594.463357 \n"
     ]
    },
    {
     "name": "stderr",
     "output_type": "stream",
     "text": [
      "                                                                                                                                           \r"
     ]
    },
    {
     "name": "stdout",
     "output_type": "stream",
     "text": [
      "epoch     18 train/loss  4.228243 train/acc_grapheme  0.459837 train/acc_vowel  0.651778 train/acc_consonant  0.768206 train/recall  0.592423 valid/loss  0.914103 valid/acc_grapheme  0.957642 valid/acc_vowel  0.985590 valid/acc_consonant  0.983537 valid/loss_grapheme  0.403301 valid/loss_vowel  0.297558 valid/loss_consonant  0.213244 valid/recall  0.974484 lr  0.001000 elapsed_time  6984.217351 \n"
     ]
    },
    {
     "name": "stderr",
     "output_type": "stream",
     "text": [
      "                                                                                                                                           \r"
     ]
    },
    {
     "name": "stdout",
     "output_type": "stream",
     "text": [
      "epoch     19 train/loss  4.144260 train/acc_grapheme  0.466847 train/acc_vowel  0.656741 train/acc_consonant  0.771111 train/recall  0.598400 valid/loss  0.901511 valid/acc_grapheme  0.958520 valid/acc_vowel  0.983202 valid/acc_consonant  0.976700 valid/loss_grapheme  0.376118 valid/loss_vowel  0.302540 valid/loss_consonant  0.222852 valid/recall  0.972139 lr  0.001000 elapsed_time  7371.347132 \n"
     ]
    },
    {
     "name": "stderr",
     "output_type": "stream",
     "text": [
      "                                                                                                                                            \r"
     ]
    },
    {
     "name": "stdout",
     "output_type": "stream",
     "text": [
      "epoch     20 train/loss  4.202813 train/acc_grapheme  0.470150 train/acc_vowel  0.662501 train/acc_consonant  0.774234 train/recall  0.602477 valid/loss  1.060720 valid/acc_grapheme  0.943117 valid/acc_vowel  0.938537 valid/acc_consonant  0.976725 valid/loss_grapheme  0.445400 valid/loss_vowel  0.381373 valid/loss_consonant  0.233947 valid/recall  0.948383 lr  0.001000 elapsed_time  7759.482627 \n"
     ]
    },
    {
     "name": "stderr",
     "output_type": "stream",
     "text": [
      "                                                                                                                                          \r"
     ]
    },
    {
     "name": "stdout",
     "output_type": "stream",
     "text": [
      "epoch     21 train/loss  4.051877 train/acc_grapheme  0.476830 train/acc_vowel  0.658321 train/acc_consonant  0.774296 train/recall  0.604162 valid/loss  0.757216 valid/acc_grapheme  0.962543 valid/acc_vowel  0.987319 valid/acc_consonant  0.986982 valid/loss_grapheme  0.333565 valid/loss_vowel  0.245364 valid/loss_consonant  0.178287 valid/recall  0.975634 lr  0.001000 elapsed_time  8149.618064 \n"
     ]
    },
    {
     "name": "stderr",
     "output_type": "stream",
     "text": [
      "                                                                                                                                            \r"
     ]
    },
    {
     "name": "stdout",
     "output_type": "stream",
     "text": [
      "epoch     22 train/loss  4.072358 train/acc_grapheme  0.487908 train/acc_vowel  0.666924 train/acc_consonant  0.778383 train/recall  0.610444 valid/loss  0.790017 valid/acc_grapheme  0.967917 valid/acc_vowel  0.988676 valid/acc_consonant  0.984513 valid/loss_grapheme  0.315698 valid/loss_vowel  0.270638 valid/loss_consonant  0.203680 valid/recall  0.977633 lr  0.001000 elapsed_time  8540.007906 \n"
     ]
    },
    {
     "name": "stderr",
     "output_type": "stream",
     "text": [
      "                                                                                                                                           \r"
     ]
    },
    {
     "name": "stdout",
     "output_type": "stream",
     "text": [
      "epoch     23 train/loss  4.066397 train/acc_grapheme  0.489799 train/acc_vowel  0.668920 train/acc_consonant  0.781331 train/recall  0.613638 valid/loss  0.790751 valid/acc_grapheme  0.968291 valid/acc_vowel  0.986878 valid/acc_consonant  0.984880 valid/loss_grapheme  0.318366 valid/loss_vowel  0.278800 valid/loss_consonant  0.193584 valid/recall  0.977582 lr  0.001000 elapsed_time  8929.178081 \n"
     ]
    },
    {
     "name": "stderr",
     "output_type": "stream",
     "text": [
      "                                                                                                                                           \r"
     ]
    },
    {
     "name": "stdout",
     "output_type": "stream",
     "text": [
      "epoch     24 train/loss  4.039819 train/acc_grapheme  0.487249 train/acc_vowel  0.662507 train/acc_consonant  0.776716 train/recall  0.605368 valid/loss  0.751425 valid/acc_grapheme  0.964187 valid/acc_vowel  0.987219 valid/acc_consonant  0.986564 valid/loss_grapheme  0.326577 valid/loss_vowel  0.246097 valid/loss_consonant  0.178751 valid/recall  0.976062 lr  0.001000 elapsed_time  9316.914994 \n"
     ]
    },
    {
     "name": "stderr",
     "output_type": "stream",
     "text": [
      "                                                                                                                                            \r"
     ]
    },
    {
     "name": "stdout",
     "output_type": "stream",
     "text": [
      "epoch     25 train/loss  3.998128 train/acc_grapheme  0.503073 train/acc_vowel  0.677996 train/acc_consonant  0.784553 train/recall  0.621301 valid/loss  0.676720 valid/acc_grapheme  0.966327 valid/acc_vowel  0.988595 valid/acc_consonant  0.985278 valid/loss_grapheme  0.288967 valid/loss_vowel  0.221598 valid/loss_consonant  0.166154 valid/recall  0.977152 lr  0.001000 elapsed_time  9699.081027 \n"
     ]
    },
    {
     "name": "stderr",
     "output_type": "stream",
     "text": [
      "                                                                                                                                         \r"
     ]
    },
    {
     "name": "stdout",
     "output_type": "stream",
     "text": [
      "epoch     26 train/loss  4.048989 train/acc_grapheme  0.487193 train/acc_vowel  0.666557 train/acc_consonant  0.778215 train/recall  0.610062 valid/loss  2.624898 valid/acc_grapheme  0.814464 valid/acc_vowel  0.614460 valid/acc_consonant  0.877588 valid/loss_grapheme  1.072815 valid/loss_vowel  1.109231 valid/loss_consonant  0.442853 valid/recall  0.862560 lr  0.001000 elapsed_time  10089.793121 \n"
     ]
    },
    {
     "name": "stderr",
     "output_type": "stream",
     "text": [
      "                                                                                                                                           \r"
     ]
    },
    {
     "name": "stdout",
     "output_type": "stream",
     "text": [
      "epoch     27 train/loss  3.945225 train/acc_grapheme  0.504348 train/acc_vowel  0.676951 train/acc_consonant  0.784149 train/recall  0.618443 valid/loss  0.636905 valid/acc_grapheme  0.972888 valid/acc_vowel  0.989994 valid/acc_consonant  0.988898 valid/loss_grapheme  0.262416 valid/loss_vowel  0.220382 valid/loss_consonant  0.154107 valid/recall  0.981330 lr  0.001000 elapsed_time  10479.931077 \n"
     ]
    },
    {
     "name": "stderr",
     "output_type": "stream",
     "text": [
      "                                                                                                                                            \r"
     ]
    },
    {
     "name": "stdout",
     "output_type": "stream",
     "text": [
      "epoch     28 train/loss  3.989960 train/acc_grapheme  0.488860 train/acc_vowel  0.660200 train/acc_consonant  0.776641 train/recall  0.604621 valid/loss  0.696882 valid/acc_grapheme  0.970084 valid/acc_vowel  0.989353 valid/acc_consonant  0.987921 valid/loss_grapheme  0.286987 valid/loss_vowel  0.237335 valid/loss_consonant  0.172560 valid/recall  0.979339 lr  0.001000 elapsed_time  10870.801605 \n"
     ]
    },
    {
     "name": "stderr",
     "output_type": "stream",
     "text": [
      "                                                                                                                                           \r"
     ]
    },
    {
     "name": "stdout",
     "output_type": "stream",
     "text": [
      "epoch     29 train/loss  3.857868 train/acc_grapheme  0.505698 train/acc_vowel  0.670793 train/acc_consonant  0.783191 train/recall  0.618586 valid/loss  0.622344 valid/acc_grapheme  0.971879 valid/acc_vowel  0.989527 valid/acc_consonant  0.989160 valid/loss_grapheme  0.267446 valid/loss_vowel  0.203915 valid/loss_consonant  0.150983 valid/recall  0.979080 lr  0.001000 elapsed_time  11260.598749 \n"
     ]
    },
    {
     "name": "stderr",
     "output_type": "stream",
     "text": [
      "                                                                                                                                            \r"
     ]
    },
    {
     "name": "stdout",
     "output_type": "stream",
     "text": [
      "epoch     30 train/loss  3.881593 train/acc_grapheme  0.519606 train/acc_vowel  0.686119 train/acc_consonant  0.789772 train/recall  0.632489 valid/loss  0.496712 valid/acc_grapheme  0.971364 valid/acc_vowel  0.988651 valid/acc_consonant  0.987853 valid/loss_grapheme  0.203441 valid/loss_vowel  0.163931 valid/loss_consonant  0.129340 valid/recall  0.977587 lr  0.001000 elapsed_time  11649.837056 \n"
     ]
    },
    {
     "name": "stderr",
     "output_type": "stream",
     "text": [
      "                                                                                                                                          \r"
     ]
    },
    {
     "name": "stdout",
     "output_type": "stream",
     "text": [
      "epoch     31 train/loss  3.834038 train/acc_grapheme  0.521497 train/acc_vowel  0.688763 train/acc_consonant  0.795233 train/recall  0.636629 valid/loss  0.589535 valid/acc_grapheme  0.972800 valid/acc_vowel  0.990373 valid/acc_consonant  0.988754 valid/loss_grapheme  0.239573 valid/loss_vowel  0.197358 valid/loss_consonant  0.152604 valid/recall  0.980532 lr  0.001000 elapsed_time  12039.343989 \n"
     ]
    },
    {
     "name": "stderr",
     "output_type": "stream",
     "text": [
      "                                                                                                                                            \r"
     ]
    },
    {
     "name": "stdout",
     "output_type": "stream",
     "text": [
      "epoch     32 train/loss  3.851557 train/acc_grapheme  0.519332 train/acc_vowel  0.687998 train/acc_consonant  0.790313 train/recall  0.633585 valid/loss  0.684125 valid/acc_grapheme  0.971774 valid/acc_vowel  0.989732 valid/acc_consonant  0.986155 valid/loss_grapheme  0.305072 valid/loss_vowel  0.217689 valid/loss_consonant  0.161364 valid/recall  0.980328 lr  0.001000 elapsed_time  12426.938964 \n"
     ]
    },
    {
     "name": "stderr",
     "output_type": "stream",
     "text": [
      "                                                                                                                                           \r"
     ]
    },
    {
     "name": "stdout",
     "output_type": "stream",
     "text": [
      "epoch     33 train/loss  3.866245 train/acc_grapheme  0.510761 train/acc_vowel  0.676366 train/acc_consonant  0.783701 train/recall  0.624617 valid/loss  0.582625 valid/acc_grapheme  0.971663 valid/acc_vowel  0.989596 valid/acc_consonant  0.988978 valid/loss_grapheme  0.233181 valid/loss_vowel  0.201653 valid/loss_consonant  0.147790 valid/recall  0.980210 lr  0.001000 elapsed_time  12815.944079 \n"
     ]
    },
    {
     "name": "stderr",
     "output_type": "stream",
     "text": [
      "                                                                                                                                            \r"
     ]
    },
    {
     "name": "stdout",
     "output_type": "stream",
     "text": [
      "epoch     34 train/loss  3.773192 train/acc_grapheme  0.526187 train/acc_vowel  0.684744 train/acc_consonant  0.792285 train/recall  0.631974 valid/loss  0.707200 valid/acc_grapheme  0.974616 valid/acc_vowel  0.990517 valid/acc_consonant  0.989470 valid/loss_grapheme  0.289045 valid/loss_vowel  0.243974 valid/loss_consonant  0.174182 valid/recall  0.982677 lr  0.000700 elapsed_time  13206.068898 \n"
     ]
    },
    {
     "name": "stderr",
     "output_type": "stream",
     "text": [
      "                                                                                                                                            \r"
     ]
    },
    {
     "name": "stdout",
     "output_type": "stream",
     "text": [
      "epoch     35 train/loss  3.737583 train/acc_grapheme  0.522480 train/acc_vowel  0.682375 train/acc_consonant  0.792907 train/recall  0.634249 valid/loss  0.503110 valid/acc_grapheme  0.977123 valid/acc_vowel  0.991244 valid/acc_consonant  0.990191 valid/loss_grapheme  0.211886 valid/loss_vowel  0.167395 valid/loss_consonant  0.123830 valid/recall  0.983413 lr  0.000700 elapsed_time  13595.605846 \n"
     ]
    },
    {
     "name": "stderr",
     "output_type": "stream",
     "text": [
      "                                                                                                                                            \r"
     ]
    },
    {
     "name": "stdout",
     "output_type": "stream",
     "text": [
      "epoch     36 train/loss  3.753585 train/acc_grapheme  0.530491 train/acc_vowel  0.689136 train/acc_consonant  0.794076 train/recall  0.639282 valid/loss  0.491955 valid/acc_grapheme  0.975401 valid/acc_vowel  0.990685 valid/acc_consonant  0.990572 valid/loss_grapheme  0.204278 valid/loss_vowel  0.161158 valid/loss_consonant  0.126519 valid/recall  0.982669 lr  0.000700 elapsed_time  13984.307020 \n"
     ]
    },
    {
     "name": "stderr",
     "output_type": "stream",
     "text": [
      "                                                                                                                                           \r"
     ]
    },
    {
     "name": "stdout",
     "output_type": "stream",
     "text": [
      "epoch     37 train/loss  3.741256 train/acc_grapheme  0.523736 train/acc_vowel  0.682984 train/acc_consonant  0.790698 train/recall  0.630505 valid/loss  0.550639 valid/acc_grapheme  0.974331 valid/acc_vowel  0.991728 valid/acc_consonant  0.989426 valid/loss_grapheme  0.233443 valid/loss_vowel  0.171493 valid/loss_consonant  0.145702 valid/recall  0.982849 lr  0.000700 elapsed_time  14373.182263 \n"
     ]
    },
    {
     "name": "stderr",
     "output_type": "stream",
     "text": [
      "                                                                                                                                            \r"
     ]
    },
    {
     "name": "stdout",
     "output_type": "stream",
     "text": [
      "epoch     38 train/loss  3.734375 train/acc_grapheme  0.538633 train/acc_vowel  0.693857 train/acc_consonant  0.796993 train/recall  0.642412 valid/loss  0.499770 valid/acc_grapheme  0.978461 valid/acc_vowel  0.990808 valid/acc_consonant  0.990620 valid/loss_grapheme  0.195431 valid/loss_vowel  0.169264 valid/loss_consonant  0.135075 valid/recall  0.984644 lr  0.000700 elapsed_time  14763.108055 \n"
     ]
    },
    {
     "name": "stderr",
     "output_type": "stream",
     "text": [
      "                                                                                                                                            \r"
     ]
    },
    {
     "name": "stdout",
     "output_type": "stream",
     "text": [
      "epoch     39 train/loss  3.702129 train/acc_grapheme  0.536786 train/acc_vowel  0.693347 train/acc_consonant  0.796464 train/recall  0.643677 valid/loss  0.389447 valid/acc_grapheme  0.980059 valid/acc_vowel  0.992475 valid/acc_consonant  0.992013 valid/loss_grapheme  0.153391 valid/loss_vowel  0.128181 valid/loss_consonant  0.107875 valid/recall  0.985039 lr  0.000700 elapsed_time  15152.367611 \n"
     ]
    },
    {
     "name": "stderr",
     "output_type": "stream",
     "text": [
      "                                                                                                                                           \r"
     ]
    },
    {
     "name": "stdout",
     "output_type": "stream",
     "text": [
      "epoch     40 train/loss  3.644055 train/acc_grapheme  0.548803 train/acc_vowel  0.699741 train/acc_consonant  0.800676 train/recall  0.652166 valid/loss  0.451039 valid/acc_grapheme  0.975202 valid/acc_vowel  0.991803 valid/acc_consonant  0.990297 valid/loss_grapheme  0.194766 valid/loss_vowel  0.135179 valid/loss_consonant  0.121094 valid/recall  0.981915 lr  0.000700 elapsed_time  15541.555201 \n"
     ]
    },
    {
     "name": "stderr",
     "output_type": "stream",
     "text": [
      "                                                                                                                                          \r"
     ]
    },
    {
     "name": "stdout",
     "output_type": "stream",
     "text": [
      "epoch     41 train/loss  3.644258 train/acc_grapheme  0.539255 train/acc_vowel  0.693496 train/acc_consonant  0.796738 train/recall  0.643987 valid/loss  0.443239 valid/acc_grapheme  0.979636 valid/acc_vowel  0.991698 valid/acc_consonant  0.991255 valid/loss_grapheme  0.174959 valid/loss_vowel  0.145895 valid/loss_consonant  0.122386 valid/recall  0.985224 lr  0.000700 elapsed_time  15933.489384 \n"
     ]
    },
    {
     "name": "stderr",
     "output_type": "stream",
     "text": [
      "                                                                                                                                            \r"
     ]
    },
    {
     "name": "stdout",
     "output_type": "stream",
     "text": [
      "epoch     42 train/loss  3.620846 train/acc_grapheme  0.541208 train/acc_vowel  0.693596 train/acc_consonant  0.797105 train/recall  0.644759 valid/loss  0.472564 valid/acc_grapheme  0.976626 valid/acc_vowel  0.991051 valid/acc_consonant  0.990987 valid/loss_grapheme  0.203171 valid/loss_vowel  0.145003 valid/loss_consonant  0.124390 valid/recall  0.983876 lr  0.000700 elapsed_time  16324.002826 \n"
     ]
    },
    {
     "name": "stderr",
     "output_type": "stream",
     "text": [
      "                                                                                                                                            \r"
     ]
    },
    {
     "name": "stdout",
     "output_type": "stream",
     "text": [
      "epoch     43 train/loss  3.650411 train/acc_grapheme  0.547223 train/acc_vowel  0.699673 train/acc_consonant  0.800284 train/recall  0.649423 valid/loss  0.445268 valid/acc_grapheme  0.978511 valid/acc_vowel  0.991891 valid/acc_consonant  0.991529 valid/loss_grapheme  0.193769 valid/loss_vowel  0.139708 valid/loss_consonant  0.111792 valid/recall  0.984973 lr  0.000700 elapsed_time  16713.498462 \n"
     ]
    },
    {
     "name": "stderr",
     "output_type": "stream",
     "text": [
      "                                                                                                                                        \r"
     ]
    },
    {
     "name": "stdout",
     "output_type": "stream",
     "text": [
      "epoch     44 train/loss  3.625833 train/acc_grapheme  0.547727 train/acc_vowel  0.699486 train/acc_consonant  0.802784 train/recall  0.652427 valid/loss  0.415520 valid/acc_grapheme  0.977248 valid/acc_vowel  0.991543 valid/acc_consonant  0.990639 valid/loss_grapheme  0.177949 valid/loss_vowel  0.133783 valid/loss_consonant  0.103789 valid/recall  0.982919 lr  0.000700 elapsed_time  17102.718843 \n"
     ]
    },
    {
     "name": "stderr",
     "output_type": "stream",
     "text": [
      "                                                                                                                                            \r"
     ]
    },
    {
     "name": "stdout",
     "output_type": "stream",
     "text": [
      "epoch     45 train/loss  3.633881 train/acc_grapheme  0.547254 train/acc_vowel  0.700569 train/acc_consonant  0.803991 train/recall  0.652213 valid/loss  0.394356 valid/acc_grapheme  0.978915 valid/acc_vowel  0.992681 valid/acc_consonant  0.991311 valid/loss_grapheme  0.171964 valid/loss_vowel  0.122429 valid/loss_consonant  0.099962 valid/recall  0.985298 lr  0.000700 elapsed_time  17490.583528 \n"
     ]
    },
    {
     "name": "stderr",
     "output_type": "stream",
     "text": [
      "                                                                                                                                            \r"
     ]
    },
    {
     "name": "stdout",
     "output_type": "stream",
     "text": [
      "epoch     46 train/loss  3.653374 train/acc_grapheme  0.543485 train/acc_vowel  0.694939 train/acc_consonant  0.798262 train/recall  0.647717 valid/loss  0.377321 valid/acc_grapheme  0.981079 valid/acc_vowel  0.993171 valid/acc_consonant  0.992188 valid/loss_grapheme  0.150918 valid/loss_vowel  0.122716 valid/loss_consonant  0.103688 valid/recall  0.985602 lr  0.000700 elapsed_time  17880.451776 \n"
     ]
    },
    {
     "name": "stderr",
     "output_type": "stream",
     "text": [
      "                                                                                                                                            \r"
     ]
    },
    {
     "name": "stdout",
     "output_type": "stream",
     "text": [
      "epoch     47 train/loss  3.681180 train/acc_grapheme  0.539374 train/acc_vowel  0.692513 train/acc_consonant  0.796129 train/recall  0.641992 valid/loss  0.419326 valid/acc_grapheme  0.979835 valid/acc_vowel  0.992972 valid/acc_consonant  0.992511 valid/loss_grapheme  0.176164 valid/loss_vowel  0.137387 valid/loss_consonant  0.105774 valid/recall  0.985899 lr  0.000700 elapsed_time  18268.842567 \n"
     ]
    },
    {
     "name": "stderr",
     "output_type": "stream",
     "text": [
      "                                                                                                                                            \r"
     ]
    },
    {
     "name": "stdout",
     "output_type": "stream",
     "text": [
      "epoch     48 train/loss  3.570374 train/acc_grapheme  0.543566 train/acc_vowel  0.691406 train/acc_consonant  0.798511 train/recall  0.644223 valid/loss  0.291027 valid/acc_grapheme  0.979349 valid/acc_vowel  0.993097 valid/acc_consonant  0.991665 valid/loss_grapheme  0.127430 valid/loss_vowel  0.081155 valid/loss_consonant  0.082442 valid/recall  0.985559 lr  0.000700 elapsed_time  18658.192534 \n"
     ]
    },
    {
     "name": "stderr",
     "output_type": "stream",
     "text": [
      "                                                                                                                                            \r"
     ]
    },
    {
     "name": "stdout",
     "output_type": "stream",
     "text": [
      "epoch     49 train/loss  3.676980 train/acc_grapheme  0.531642 train/acc_vowel  0.687438 train/acc_consonant  0.791774 train/recall  0.637170 valid/loss  0.323797 valid/acc_grapheme  0.981054 valid/acc_vowel  0.992842 valid/acc_consonant  0.992580 valid/loss_grapheme  0.135007 valid/loss_vowel  0.100368 valid/loss_consonant  0.088422 valid/recall  0.985840 lr  0.000700 elapsed_time  19045.476158 \n"
     ]
    },
    {
     "name": "stderr",
     "output_type": "stream",
     "text": [
      "                                                                                                                                            \r"
     ]
    },
    {
     "name": "stdout",
     "output_type": "stream",
     "text": [
      "epoch     50 train/loss  3.538995 train/acc_grapheme  0.571706 train/acc_vowel  0.717039 train/acc_consonant  0.810901 train/recall  0.670518 valid/loss  0.309849 valid/acc_grapheme  0.978840 valid/acc_vowel  0.992743 valid/acc_consonant  0.992660 valid/loss_grapheme  0.138415 valid/loss_vowel  0.089696 valid/loss_consonant  0.081737 valid/recall  0.984755 lr  0.000700 elapsed_time  19434.030810 \n"
     ]
    },
    {
     "name": "stderr",
     "output_type": "stream",
     "text": [
      "                                                                                                                                            \r"
     ]
    },
    {
     "name": "stdout",
     "output_type": "stream",
     "text": [
      "epoch     51 train/loss  3.517753 train/acc_grapheme  0.563576 train/acc_vowel  0.707174 train/acc_consonant  0.807966 train/recall  0.660291 valid/loss  0.310052 valid/acc_grapheme  0.971812 valid/acc_vowel  0.990721 valid/acc_consonant  0.990708 valid/loss_grapheme  0.157442 valid/loss_vowel  0.076609 valid/loss_consonant  0.076001 valid/recall  0.980655 lr  0.000700 elapsed_time  19823.110033 \n"
     ]
    },
    {
     "name": "stderr",
     "output_type": "stream",
     "text": [
      "                                                                                                                                           \r"
     ]
    },
    {
     "name": "stdout",
     "output_type": "stream",
     "text": [
      "epoch     52 train/loss  3.568490 train/acc_grapheme  0.551739 train/acc_vowel  0.700208 train/acc_consonant  0.801888 train/recall  0.651898 valid/loss  0.443365 valid/acc_grapheme  0.975282 valid/acc_vowel  0.989851 valid/acc_consonant  0.990515 valid/loss_grapheme  0.194336 valid/loss_vowel  0.144311 valid/loss_consonant  0.104718 valid/recall  0.982013 lr  0.000700 elapsed_time  20212.026078 \n"
     ]
    },
    {
     "name": "stderr",
     "output_type": "stream",
     "text": [
      "                                                                                                                                          \r"
     ]
    },
    {
     "name": "stdout",
     "output_type": "stream",
     "text": [
      "epoch     53 train/loss  3.515187 train/acc_grapheme  0.553406 train/acc_vowel  0.703809 train/acc_consonant  0.805142 train/recall  0.654890 valid/loss  0.229412 valid/acc_grapheme  0.979033 valid/acc_vowel  0.992494 valid/acc_consonant  0.992555 valid/loss_grapheme  0.109638 valid/loss_vowel  0.059708 valid/loss_consonant  0.060066 valid/recall  0.983309 lr  0.000700 elapsed_time  20600.733124 \n"
     ]
    },
    {
     "name": "stderr",
     "output_type": "stream",
     "text": [
      "                                                                                                                                            \r"
     ]
    },
    {
     "name": "stdout",
     "output_type": "stream",
     "text": [
      "epoch     54 train/loss  3.597377 train/acc_grapheme  0.554451 train/acc_vowel  0.702945 train/acc_consonant  0.805521 train/recall  0.654908 valid/loss  0.216155 valid/acc_grapheme  0.982230 valid/acc_vowel  0.993265 valid/acc_consonant  0.993227 valid/loss_grapheme  0.092522 valid/loss_vowel  0.060930 valid/loss_consonant  0.062703 valid/recall  0.987589 lr  0.000490 elapsed_time  20989.414288 \n"
     ]
    },
    {
     "name": "stderr",
     "output_type": "stream",
     "text": [
      "                                                                                                                                           \r"
     ]
    },
    {
     "name": "stdout",
     "output_type": "stream",
     "text": [
      "epoch     55 train/loss  3.536238 train/acc_grapheme  0.557151 train/acc_vowel  0.704232 train/acc_consonant  0.806218 train/recall  0.657668 valid/loss  0.326433 valid/acc_grapheme  0.984034 valid/acc_vowel  0.993912 valid/acc_consonant  0.993793 valid/loss_grapheme  0.134416 valid/loss_vowel  0.104911 valid/loss_consonant  0.087106 valid/recall  0.988128 lr  0.000490 elapsed_time  21378.231275 \n"
     ]
    },
    {
     "name": "stderr",
     "output_type": "stream",
     "text": [
      "                                                                                                                                            \r"
     ]
    },
    {
     "name": "stdout",
     "output_type": "stream",
     "text": [
      "epoch     56 train/loss  3.455774 train/acc_grapheme  0.578934 train/acc_vowel  0.718221 train/acc_consonant  0.812320 train/recall  0.671909 valid/loss  0.280086 valid/acc_grapheme  0.980612 valid/acc_vowel  0.993613 valid/acc_consonant  0.992898 valid/loss_grapheme  0.128277 valid/loss_vowel  0.076420 valid/loss_consonant  0.075388 valid/recall  0.986087 lr  0.000490 elapsed_time  21767.746874 \n"
     ]
    },
    {
     "name": "stderr",
     "output_type": "stream",
     "text": [
      "                                                                                                                                            \r"
     ]
    },
    {
     "name": "stdout",
     "output_type": "stream",
     "text": [
      "epoch     57 train/loss  3.482852 train/acc_grapheme  0.563831 train/acc_vowel  0.707604 train/acc_consonant  0.805527 train/recall  0.659948 valid/loss  0.302214 valid/acc_grapheme  0.980850 valid/acc_vowel  0.993401 valid/acc_consonant  0.992909 valid/loss_grapheme  0.128611 valid/loss_vowel  0.093331 valid/loss_consonant  0.080272 valid/recall  0.985405 lr  0.000490 elapsed_time  22156.275148 \n"
     ]
    },
    {
     "name": "stderr",
     "output_type": "stream",
     "text": [
      "                                                                                                                                           \r"
     ]
    },
    {
     "name": "stdout",
     "output_type": "stream",
     "text": [
      "epoch     58 train/loss  3.475312 train/acc_grapheme  0.564403 train/acc_vowel  0.704549 train/acc_consonant  0.806155 train/recall  0.658398 valid/loss  0.258492 valid/acc_grapheme  0.983772 valid/acc_vowel  0.993240 valid/acc_consonant  0.993780 valid/loss_grapheme  0.113730 valid/loss_vowel  0.075965 valid/loss_consonant  0.068798 valid/recall  0.987955 lr  0.000490 elapsed_time  22544.155242 \n"
     ]
    },
    {
     "name": "stderr",
     "output_type": "stream",
     "text": [
      "                                                                                                                                            \r"
     ]
    },
    {
     "name": "stdout",
     "output_type": "stream",
     "text": [
      "epoch     59 train/loss  3.419540 train/acc_grapheme  0.572179 train/acc_vowel  0.710826 train/acc_consonant  0.810472 train/recall  0.665545 valid/loss  0.201371 valid/acc_grapheme  0.985129 valid/acc_vowel  0.994335 valid/acc_consonant  0.993644 valid/loss_grapheme  0.088467 valid/loss_vowel  0.055326 valid/loss_consonant  0.057578 valid/recall  0.988657 lr  0.000490 elapsed_time  22934.011848 \n"
     ]
    },
    {
     "name": "stderr",
     "output_type": "stream",
     "text": [
      "                                                                                                                                           \r"
     ]
    },
    {
     "name": "stdout",
     "output_type": "stream",
     "text": [
      "epoch     60 train/loss  3.446478 train/acc_grapheme  0.554296 train/acc_vowel  0.693254 train/acc_consonant  0.798125 train/recall  0.646853 valid/loss  0.476803 valid/acc_grapheme  0.975973 valid/acc_vowel  0.984178 valid/acc_consonant  0.986857 valid/loss_grapheme  0.208948 valid/loss_vowel  0.155995 valid/loss_consonant  0.111859 valid/recall  0.980852 lr  0.000490 elapsed_time  23323.506589 \n"
     ]
    },
    {
     "name": "stderr",
     "output_type": "stream",
     "text": [
      "                                                                                                                                            \r"
     ]
    },
    {
     "name": "stdout",
     "output_type": "stream",
     "text": [
      "epoch     61 train/loss  3.433936 train/acc_grapheme  0.578075 train/acc_vowel  0.714259 train/acc_consonant  0.810852 train/recall  0.668829 valid/loss  0.227543 valid/acc_grapheme  0.984930 valid/acc_vowel  0.993837 valid/acc_consonant  0.993824 valid/loss_grapheme  0.097537 valid/loss_vowel  0.065494 valid/loss_consonant  0.064513 valid/recall  0.988237 lr  0.000490 elapsed_time  23713.847040 \n"
     ]
    },
    {
     "name": "stderr",
     "output_type": "stream",
     "text": [
      "                                                                                                                                            \r"
     ]
    },
    {
     "name": "stdout",
     "output_type": "stream",
     "text": [
      "epoch     62 train/loss  3.474718 train/acc_grapheme  0.564758 train/acc_vowel  0.706515 train/acc_consonant  0.807256 train/recall  0.661693 valid/loss  0.553363 valid/acc_grapheme  0.977460 valid/acc_vowel  0.991125 valid/acc_consonant  0.990658 valid/loss_grapheme  0.247295 valid/loss_vowel  0.183828 valid/loss_consonant  0.122240 valid/recall  0.983422 lr  0.000490 elapsed_time  24100.180613 \n"
     ]
    },
    {
     "name": "stderr",
     "output_type": "stream",
     "text": [
      "                                                                                                                                            \r"
     ]
    },
    {
     "name": "stdout",
     "output_type": "stream",
     "text": [
      "epoch     63 train/loss  3.425875 train/acc_grapheme  0.562631 train/acc_vowel  0.699897 train/acc_consonant  0.803381 train/recall  0.650727 valid/loss  0.278862 valid/acc_grapheme  0.984643 valid/acc_vowel  0.994321 valid/acc_consonant  0.993979 valid/loss_grapheme  0.119661 valid/loss_vowel  0.084767 valid/loss_consonant  0.074434 valid/recall  0.987945 lr  0.000490 elapsed_time  24486.748341 \n"
     ]
    },
    {
     "name": "stderr",
     "output_type": "stream",
     "text": [
      "                                                                                                                                          \r"
     ]
    },
    {
     "name": "stdout",
     "output_type": "stream",
     "text": [
      "epoch     64 train/loss  3.463310 train/acc_grapheme  0.553991 train/acc_vowel  0.700034 train/acc_consonant  0.802224 train/recall  0.649593 valid/loss  0.178749 valid/acc_grapheme  0.985234 valid/acc_vowel  0.993843 valid/acc_consonant  0.993694 valid/loss_grapheme  0.076043 valid/loss_vowel  0.048948 valid/loss_consonant  0.053758 valid/recall  0.987807 lr  0.000490 elapsed_time  24872.235038 \n"
     ]
    },
    {
     "name": "stderr",
     "output_type": "stream",
     "text": [
      "                                                                                                                                         \r"
     ]
    },
    {
     "name": "stdout",
     "output_type": "stream",
     "text": [
      "epoch     65 train/loss  3.429116 train/acc_grapheme  0.564036 train/acc_vowel  0.706546 train/acc_consonant  0.807984 train/recall  0.658915 valid/loss  0.243533 valid/acc_grapheme  0.983592 valid/acc_vowel  0.993893 valid/acc_consonant  0.993973 valid/loss_grapheme  0.104533 valid/loss_vowel  0.076232 valid/loss_consonant  0.062768 valid/recall  0.987738 lr  0.000490 elapsed_time  25256.985135 \n"
     ]
    },
    {
     "name": "stderr",
     "output_type": "stream",
     "text": [
      "                                                                                                                                            \r"
     ]
    },
    {
     "name": "stdout",
     "output_type": "stream",
     "text": [
      "epoch     66 train/loss  3.412110 train/acc_grapheme  0.572776 train/acc_vowel  0.710110 train/acc_consonant  0.811884 train/recall  0.663888 valid/loss  0.206857 valid/acc_grapheme  0.985179 valid/acc_vowel  0.994316 valid/acc_consonant  0.994117 valid/loss_grapheme  0.091691 valid/loss_vowel  0.057838 valid/loss_consonant  0.057328 valid/recall  0.988292 lr  0.000343 elapsed_time  25640.992748 \n"
     ]
    },
    {
     "name": "stderr",
     "output_type": "stream",
     "text": [
      "                                                                                                                                           \r"
     ]
    },
    {
     "name": "stdout",
     "output_type": "stream",
     "text": [
      "epoch     67 train/loss  3.376318 train/acc_grapheme  0.583431 train/acc_vowel  0.719459 train/acc_consonant  0.814721 train/recall  0.671829 valid/loss  0.202194 valid/acc_grapheme  0.985707 valid/acc_vowel  0.994496 valid/acc_consonant  0.994421 valid/loss_grapheme  0.088832 valid/loss_vowel  0.057810 valid/loss_consonant  0.055552 valid/recall  0.989169 lr  0.000343 elapsed_time  26024.682687 \n"
     ]
    },
    {
     "name": "stderr",
     "output_type": "stream",
     "text": [
      "                                                                                                                                            \r"
     ]
    },
    {
     "name": "stdout",
     "output_type": "stream",
     "text": [
      "epoch     68 train/loss  3.385318 train/acc_grapheme  0.580240 train/acc_vowel  0.717158 train/acc_consonant  0.814546 train/recall  0.670162 valid/loss  0.222516 valid/acc_grapheme  0.986827 valid/acc_vowel  0.994515 valid/acc_consonant  0.994396 valid/loss_grapheme  0.095936 valid/loss_vowel  0.066784 valid/loss_consonant  0.059796 valid/recall  0.989697 lr  0.000343 elapsed_time  26409.224480 \n"
     ]
    },
    {
     "name": "stderr",
     "output_type": "stream",
     "text": [
      "                                                                                                                                          \r"
     ]
    },
    {
     "name": "stdout",
     "output_type": "stream",
     "text": [
      "epoch     69 train/loss  3.335609 train/acc_grapheme  0.593470 train/acc_vowel  0.725020 train/acc_consonant  0.818602 train/recall  0.681455 valid/loss  0.316465 valid/acc_grapheme  0.982318 valid/acc_vowel  0.993177 valid/acc_consonant  0.992760 valid/loss_grapheme  0.135370 valid/loss_vowel  0.102320 valid/loss_consonant  0.078775 valid/recall  0.986750 lr  0.000343 elapsed_time  26795.785630 \n"
     ]
    },
    {
     "name": "stderr",
     "output_type": "stream",
     "text": [
      "                                                                                                                                            \r"
     ]
    },
    {
     "name": "stdout",
     "output_type": "stream",
     "text": [
      "epoch     70 train/loss  3.435158 train/acc_grapheme  0.566089 train/acc_vowel  0.703903 train/acc_consonant  0.807916 train/recall  0.653817 valid/loss  0.390561 valid/acc_grapheme  0.982448 valid/acc_vowel  0.993445 valid/acc_consonant  0.993326 valid/loss_grapheme  0.167994 valid/loss_vowel  0.126556 valid/loss_consonant  0.096011 valid/recall  0.987758 lr  0.000343 elapsed_time  27181.419111 \n"
     ]
    },
    {
     "name": "stderr",
     "output_type": "stream",
     "text": [
      "                                                                                                                                            \r"
     ]
    },
    {
     "name": "stdout",
     "output_type": "stream",
     "text": [
      "epoch     71 train/loss  3.334520 train/acc_grapheme  0.593383 train/acc_vowel  0.725636 train/acc_consonant  0.819641 train/recall  0.680051 valid/loss  0.144942 valid/acc_grapheme  0.986186 valid/acc_vowel  0.994341 valid/acc_consonant  0.994496 valid/loss_grapheme  0.065224 valid/loss_vowel  0.038503 valid/loss_consonant  0.041215 valid/recall  0.989364 lr  0.000343 elapsed_time  27566.457796 \n"
     ]
    },
    {
     "name": "stderr",
     "output_type": "stream",
     "text": [
      "                                                                                                                                          \r"
     ]
    },
    {
     "name": "stdout",
     "output_type": "stream",
     "text": [
      "epoch     72 train/loss  3.412524 train/acc_grapheme  0.565448 train/acc_vowel  0.702061 train/acc_consonant  0.806666 train/recall  0.654641 valid/loss  0.160222 valid/acc_grapheme  0.986365 valid/acc_vowel  0.994316 valid/acc_consonant  0.994844 valid/loss_grapheme  0.075044 valid/loss_vowel  0.042103 valid/loss_consonant  0.043076 valid/recall  0.988928 lr  0.000343 elapsed_time  27947.451856 \n"
     ]
    },
    {
     "name": "stderr",
     "output_type": "stream",
     "text": [
      "                                                                                                                                            \r"
     ]
    },
    {
     "name": "stdout",
     "output_type": "stream",
     "text": [
      "epoch     73 train/loss  3.335357 train/acc_grapheme  0.591144 train/acc_vowel  0.721636 train/acc_consonant  0.818366 train/recall  0.676480 valid/loss  0.222242 valid/acc_grapheme  0.984563 valid/acc_vowel  0.994465 valid/acc_consonant  0.994048 valid/loss_grapheme  0.102958 valid/loss_vowel  0.063138 valid/loss_consonant  0.056146 valid/recall  0.988280 lr  0.000343 elapsed_time  28324.300933 \n"
     ]
    },
    {
     "name": "stderr",
     "output_type": "stream",
     "text": [
      "                                                                                                                                            \r"
     ]
    },
    {
     "name": "stdout",
     "output_type": "stream",
     "text": [
      "epoch     74 train/loss  3.336816 train/acc_grapheme  0.586081 train/acc_vowel  0.713531 train/acc_consonant  0.813489 train/recall  0.670568 valid/loss  0.174994 valid/acc_grapheme  0.986932 valid/acc_vowel  0.995043 valid/acc_consonant  0.994999 valid/loss_grapheme  0.081698 valid/loss_vowel  0.047206 valid/loss_consonant  0.046090 valid/recall  0.989856 lr  0.000343 elapsed_time  28701.554410 \n"
     ]
    },
    {
     "name": "stderr",
     "output_type": "stream",
     "text": [
      "                                                                                                                                            \r"
     ]
    },
    {
     "name": "stdout",
     "output_type": "stream",
     "text": [
      "epoch     75 train/loss  3.299722 train/acc_grapheme  0.600138 train/acc_vowel  0.728503 train/acc_consonant  0.821270 train/recall  0.683925 valid/loss  0.202185 valid/acc_grapheme  0.984792 valid/acc_vowel  0.994565 valid/acc_consonant  0.994172 valid/loss_grapheme  0.089338 valid/loss_vowel  0.058985 valid/loss_consonant  0.053862 valid/recall  0.988399 lr  0.000343 elapsed_time  29086.664945 \n"
     ]
    },
    {
     "name": "stderr",
     "output_type": "stream",
     "text": [
      "                                                                                                                                         \r"
     ]
    },
    {
     "name": "stdout",
     "output_type": "stream",
     "text": [
      "epoch     76 train/loss  3.320441 train/acc_grapheme  0.586193 train/acc_vowel  0.717282 train/acc_consonant  0.816307 train/recall  0.672824 valid/loss  0.199562 valid/acc_grapheme  0.984756 valid/acc_vowel  0.994639 valid/acc_consonant  0.994521 valid/loss_grapheme  0.088658 valid/loss_vowel  0.056938 valid/loss_consonant  0.053966 valid/recall  0.988071 lr  0.000343 elapsed_time  29469.180951 \n"
     ]
    },
    {
     "name": "stderr",
     "output_type": "stream",
     "text": [
      "                                                                                                                                            \r"
     ]
    },
    {
     "name": "stdout",
     "output_type": "stream",
     "text": [
      "epoch     77 train/loss  3.364953 train/acc_grapheme  0.565423 train/acc_vowel  0.702372 train/acc_consonant  0.805421 train/recall  0.655869 valid/loss  0.168089 valid/acc_grapheme  0.984767 valid/acc_vowel  0.994932 valid/acc_consonant  0.994521 valid/loss_grapheme  0.078978 valid/loss_vowel  0.042450 valid/loss_consonant  0.046661 valid/recall  0.988322 lr  0.000343 elapsed_time  29848.706825 \n"
     ]
    },
    {
     "name": "stderr",
     "output_type": "stream",
     "text": [
      "                                                                                                                                            \r"
     ]
    },
    {
     "name": "stdout",
     "output_type": "stream",
     "text": [
      "epoch     78 train/loss  3.308531 train/acc_grapheme  0.589184 train/acc_vowel  0.721263 train/acc_consonant  0.815187 train/recall  0.675103 valid/loss  0.178243 valid/acc_grapheme  0.984369 valid/acc_vowel  0.994191 valid/acc_consonant  0.994122 valid/loss_grapheme  0.085777 valid/loss_vowel  0.046281 valid/loss_consonant  0.046184 valid/recall  0.988357 lr  0.000343 elapsed_time  30233.817688 \n"
     ]
    },
    {
     "name": "stderr",
     "output_type": "stream",
     "text": [
      "                                                                                                                                            \r"
     ]
    },
    {
     "name": "stdout",
     "output_type": "stream",
     "text": [
      "epoch     79 train/loss  3.394321 train/acc_grapheme  0.564907 train/acc_vowel  0.702858 train/acc_consonant  0.806535 train/recall  0.657039 valid/loss  0.496396 valid/acc_grapheme  0.980775 valid/acc_vowel  0.992425 valid/acc_consonant  0.990838 valid/loss_grapheme  0.199151 valid/loss_vowel  0.175158 valid/loss_consonant  0.122088 valid/recall  0.987379 lr  0.000343 elapsed_time  30618.835627 \n"
     ]
    },
    {
     "name": "stderr",
     "output_type": "stream",
     "text": [
      "                                                                                                                                            \r"
     ]
    },
    {
     "name": "stdout",
     "output_type": "stream",
     "text": [
      "epoch     80 train/loss  3.272013 train/acc_grapheme  0.593178 train/acc_vowel  0.721941 train/acc_consonant  0.817905 train/recall  0.678268 valid/loss  0.188247 valid/acc_grapheme  0.985956 valid/acc_vowel  0.994857 valid/acc_consonant  0.994919 valid/loss_grapheme  0.089403 valid/loss_vowel  0.050945 valid/loss_consonant  0.047898 valid/recall  0.989337 lr  0.000343 elapsed_time  31003.222028 \n"
     ]
    },
    {
     "name": "stderr",
     "output_type": "stream",
     "text": [
      "                                                                                                                                            \r"
     ]
    },
    {
     "name": "stdout",
     "output_type": "stream",
     "text": [
      "epoch     81 train/loss  3.299074 train/acc_grapheme  0.595038 train/acc_vowel  0.724529 train/acc_consonant  0.818086 train/recall  0.682030 valid/loss  0.142601 valid/acc_grapheme  0.987051 valid/acc_vowel  0.995211 valid/acc_consonant  0.994869 valid/loss_grapheme  0.065417 valid/loss_vowel  0.039060 valid/loss_consonant  0.038124 valid/recall  0.990506 lr  0.000240 elapsed_time  31389.037710 \n"
     ]
    },
    {
     "name": "stderr",
     "output_type": "stream",
     "text": [
      "                                                                                                                                           \r"
     ]
    },
    {
     "name": "stdout",
     "output_type": "stream",
     "text": [
      "epoch     82 train/loss  3.320817 train/acc_grapheme  0.571519 train/acc_vowel  0.702435 train/acc_consonant  0.808811 train/recall  0.659136 valid/loss  0.163864 valid/acc_grapheme  0.987902 valid/acc_vowel  0.995093 valid/acc_consonant  0.995192 valid/loss_grapheme  0.076889 valid/loss_vowel  0.043548 valid/loss_consonant  0.043427 valid/recall  0.991162 lr  0.000240 elapsed_time  31773.570721 \n"
     ]
    },
    {
     "name": "stderr",
     "output_type": "stream",
     "text": [
      "                                                                                                                                            \r"
     ]
    },
    {
     "name": "stdout",
     "output_type": "stream",
     "text": [
      "epoch     83 train/loss  3.261658 train/acc_grapheme  0.591791 train/acc_vowel  0.719434 train/acc_consonant  0.817034 train/recall  0.676506 valid/loss  0.134629 valid/acc_grapheme  0.987374 valid/acc_vowel  0.995162 valid/acc_consonant  0.995074 valid/loss_grapheme  0.060298 valid/loss_vowel  0.036134 valid/loss_consonant  0.038197 valid/recall  0.990157 lr  0.000240 elapsed_time  32159.776264 \n"
     ]
    },
    {
     "name": "stderr",
     "output_type": "stream",
     "text": [
      "                                                                                                                                            \r"
     ]
    },
    {
     "name": "stdout",
     "output_type": "stream",
     "text": [
      "epoch     84 train/loss  3.303467 train/acc_grapheme  0.579263 train/acc_vowel  0.709370 train/acc_consonant  0.809912 train/recall  0.664815 valid/loss  0.190610 valid/acc_grapheme  0.988096 valid/acc_vowel  0.995062 valid/acc_consonant  0.995292 valid/loss_grapheme  0.083330 valid/loss_vowel  0.055910 valid/loss_consonant  0.051370 valid/recall  0.991303 lr  0.000240 elapsed_time  32540.466459 \n"
     ]
    },
    {
     "name": "stderr",
     "output_type": "stream",
     "text": [
      "                                                                                                                                          \r"
     ]
    },
    {
     "name": "stdout",
     "output_type": "stream",
     "text": [
      "epoch     85 train/loss  3.265597 train/acc_grapheme  0.591088 train/acc_vowel  0.719646 train/acc_consonant  0.816742 train/recall  0.678351 valid/loss  0.167809 valid/acc_grapheme  0.988220 valid/acc_vowel  0.995585 valid/acc_consonant  0.995541 valid/loss_grapheme  0.073742 valid/loss_vowel  0.049108 valid/loss_consonant  0.044959 valid/recall  0.990860 lr  0.000240 elapsed_time  32921.565711 \n"
     ]
    },
    {
     "name": "stderr",
     "output_type": "stream",
     "text": [
      "                                                                                                                                           \r"
     ]
    },
    {
     "name": "stdout",
     "output_type": "stream",
     "text": [
      "epoch     86 train/loss  3.247189 train/acc_grapheme  0.601015 train/acc_vowel  0.727309 train/acc_consonant  0.821239 train/recall  0.683949 valid/loss  0.269786 valid/acc_grapheme  0.986957 valid/acc_vowel  0.995336 valid/acc_consonant  0.994645 valid/loss_grapheme  0.111558 valid/loss_vowel  0.088083 valid/loss_consonant  0.070146 valid/recall  0.990695 lr  0.000240 elapsed_time  33307.529159 \n"
     ]
    },
    {
     "name": "stderr",
     "output_type": "stream",
     "text": [
      "                                                                                                                                            \r"
     ]
    },
    {
     "name": "stdout",
     "output_type": "stream",
     "text": [
      "epoch     87 train/loss  3.277055 train/acc_grapheme  0.584656 train/acc_vowel  0.710465 train/acc_consonant  0.813271 train/recall  0.666814 valid/loss  0.250849 valid/acc_grapheme  0.982522 valid/acc_vowel  0.993987 valid/acc_consonant  0.993152 valid/loss_grapheme  0.117480 valid/loss_vowel  0.070608 valid/loss_consonant  0.062761 valid/recall  0.987750 lr  0.000240 elapsed_time  33692.617121 \n"
     ]
    },
    {
     "name": "stderr",
     "output_type": "stream",
     "text": [
      "                                                                                                                                           \r"
     ]
    },
    {
     "name": "stdout",
     "output_type": "stream",
     "text": [
      "epoch     88 train/loss  3.281191 train/acc_grapheme  0.585975 train/acc_vowel  0.714352 train/acc_consonant  0.814267 train/recall  0.670910 valid/loss  0.206085 valid/acc_grapheme  0.982771 valid/acc_vowel  0.993967 valid/acc_consonant  0.993127 valid/loss_grapheme  0.097959 valid/loss_vowel  0.055688 valid/loss_consonant  0.052437 valid/recall  0.986831 lr  0.000240 elapsed_time  34078.215986 \n"
     ]
    },
    {
     "name": "stderr",
     "output_type": "stream",
     "text": [
      "                                                                                                                                            \r"
     ]
    },
    {
     "name": "stdout",
     "output_type": "stream",
     "text": [
      "epoch     89 train/loss  3.229050 train/acc_grapheme  0.598726 train/acc_vowel  0.726762 train/acc_consonant  0.822409 train/recall  0.681627 valid/loss  0.173834 valid/acc_grapheme  0.987181 valid/acc_vowel  0.994894 valid/acc_consonant  0.995099 valid/loss_grapheme  0.076654 valid/loss_vowel  0.050899 valid/loss_consonant  0.046281 valid/recall  0.990275 lr  0.000240 elapsed_time  34462.152636 \n"
     ]
    },
    {
     "name": "stderr",
     "output_type": "stream",
     "text": [
      "                                                                                                                                            \r"
     ]
    },
    {
     "name": "stdout",
     "output_type": "stream",
     "text": [
      "epoch     90 train/loss  3.270718 train/acc_grapheme  0.585533 train/acc_vowel  0.715870 train/acc_consonant  0.813190 train/recall  0.670660 valid/loss  0.188066 valid/acc_grapheme  0.987803 valid/acc_vowel  0.995192 valid/acc_consonant  0.995248 valid/loss_grapheme  0.084255 valid/loss_vowel  0.055501 valid/loss_consonant  0.048310 valid/recall  0.990618 lr  0.000240 elapsed_time  34845.648938 \n"
     ]
    },
    {
     "name": "stderr",
     "output_type": "stream",
     "text": [
      "                                                                                                                                            \r"
     ]
    },
    {
     "name": "stdout",
     "output_type": "stream",
     "text": [
      "epoch     91 train/loss  3.240452 train/acc_grapheme  0.591903 train/acc_vowel  0.718706 train/acc_consonant  0.817992 train/recall  0.675793 valid/loss  0.150477 valid/acc_grapheme  0.987877 valid/acc_vowel  0.995366 valid/acc_consonant  0.995422 valid/loss_grapheme  0.069066 valid/loss_vowel  0.040510 valid/loss_consonant  0.040901 valid/recall  0.990193 lr  0.000168 elapsed_time  35230.676597 \n"
     ]
    },
    {
     "name": "stderr",
     "output_type": "stream",
     "text": [
      "                                                                                                                                            \r"
     ]
    },
    {
     "name": "stdout",
     "output_type": "stream",
     "text": [
      "epoch     92 train/loss  3.237178 train/acc_grapheme  0.582473 train/acc_vowel  0.708238 train/acc_consonant  0.810211 train/recall  0.663542 valid/loss  0.172956 valid/acc_grapheme  0.987529 valid/acc_vowel  0.995361 valid/acc_consonant  0.995441 valid/loss_grapheme  0.077366 valid/loss_vowel  0.050102 valid/loss_consonant  0.045488 valid/recall  0.990613 lr  0.000168 elapsed_time  35616.598720 \n"
     ]
    },
    {
     "name": "stderr",
     "output_type": "stream",
     "text": [
      "                                                                                                                                           \r"
     ]
    },
    {
     "name": "stdout",
     "output_type": "stream",
     "text": [
      "epoch     93 train/loss  3.223524 train/acc_grapheme  0.608081 train/acc_vowel  0.732509 train/acc_consonant  0.826315 train/recall  0.690830 valid/loss  0.141585 valid/acc_grapheme  0.988947 valid/acc_vowel  0.995510 valid/acc_consonant  0.995342 valid/loss_grapheme  0.063494 valid/loss_vowel  0.039744 valid/loss_consonant  0.038347 valid/recall  0.991297 lr  0.000168 elapsed_time  36002.935896 \n"
     ]
    },
    {
     "name": "stderr",
     "output_type": "stream",
     "text": [
      "                                                                                                                                            \r"
     ]
    },
    {
     "name": "stdout",
     "output_type": "stream",
     "text": [
      "epoch     94 train/loss  3.218262 train/acc_grapheme  0.593949 train/acc_vowel  0.718072 train/acc_consonant  0.815747 train/recall  0.674079 valid/loss  0.152552 valid/acc_grapheme  0.988773 valid/acc_vowel  0.995317 valid/acc_consonant  0.995416 valid/loss_grapheme  0.066952 valid/loss_vowel  0.043719 valid/loss_consonant  0.041881 valid/recall  0.991260 lr  0.000168 elapsed_time  36388.271886 \n"
     ]
    },
    {
     "name": "stderr",
     "output_type": "stream",
     "text": [
      "                                                                                                                                            \r"
     ]
    },
    {
     "name": "stdout",
     "output_type": "stream",
     "text": [
      "epoch     95 train/loss  3.226109 train/acc_grapheme  0.585303 train/acc_vowel  0.709849 train/acc_consonant  0.811013 train/recall  0.667839 valid/loss  0.124594 valid/acc_grapheme  0.988270 valid/acc_vowel  0.995485 valid/acc_consonant  0.995292 valid/loss_grapheme  0.057908 valid/loss_vowel  0.032223 valid/loss_consonant  0.034464 valid/recall  0.990755 lr  0.000168 elapsed_time  36773.939396 \n"
     ]
    },
    {
     "name": "stderr",
     "output_type": "stream",
     "text": [
      "                                                                                                                                           \r"
     ]
    },
    {
     "name": "stdout",
     "output_type": "stream",
     "text": [
      "epoch     96 train/loss  3.232112 train/acc_grapheme  0.587144 train/acc_vowel  0.715590 train/acc_consonant  0.814901 train/recall  0.672222 valid/loss  0.187767 valid/acc_grapheme  0.987380 valid/acc_vowel  0.995192 valid/acc_consonant  0.995074 valid/loss_grapheme  0.081430 valid/loss_vowel  0.056574 valid/loss_consonant  0.049763 valid/recall  0.989978 lr  0.000168 elapsed_time  37159.438346 \n"
     ]
    },
    {
     "name": "stderr",
     "output_type": "stream",
     "text": [
      "                                                                                                                                            \r"
     ]
    },
    {
     "name": "stdout",
     "output_type": "stream",
     "text": [
      "epoch     97 train/loss  3.255866 train/acc_grapheme  0.590086 train/acc_vowel  0.715497 train/acc_consonant  0.815498 train/recall  0.673079 valid/loss  0.151691 valid/acc_grapheme  0.988898 valid/acc_vowel  0.995355 valid/acc_consonant  0.995615 valid/loss_grapheme  0.065479 valid/loss_vowel  0.043875 valid/loss_consonant  0.042337 valid/recall  0.991370 lr  0.000118 elapsed_time  37544.045625 \n"
     ]
    },
    {
     "name": "stderr",
     "output_type": "stream",
     "text": [
      "                                                                                                                                           \r"
     ]
    },
    {
     "name": "stdout",
     "output_type": "stream",
     "text": [
      "epoch     98 train/loss  3.196443 train/acc_grapheme  0.612429 train/acc_vowel  0.734431 train/acc_consonant  0.827627 train/recall  0.690008 valid/loss  0.140338 valid/acc_grapheme  0.988892 valid/acc_vowel  0.995709 valid/acc_consonant  0.995342 valid/loss_grapheme  0.061508 valid/loss_vowel  0.038028 valid/loss_consonant  0.040803 valid/recall  0.991562 lr  0.000118 elapsed_time  37929.704385 \n"
     ]
    },
    {
     "name": "stderr",
     "output_type": "stream",
     "text": [
      "                                                                                                                                          \r"
     ]
    },
    {
     "name": "stdout",
     "output_type": "stream",
     "text": [
      "epoch     99 train/loss  3.198931 train/acc_grapheme  0.602054 train/acc_vowel  0.727639 train/acc_consonant  0.819504 train/recall  0.682094 valid/loss  0.147328 valid/acc_grapheme  0.988145 valid/acc_vowel  0.995405 valid/acc_consonant  0.995441 valid/loss_grapheme  0.066459 valid/loss_vowel  0.042297 valid/loss_consonant  0.038572 valid/recall  0.990388 lr  0.000118 elapsed_time  38314.978061 \n"
     ]
    },
    {
     "name": "stderr",
     "output_type": "stream",
     "text": [
      "                                                                                                                                           \r"
     ]
    },
    {
     "name": "stdout",
     "output_type": "stream",
     "text": [
      "epoch    100 train/loss  3.181468 train/acc_grapheme  0.599112 train/acc_vowel  0.722271 train/acc_consonant  0.819006 train/recall  0.679036 valid/loss  0.143060 valid/acc_grapheme  0.988419 valid/acc_vowel  0.995778 valid/acc_consonant  0.995491 valid/loss_grapheme  0.064007 valid/loss_vowel  0.040170 valid/loss_consonant  0.038884 valid/recall  0.990837 lr  0.000118 elapsed_time  38699.458672 \n"
     ]
    },
    {
     "name": "stderr",
     "output_type": "stream",
     "text": [
      "                                                                                                                                             \r"
     ]
    },
    {
     "name": "stdout",
     "output_type": "stream",
     "text": [
      "epoch    101 train/loss  3.282564 train/acc_grapheme  0.574063 train/acc_vowel  0.704431 train/acc_consonant  0.807499 train/recall  0.659554 valid/loss  0.139117 valid/acc_grapheme  0.989271 valid/acc_vowel  0.995964 valid/acc_consonant  0.995740 valid/loss_grapheme  0.061758 valid/loss_vowel  0.037652 valid/loss_consonant  0.039706 valid/recall  0.991510 lr  0.000118 elapsed_time  39082.225086 \n"
     ]
    },
    {
     "name": "stderr",
     "output_type": "stream",
     "text": [
      "                                                                                                                                            \r"
     ]
    },
    {
     "name": "stdout",
     "output_type": "stream",
     "text": [
      "epoch    102 train/loss  3.260390 train/acc_grapheme  0.590795 train/acc_vowel  0.719049 train/acc_consonant  0.818347 train/recall  0.675056 valid/loss  0.145960 valid/acc_grapheme  0.986453 valid/acc_vowel  0.995093 valid/acc_consonant  0.994869 valid/loss_grapheme  0.070638 valid/loss_vowel  0.037000 valid/loss_consonant  0.038322 valid/recall  0.989468 lr  0.000118 elapsed_time  39464.770663 \n"
     ]
    },
    {
     "name": "stderr",
     "output_type": "stream",
     "text": [
      "                                                                                                                                             \r"
     ]
    },
    {
     "name": "stdout",
     "output_type": "stream",
     "text": [
      "epoch    103 train/loss  3.208855 train/acc_grapheme  0.593607 train/acc_vowel  0.719123 train/acc_consonant  0.817202 train/recall  0.675932 valid/loss  0.137390 valid/acc_grapheme  0.986783 valid/acc_vowel  0.995167 valid/acc_consonant  0.995024 valid/loss_grapheme  0.066196 valid/loss_vowel  0.035247 valid/loss_consonant  0.035947 valid/recall  0.989849 lr  0.000118 elapsed_time  39850.363135 \n"
     ]
    },
    {
     "name": "stderr",
     "output_type": "stream",
     "text": [
      "                                                                                                                                             \r"
     ]
    },
    {
     "name": "stdout",
     "output_type": "stream",
     "text": [
      "epoch    104 train/loss  3.223417 train/acc_grapheme  0.581235 train/acc_vowel  0.705402 train/acc_consonant  0.810118 train/recall  0.663545 valid/loss  0.210799 valid/acc_grapheme  0.985458 valid/acc_vowel  0.994944 valid/acc_consonant  0.994477 valid/loss_grapheme  0.098174 valid/loss_vowel  0.058922 valid/loss_consonant  0.053703 valid/recall  0.989216 lr  0.000118 elapsed_time  40235.539247 \n"
     ]
    },
    {
     "name": "stderr",
     "output_type": "stream",
     "text": [
      "                                                                                                                                            \r"
     ]
    },
    {
     "name": "stdout",
     "output_type": "stream",
     "text": [
      "epoch    105 train/loss  3.254247 train/acc_grapheme  0.584619 train/acc_vowel  0.713836 train/acc_consonant  0.815380 train/recall  0.670922 valid/loss  0.126367 valid/acc_grapheme  0.988052 valid/acc_vowel  0.995541 valid/acc_consonant  0.995546 valid/loss_grapheme  0.057261 valid/loss_vowel  0.033057 valid/loss_consonant  0.036049 valid/recall  0.990435 lr  0.000082 elapsed_time  40620.890081 \n"
     ]
    },
    {
     "name": "stderr",
     "output_type": "stream",
     "text": [
      "                                                                                                                                             \r"
     ]
    },
    {
     "name": "stdout",
     "output_type": "stream",
     "text": [
      "epoch    106 train/loss  3.162280 train/acc_grapheme  0.603702 train/acc_vowel  0.722227 train/acc_consonant  0.821706 train/recall  0.680424 valid/loss  0.119390 valid/acc_grapheme  0.988475 valid/acc_vowel  0.995615 valid/acc_consonant  0.995273 valid/loss_grapheme  0.054756 valid/loss_vowel  0.031669 valid/loss_consonant  0.032966 valid/recall  0.990980 lr  0.000082 elapsed_time  41004.321169 \n"
     ]
    },
    {
     "name": "stderr",
     "output_type": "stream",
     "text": [
      "                                                                                                                                            \r"
     ]
    },
    {
     "name": "stdout",
     "output_type": "stream",
     "text": [
      "epoch    107 train/loss  3.225123 train/acc_grapheme  0.598191 train/acc_vowel  0.723533 train/acc_consonant  0.819268 train/recall  0.679867 valid/loss  0.166325 valid/acc_grapheme  0.989091 valid/acc_vowel  0.995734 valid/acc_consonant  0.995845 valid/loss_grapheme  0.072510 valid/loss_vowel  0.049526 valid/loss_consonant  0.044288 valid/recall  0.991699 lr  0.000082 elapsed_time  41389.874132 \n"
     ]
    },
    {
     "name": "stderr",
     "output_type": "stream",
     "text": [
      "                                                                                                                                            \r"
     ]
    },
    {
     "name": "stdout",
     "output_type": "stream",
     "text": [
      "epoch    108 train/loss  3.206789 train/acc_grapheme  0.598272 train/acc_vowel  0.726469 train/acc_consonant  0.821370 train/recall  0.680830 valid/loss  0.152534 valid/acc_grapheme  0.989265 valid/acc_vowel  0.995759 valid/acc_consonant  0.995839 valid/loss_grapheme  0.067843 valid/loss_vowel  0.043981 valid/loss_consonant  0.040710 valid/recall  0.991763 lr  0.000082 elapsed_time  41775.506958 \n"
     ]
    },
    {
     "name": "stderr",
     "output_type": "stream",
     "text": [
      "                                                                                                                                             \r"
     ]
    },
    {
     "name": "stdout",
     "output_type": "stream",
     "text": [
      "epoch    109 train/loss  3.210281 train/acc_grapheme  0.580445 train/acc_vowel  0.705364 train/acc_consonant  0.810989 train/recall  0.659937 valid/loss  0.134820 valid/acc_grapheme  0.989016 valid/acc_vowel  0.995734 valid/acc_consonant  0.995590 valid/loss_grapheme  0.060242 valid/loss_vowel  0.038097 valid/loss_consonant  0.036480 valid/recall  0.991596 lr  0.000082 elapsed_time  42159.922161 \n"
     ]
    },
    {
     "name": "stderr",
     "output_type": "stream",
     "text": [
      "                                                                                                                                           \r"
     ]
    },
    {
     "name": "stdout",
     "output_type": "stream",
     "text": [
      "epoch    110 train/loss  3.158895 train/acc_grapheme  0.606962 train/acc_vowel  0.725493 train/acc_consonant  0.820431 train/recall  0.685214 valid/loss  0.128370 valid/acc_grapheme  0.988469 valid/acc_vowel  0.995590 valid/acc_consonant  0.995820 valid/loss_grapheme  0.057711 valid/loss_vowel  0.035177 valid/loss_consonant  0.035481 valid/recall  0.991076 lr  0.000082 elapsed_time  42546.701024 \n"
     ]
    },
    {
     "name": "stderr",
     "output_type": "stream",
     "text": [
      "                                                                                                                                            \r"
     ]
    },
    {
     "name": "stdout",
     "output_type": "stream",
     "text": [
      "epoch    111 train/loss  3.221624 train/acc_grapheme  0.593122 train/acc_vowel  0.718532 train/acc_consonant  0.817302 train/recall  0.675060 valid/loss  0.176769 valid/acc_grapheme  0.988643 valid/acc_vowel  0.995684 valid/acc_consonant  0.995640 valid/loss_grapheme  0.076608 valid/loss_vowel  0.053379 valid/loss_consonant  0.046782 valid/recall  0.991578 lr  0.000082 elapsed_time  42932.329015 \n"
     ]
    },
    {
     "name": "stderr",
     "output_type": "stream",
     "text": [
      "                                                                                                                                             \r"
     ]
    },
    {
     "name": "stdout",
     "output_type": "stream",
     "text": [
      "epoch    112 train/loss  3.114874 train/acc_grapheme  0.618500 train/acc_vowel  0.737236 train/acc_consonant  0.830669 train/recall  0.696377 valid/loss  0.136704 valid/acc_grapheme  0.989420 valid/acc_vowel  0.995715 valid/acc_consonant  0.995721 valid/loss_grapheme  0.060713 valid/loss_vowel  0.039294 valid/loss_consonant  0.036697 valid/recall  0.991493 lr  0.000082 elapsed_time  43317.903764 \n"
     ]
    },
    {
     "name": "stderr",
     "output_type": "stream",
     "text": [
      "                                                                                                                                             \r"
     ]
    },
    {
     "name": "stdout",
     "output_type": "stream",
     "text": [
      "epoch    113 train/loss  3.210146 train/acc_grapheme  0.591784 train/acc_vowel  0.717046 train/acc_consonant  0.817955 train/recall  0.673924 valid/loss  0.146856 valid/acc_grapheme  0.989669 valid/acc_vowel  0.995590 valid/acc_consonant  0.996094 valid/loss_grapheme  0.064368 valid/loss_vowel  0.043690 valid/loss_consonant  0.038799 valid/recall  0.992245 lr  0.000082 elapsed_time  43702.264615 \n"
     ]
    },
    {
     "name": "stderr",
     "output_type": "stream",
     "text": [
      "                                                                                                                                             \r"
     ]
    },
    {
     "name": "stdout",
     "output_type": "stream",
     "text": [
      "epoch    114 train/loss  3.242182 train/acc_grapheme  0.590851 train/acc_vowel  0.716585 train/acc_consonant  0.814758 train/recall  0.672768 valid/loss  0.113189 valid/acc_grapheme  0.989047 valid/acc_vowel  0.995814 valid/acc_consonant  0.995491 valid/loss_grapheme  0.052468 valid/loss_vowel  0.029812 valid/loss_consonant  0.030909 valid/recall  0.991345 lr  0.000082 elapsed_time  44087.250594 \n"
     ]
    },
    {
     "name": "stderr",
     "output_type": "stream",
     "text": [
      "                                                                                                                                             \r"
     ]
    },
    {
     "name": "stdout",
     "output_type": "stream",
     "text": [
      "epoch    115 train/loss  3.203244 train/acc_grapheme  0.601979 train/acc_vowel  0.728939 train/acc_consonant  0.825954 train/recall  0.687215 valid/loss  0.131397 valid/acc_grapheme  0.989171 valid/acc_vowel  0.995610 valid/acc_consonant  0.995541 valid/loss_grapheme  0.058043 valid/loss_vowel  0.038981 valid/loss_consonant  0.034373 valid/recall  0.991689 lr  0.000082 elapsed_time  44472.098723 \n"
     ]
    },
    {
     "name": "stderr",
     "output_type": "stream",
     "text": [
      "                                                                                                                                            \r"
     ]
    },
    {
     "name": "stdout",
     "output_type": "stream",
     "text": [
      "epoch    116 train/loss  3.139420 train/acc_grapheme  0.599553 train/acc_vowel  0.721325 train/acc_consonant  0.818869 train/recall  0.677951 valid/loss  0.187991 valid/acc_grapheme  0.987797 valid/acc_vowel  0.995236 valid/acc_consonant  0.994974 valid/loss_grapheme  0.079324 valid/loss_vowel  0.060169 valid/loss_consonant  0.048498 valid/recall  0.990585 lr  0.000082 elapsed_time  44858.212937 \n"
     ]
    },
    {
     "name": "stderr",
     "output_type": "stream",
     "text": [
      "                                                                                                                                           \r"
     ]
    },
    {
     "name": "stdout",
     "output_type": "stream",
     "text": [
      "epoch    117 train/loss  3.155227 train/acc_grapheme  0.609145 train/acc_vowel  0.729517 train/acc_consonant  0.824990 train/recall  0.690287 valid/loss  0.138296 valid/acc_grapheme  0.988942 valid/acc_vowel  0.995485 valid/acc_consonant  0.995994 valid/loss_grapheme  0.061249 valid/loss_vowel  0.040246 valid/loss_consonant  0.036801 valid/recall  0.991518 lr  0.000082 elapsed_time  45244.193915 \n"
     ]
    },
    {
     "name": "stderr",
     "output_type": "stream",
     "text": [
      "                                                                                                                                           \r"
     ]
    },
    {
     "name": "stdout",
     "output_type": "stream",
     "text": [
      "epoch    118 train/loss  3.120712 train/acc_grapheme  0.614762 train/acc_vowel  0.731097 train/acc_consonant  0.826844 train/recall  0.689964 valid/loss  0.186563 valid/acc_grapheme  0.989041 valid/acc_vowel  0.995858 valid/acc_consonant  0.995939 valid/loss_grapheme  0.081862 valid/loss_vowel  0.056511 valid/loss_consonant  0.048190 valid/recall  0.991693 lr  0.000082 elapsed_time  45627.578666 \n"
     ]
    },
    {
     "name": "stderr",
     "output_type": "stream",
     "text": [
      "                                                                                                                                            \r"
     ]
    },
    {
     "name": "stdout",
     "output_type": "stream",
     "text": [
      "epoch    119 train/loss  3.161689 train/acc_grapheme  0.604175 train/acc_vowel  0.721033 train/acc_consonant  0.821762 train/recall  0.680768 valid/loss  0.133453 valid/acc_grapheme  0.989240 valid/acc_vowel  0.995590 valid/acc_consonant  0.995994 valid/loss_grapheme  0.058072 valid/loss_vowel  0.038699 valid/loss_consonant  0.036683 valid/recall  0.991817 lr  0.000082 elapsed_time  46012.661975 \n"
     ]
    },
    {
     "name": "stderr",
     "output_type": "stream",
     "text": [
      "                                                                                                                                             \r"
     ]
    },
    {
     "name": "stdout",
     "output_type": "stream",
     "text": [
      "epoch    120 train/loss  3.180155 train/acc_grapheme  0.602595 train/acc_vowel  0.724286 train/acc_consonant  0.822738 train/recall  0.682343 valid/loss  0.108060 valid/acc_grapheme  0.989345 valid/acc_vowel  0.995665 valid/acc_consonant  0.995696 valid/loss_grapheme  0.049414 valid/loss_vowel  0.028759 valid/loss_consonant  0.029887 valid/recall  0.991673 lr  0.000058 elapsed_time  46398.519878 \n"
     ]
    },
    {
     "name": "stderr",
     "output_type": "stream",
     "text": [
      "                                                                                                                                             \r"
     ]
    },
    {
     "name": "stdout",
     "output_type": "stream",
     "text": [
      "epoch    121 train/loss  3.110771 train/acc_grapheme  0.614494 train/acc_vowel  0.731246 train/acc_consonant  0.826247 train/recall  0.691185 valid/loss  0.120219 valid/acc_grapheme  0.989047 valid/acc_vowel  0.995889 valid/acc_consonant  0.996063 valid/loss_grapheme  0.055558 valid/loss_vowel  0.032854 valid/loss_consonant  0.031808 valid/recall  0.992187 lr  0.000058 elapsed_time  46784.035985 \n"
     ]
    },
    {
     "name": "stderr",
     "output_type": "stream",
     "text": [
      "                                                                                                                                             \r"
     ]
    },
    {
     "name": "stdout",
     "output_type": "stream",
     "text": [
      "epoch    122 train/loss  3.161450 train/acc_grapheme  0.608380 train/acc_vowel  0.730966 train/acc_consonant  0.827565 train/recall  0.690446 valid/loss  0.140320 valid/acc_grapheme  0.988643 valid/acc_vowel  0.995615 valid/acc_consonant  0.995939 valid/loss_grapheme  0.062881 valid/loss_vowel  0.039688 valid/loss_consonant  0.037750 valid/recall  0.991459 lr  0.000058 elapsed_time  47165.716997 \n"
     ]
    },
    {
     "name": "stderr",
     "output_type": "stream",
     "text": [
      "                                                                                                                                            \r"
     ]
    },
    {
     "name": "stdout",
     "output_type": "stream",
     "text": [
      "epoch    123 train/loss  3.175645 train/acc_grapheme  0.608498 train/acc_vowel  0.729405 train/acc_consonant  0.823323 train/recall  0.686451 valid/loss  0.126043 valid/acc_grapheme  0.988972 valid/acc_vowel  0.995814 valid/acc_consonant  0.995596 valid/loss_grapheme  0.057199 valid/loss_vowel  0.035150 valid/loss_consonant  0.033694 valid/recall  0.991735 lr  0.000058 elapsed_time  47549.909338 \n"
     ]
    },
    {
     "name": "stderr",
     "output_type": "stream",
     "text": [
      "                                                                                                                                             \r"
     ]
    },
    {
     "name": "stdout",
     "output_type": "stream",
     "text": [
      "epoch    124 train/loss  3.148394 train/acc_grapheme  0.624104 train/acc_vowel  0.746554 train/acc_consonant  0.834333 train/recall  0.701824 valid/loss  0.160580 valid/acc_grapheme  0.988873 valid/acc_vowel  0.995814 valid/acc_consonant  0.995820 valid/loss_grapheme  0.069754 valid/loss_vowel  0.048721 valid/loss_consonant  0.042105 valid/recall  0.991888 lr  0.000058 elapsed_time  47934.983814 \n"
     ]
    },
    {
     "name": "stderr",
     "output_type": "stream",
     "text": [
      "                                                                                                                                             \r"
     ]
    },
    {
     "name": "stdout",
     "output_type": "stream",
     "text": [
      "epoch    125 train/loss  3.159445 train/acc_grapheme  0.611446 train/acc_vowel  0.733249 train/acc_consonant  0.826128 train/recall  0.692035 valid/loss  0.124367 valid/acc_grapheme  0.989688 valid/acc_vowel  0.995889 valid/acc_consonant  0.995988 valid/loss_grapheme  0.056519 valid/loss_vowel  0.034251 valid/loss_consonant  0.033596 valid/recall  0.992501 lr  0.000058 elapsed_time  48320.109905 \n"
     ]
    },
    {
     "name": "stderr",
     "output_type": "stream",
     "text": [
      "                                                                                                                                             \r"
     ]
    },
    {
     "name": "stdout",
     "output_type": "stream",
     "text": [
      "epoch    126 train/loss  3.147219 train/acc_grapheme  0.600200 train/acc_vowel  0.719148 train/acc_consonant  0.818565 train/recall  0.676970 valid/loss  0.151802 valid/acc_grapheme  0.989110 valid/acc_vowel  0.995430 valid/acc_consonant  0.995566 valid/loss_grapheme  0.065943 valid/loss_vowel  0.046426 valid/loss_consonant  0.039433 valid/recall  0.991661 lr  0.000058 elapsed_time  48706.805765 \n"
     ]
    },
    {
     "name": "stderr",
     "output_type": "stream",
     "text": [
      "                                                                                                                                           \r"
     ]
    },
    {
     "name": "stdout",
     "output_type": "stream",
     "text": [
      "epoch    127 train/loss  3.134486 train/acc_grapheme  0.599597 train/acc_vowel  0.718451 train/acc_consonant  0.818111 train/recall  0.677162 valid/loss  0.123724 valid/acc_grapheme  0.988867 valid/acc_vowel  0.995684 valid/acc_consonant  0.995416 valid/loss_grapheme  0.056749 valid/loss_vowel  0.033768 valid/loss_consonant  0.033207 valid/recall  0.991191 lr  0.000058 elapsed_time  49097.361611 \n"
     ]
    },
    {
     "name": "stderr",
     "output_type": "stream",
     "text": [
      "                                                                                                                                           \r"
     ]
    },
    {
     "name": "stdout",
     "output_type": "stream",
     "text": [
      "epoch    128 train/loss  3.118597 train/acc_grapheme  0.604878 train/acc_vowel  0.722575 train/acc_consonant  0.820723 train/recall  0.682869 valid/loss  0.139140 valid/acc_grapheme  0.988917 valid/acc_vowel  0.995958 valid/acc_consonant  0.995814 valid/loss_grapheme  0.062006 valid/loss_vowel  0.040787 valid/loss_consonant  0.036346 valid/recall  0.991775 lr  0.000058 elapsed_time  49487.815178 \n"
     ]
    },
    {
     "name": "stderr",
     "output_type": "stream",
     "text": [
      "                                                                                                                                             \r"
     ]
    },
    {
     "name": "stdout",
     "output_type": "stream",
     "text": [
      "epoch    129 train/loss  3.172082 train/acc_grapheme  0.591505 train/acc_vowel  0.716131 train/acc_consonant  0.816792 train/recall  0.672497 valid/loss  0.119597 valid/acc_grapheme  0.989196 valid/acc_vowel  0.995740 valid/acc_consonant  0.995740 valid/loss_grapheme  0.054538 valid/loss_vowel  0.033119 valid/loss_consonant  0.031941 valid/recall  0.991614 lr  0.000058 elapsed_time  49877.765342 \n"
     ]
    },
    {
     "name": "stderr",
     "output_type": "stream",
     "text": [
      "                                                                                                                                             \r"
     ]
    },
    {
     "name": "stdout",
     "output_type": "stream",
     "text": [
      "epoch    130 train/loss  3.117850 train/acc_grapheme  0.610084 train/acc_vowel  0.728988 train/acc_consonant  0.824449 train/recall  0.687718 valid/loss  0.134792 valid/acc_grapheme  0.988649 valid/acc_vowel  0.995485 valid/acc_consonant  0.995366 valid/loss_grapheme  0.062454 valid/loss_vowel  0.037750 valid/loss_consonant  0.034587 valid/recall  0.991098 lr  0.000058 elapsed_time  50267.380391 \n"
     ]
    },
    {
     "name": "stderr",
     "output_type": "stream",
     "text": [
      "                                                                                                                                            \r"
     ]
    },
    {
     "name": "stdout",
     "output_type": "stream",
     "text": [
      "epoch    131 train/loss  3.117292 train/acc_grapheme  0.613742 train/acc_vowel  0.732982 train/acc_consonant  0.827155 train/recall  0.691200 valid/loss  0.119186 valid/acc_grapheme  0.989097 valid/acc_vowel  0.995615 valid/acc_consonant  0.995765 valid/loss_grapheme  0.054723 valid/loss_vowel  0.032628 valid/loss_consonant  0.031835 valid/recall  0.991900 lr  0.000058 elapsed_time  50654.962085 \n"
     ]
    },
    {
     "name": "stderr",
     "output_type": "stream",
     "text": [
      "                                                                                                                                             \r"
     ]
    },
    {
     "name": "stdout",
     "output_type": "stream",
     "text": [
      "epoch    132 train/loss  3.165000 train/acc_grapheme  0.601152 train/acc_vowel  0.723129 train/acc_consonant  0.818751 train/recall  0.678309 valid/loss  0.133685 valid/acc_grapheme  0.989246 valid/acc_vowel  0.995715 valid/acc_consonant  0.995740 valid/loss_grapheme  0.059273 valid/loss_vowel  0.038361 valid/loss_consonant  0.036051 valid/recall  0.991699 lr  0.000040 elapsed_time  51043.907777 \n"
     ]
    },
    {
     "name": "stderr",
     "output_type": "stream",
     "text": [
      "                                                                                                                                             \r"
     ]
    },
    {
     "name": "stdout",
     "output_type": "stream",
     "text": [
      "epoch    133 train/loss  3.164397 train/acc_grapheme  0.613779 train/acc_vowel  0.730618 train/acc_consonant  0.825743 train/recall  0.690530 valid/loss  0.132923 valid/acc_grapheme  0.989564 valid/acc_vowel  0.995889 valid/acc_consonant  0.995988 valid/loss_grapheme  0.057866 valid/loss_vowel  0.038865 valid/loss_consonant  0.036192 valid/recall  0.992092 lr  0.000040 elapsed_time  51432.542695 \n"
     ]
    },
    {
     "name": "stderr",
     "output_type": "stream",
     "text": [
      "                                                                                                                                             \r"
     ]
    },
    {
     "name": "stdout",
     "output_type": "stream",
     "text": [
      "epoch    134 train/loss  3.188103 train/acc_grapheme  0.594733 train/acc_vowel  0.721207 train/acc_consonant  0.817047 train/recall  0.675225 valid/loss  0.138780 valid/acc_grapheme  0.989420 valid/acc_vowel  0.995908 valid/acc_consonant  0.995789 valid/loss_grapheme  0.061242 valid/loss_vowel  0.040546 valid/loss_consonant  0.036992 valid/recall  0.991899 lr  0.000040 elapsed_time  51821.387022 \n"
     ]
    },
    {
     "name": "stderr",
     "output_type": "stream",
     "text": [
      "                                                                                                                                             \r"
     ]
    },
    {
     "name": "stdout",
     "output_type": "stream",
     "text": [
      "epoch    135 train/loss  3.193257 train/acc_grapheme  0.599255 train/acc_vowel  0.722557 train/acc_consonant  0.818677 train/recall  0.681385 valid/loss  0.109901 valid/acc_grapheme  0.989246 valid/acc_vowel  0.995914 valid/acc_consonant  0.995416 valid/loss_grapheme  0.050566 valid/loss_vowel  0.029411 valid/loss_consonant  0.029925 valid/recall  0.991622 lr  0.000040 elapsed_time  52209.079579 \n"
     ]
    },
    {
     "name": "stderr",
     "output_type": "stream",
     "text": [
      "                                                                                                                                             \r"
     ]
    },
    {
     "name": "stdout",
     "output_type": "stream",
     "text": [
      "epoch    136 train/loss  3.166676 train/acc_grapheme  0.602906 train/acc_vowel  0.725462 train/acc_consonant  0.822832 train/recall  0.685540 valid/loss  0.137974 valid/acc_grapheme  0.989246 valid/acc_vowel  0.995659 valid/acc_consonant  0.995491 valid/loss_grapheme  0.061682 valid/loss_vowel  0.039645 valid/loss_consonant  0.036647 valid/recall  0.991834 lr  0.000040 elapsed_time  52599.735531 \n"
     ]
    },
    {
     "name": "stderr",
     "output_type": "stream",
     "text": [
      "                                                                                                                                             \r"
     ]
    },
    {
     "name": "stdout",
     "output_type": "stream",
     "text": [
      "epoch    137 train/loss  3.155482 train/acc_grapheme  0.600897 train/acc_vowel  0.725001 train/acc_consonant  0.822913 train/recall  0.681951 valid/loss  0.119213 valid/acc_grapheme  0.989588 valid/acc_vowel  0.995690 valid/acc_consonant  0.995590 valid/loss_grapheme  0.053108 valid/loss_vowel  0.033875 valid/loss_consonant  0.032230 valid/recall  0.991703 lr  0.000040 elapsed_time  52988.550084 \n"
     ]
    },
    {
     "name": "stderr",
     "output_type": "stream",
     "text": [
      "                                                                                                                                             \r"
     ]
    },
    {
     "name": "stdout",
     "output_type": "stream",
     "text": [
      "epoch    138 train/loss  3.151293 train/acc_grapheme  0.607434 train/acc_vowel  0.733977 train/acc_consonant  0.824922 train/recall  0.689600 valid/loss  0.109667 valid/acc_grapheme  0.989594 valid/acc_vowel  0.995759 valid/acc_consonant  0.995839 valid/loss_grapheme  0.051327 valid/loss_vowel  0.029009 valid/loss_consonant  0.029332 valid/recall  0.992161 lr  0.000028 elapsed_time  53378.057386 \n"
     ]
    },
    {
     "name": "stderr",
     "output_type": "stream",
     "text": [
      "                                                                                                                                            \r"
     ]
    },
    {
     "name": "stdout",
     "output_type": "stream",
     "text": [
      "epoch    139 train/loss  3.124186 train/acc_grapheme  0.618942 train/acc_vowel  0.737529 train/acc_consonant  0.831720 train/recall  0.696584 valid/loss  0.161461 valid/acc_grapheme  0.989246 valid/acc_vowel  0.995690 valid/acc_consonant  0.995521 valid/loss_grapheme  0.070359 valid/loss_vowel  0.050156 valid/loss_consonant  0.040946 valid/recall  0.991916 lr  0.000028 elapsed_time  53767.531681 \n"
     ]
    },
    {
     "name": "stderr",
     "output_type": "stream",
     "text": [
      "                                                                                                                                             \r"
     ]
    },
    {
     "name": "stdout",
     "output_type": "stream",
     "text": [
      "epoch    140 train/loss  3.175969 train/acc_grapheme  0.598110 train/acc_vowel  0.720977 train/acc_consonant  0.818434 train/recall  0.676011 valid/loss  0.106466 valid/acc_grapheme  0.989345 valid/acc_vowel  0.995833 valid/acc_consonant  0.995640 valid/loss_grapheme  0.049229 valid/loss_vowel  0.029155 valid/loss_consonant  0.028082 valid/recall  0.991573 lr  0.000028 elapsed_time  54155.692658 \n"
     ]
    },
    {
     "name": "stderr",
     "output_type": "stream",
     "text": [
      "                                                                                                                                             \r"
     ]
    },
    {
     "name": "stdout",
     "output_type": "stream",
     "text": [
      "epoch    141 train/loss  3.134400 train/acc_grapheme  0.622879 train/acc_vowel  0.741870 train/acc_consonant  0.833418 train/recall  0.701993 valid/loss  0.150377 valid/acc_grapheme  0.989271 valid/acc_vowel  0.995814 valid/acc_consonant  0.995671 valid/loss_grapheme  0.065701 valid/loss_vowel  0.044949 valid/loss_consonant  0.039727 valid/recall  0.991871 lr  0.000028 elapsed_time  54543.864641 \n"
     ]
    },
    {
     "name": "stderr",
     "output_type": "stream",
     "text": [
      "                                                                                                                                             \r"
     ]
    },
    {
     "name": "stdout",
     "output_type": "stream",
     "text": [
      "epoch    142 train/loss  3.102327 train/acc_grapheme  0.606420 train/acc_vowel  0.722886 train/acc_consonant  0.819834 train/recall  0.678709 valid/loss  0.124496 valid/acc_grapheme  0.989644 valid/acc_vowel  0.995858 valid/acc_consonant  0.995814 valid/loss_grapheme  0.056612 valid/loss_vowel  0.035673 valid/loss_consonant  0.032210 valid/recall  0.992093 lr  0.000028 elapsed_time  54931.892039 \n"
     ]
    },
    {
     "name": "stderr",
     "output_type": "stream",
     "text": [
      "                                                                                                                                           \r"
     ]
    },
    {
     "name": "stdout",
     "output_type": "stream",
     "text": [
      "epoch    143 train/loss  3.181589 train/acc_grapheme  0.591337 train/acc_vowel  0.711964 train/acc_consonant  0.813035 train/recall  0.668904 valid/loss  0.133239 valid/acc_grapheme  0.990067 valid/acc_vowel  0.996008 valid/acc_consonant  0.996163 valid/loss_grapheme  0.059327 valid/loss_vowel  0.038614 valid/loss_consonant  0.035298 valid/recall  0.992412 lr  0.000028 elapsed_time  55322.115782 \n"
     ]
    },
    {
     "name": "stderr",
     "output_type": "stream",
     "text": [
      "                                                                                                                                             \r"
     ]
    },
    {
     "name": "stdout",
     "output_type": "stream",
     "text": [
      "epoch    144 train/loss  3.134814 train/acc_grapheme  0.607011 train/acc_vowel  0.727838 train/acc_consonant  0.823236 train/recall  0.686795 valid/loss  0.127650 valid/acc_grapheme  0.989918 valid/acc_vowel  0.995958 valid/acc_consonant  0.996063 valid/loss_grapheme  0.058678 valid/loss_vowel  0.035404 valid/loss_consonant  0.033568 valid/recall  0.992201 lr  0.000020 elapsed_time  55710.539384 \n"
     ]
    },
    {
     "name": "stderr",
     "output_type": "stream",
     "text": [
      "                                                                                                                                             \r"
     ]
    },
    {
     "name": "stdout",
     "output_type": "stream",
     "text": [
      "epoch    145 train/loss  3.154418 train/acc_grapheme  0.609188 train/acc_vowel  0.731974 train/acc_consonant  0.824772 train/recall  0.687737 valid/loss  0.117437 valid/acc_grapheme  0.989644 valid/acc_vowel  0.995690 valid/acc_consonant  0.995740 valid/loss_grapheme  0.054163 valid/loss_vowel  0.031997 valid/loss_consonant  0.031277 valid/recall  0.991819 lr  0.000020 elapsed_time  56098.099784 \n"
     ]
    },
    {
     "name": "stderr",
     "output_type": "stream",
     "text": [
      "                                                                                                                                             \r"
     ]
    },
    {
     "name": "stdout",
     "output_type": "stream",
     "text": [
      "epoch    146 train/loss  3.100903 train/acc_grapheme  0.615284 train/acc_vowel  0.732329 train/acc_consonant  0.825164 train/recall  0.690951 valid/loss  0.131776 valid/acc_grapheme  0.989470 valid/acc_vowel  0.995784 valid/acc_consonant  0.995740 valid/loss_grapheme  0.058597 valid/loss_vowel  0.037592 valid/loss_consonant  0.035588 valid/recall  0.991964 lr  0.000020 elapsed_time  56486.267660 \n"
     ]
    },
    {
     "name": "stderr",
     "output_type": "stream",
     "text": [
      "                                                                                                                                            \r"
     ]
    },
    {
     "name": "stdout",
     "output_type": "stream",
     "text": [
      "epoch    147 train/loss  3.100162 train/acc_grapheme  0.612155 train/acc_vowel  0.733237 train/acc_consonant  0.824256 train/recall  0.691992 valid/loss  0.121825 valid/acc_grapheme  0.989757 valid/acc_vowel  0.995958 valid/acc_consonant  0.995789 valid/loss_grapheme  0.055324 valid/loss_vowel  0.034245 valid/loss_consonant  0.032256 valid/recall  0.992025 lr  0.000020 elapsed_time  56875.033489 \n"
     ]
    },
    {
     "name": "stderr",
     "output_type": "stream",
     "text": [
      "                                                                                                                                            \r"
     ]
    },
    {
     "name": "stdout",
     "output_type": "stream",
     "text": [
      "epoch    148 train/loss  3.089867 train/acc_grapheme  0.619172 train/acc_vowel  0.735967 train/acc_consonant  0.827770 train/recall  0.695467 valid/loss  0.120950 valid/acc_grapheme  0.989619 valid/acc_vowel  0.995784 valid/acc_consonant  0.995789 valid/loss_grapheme  0.055804 valid/loss_vowel  0.033747 valid/loss_consonant  0.031398 valid/recall  0.992069 lr  0.000020 elapsed_time  57265.050924 \n"
     ]
    },
    {
     "name": "stderr",
     "output_type": "stream",
     "text": [
      "                                                                                                                                             \r"
     ]
    },
    {
     "name": "stdout",
     "output_type": "stream",
     "text": [
      "epoch    149 train/loss  3.160506 train/acc_grapheme  0.608318 train/acc_vowel  0.729567 train/acc_consonant  0.822832 train/recall  0.689239 valid/loss  0.105776 valid/acc_grapheme  0.989837 valid/acc_vowel  0.995958 valid/acc_consonant  0.995964 valid/loss_grapheme  0.048662 valid/loss_vowel  0.029589 valid/loss_consonant  0.027526 valid/recall  0.992148 lr  0.000020 elapsed_time  57654.966099 \n"
     ]
    },
    {
     "name": "stderr",
     "output_type": "stream",
     "text": [
      "                                                                                                                                            \r"
     ]
    },
    {
     "name": "stdout",
     "output_type": "stream",
     "text": [
      "epoch    150 train/loss  3.187778 train/acc_grapheme  0.599989 train/acc_vowel  0.723925 train/acc_consonant  0.819212 train/recall  0.681868 valid/loss  0.113218 valid/acc_grapheme  0.988848 valid/acc_vowel  0.995541 valid/acc_consonant  0.995391 valid/loss_grapheme  0.053745 valid/loss_vowel  0.029997 valid/loss_consonant  0.029477 valid/recall  0.990830 lr  0.000014 elapsed_time  58040.462145 \n"
     ]
    },
    {
     "data": {
      "text/plain": [
       "State:\n",
       "\titeration: 188400\n",
       "\tepoch: 150\n",
       "\tepoch_length: 1256\n",
       "\tmax_epochs: 150\n",
       "\toutput: <class 'tuple'>\n",
       "\tbatch: <class 'list'>\n",
       "\tmetrics: <class 'dict'>\n",
       "\tdataloader: <class 'torch.utils.data.dataloader.DataLoader'>\n",
       "\tseed: 12"
      ]
     },
     "execution_count": 32,
     "metadata": {},
     "output_type": "execute_result"
    }
   ],
   "source": [
    "save_json('128_cutmixup_v3_cutout_v4.json', {'image_size':128, 'threshold':20,'arch':'pretrained','model_name':'se_resnext50_32x4d'})\n",
    "trainer.run(train_loader, max_epochs=150)"
   ]
  },
  {
   "cell_type": "markdown",
   "metadata": {},
   "source": [
    "<a id=\"pred\"></a>\n",
    "# Prediction\n",
    "\n",
    "Please refer **[Bengali: SEResNeXt prediction with pytorch](https://www.kaggle.com/corochann/bengali-seresnext-prediction-with-pytorch)** for the prediction with trained model and submission for this competition!!!"
   ]
  },
  {
   "cell_type": "markdown",
   "metadata": {},
   "source": [
    "<a id=\"ref\"></a>\n",
    "# Reference and further reading\n",
    "\n",
    "#### Kernel\n",
    "\n",
    "**[Bangali.AI super fast data loading with feather](https://www.kaggle.com/corochann/bangali-ai-super-fast-data-loading-with-feather)**<br>\n",
    "Simple example of how use feather format data to load data faster.\n",
    "\n",
    "**[Bengali: albumentations data augmentation tutorial](https://www.kaggle.com/corochann/bengali-albumentations-data-augmentation-tutorial)**<br>\n",
    "Tutorial for Data augmentations with albumentations library.\n",
    "\n",
    "**[Bengali: SEResNeXt prediction with pytorch](https://www.kaggle.com/corochann/bengali-seresnext-prediction-with-pytorch)**<br>\n",
    "**Prediction code of this kernel's trained model, please check this too!**\n",
    "\n",
    "**[Deep learning - CNN with Chainer: LB 0.99700](https://www.kaggle.com/corochann/deep-learning-cnn-with-chainer-lb-0-99700)**<br>\n",
    "Data augmentation idea is based on this kernel, which achieves quite high accuracy on MNIST task.\n",
    "\n",
    "#### Dataset\n",
    "**[bengaliai-cv19-feather](https://www.kaggle.com/corochann/bengaliaicv19feather)**<br>\n",
    "Feather format dataset\n",
    "\n",
    "**[bengaliaicv19_seresnext101_32x4d](https://www.kaggle.com/corochann/bengaliaicv19-seresnext101-32x4d)**<br>\n",
    "**Trained model weight with this kernel(v1)**\n",
    "\n",
    "**[bengaliaicv19_trainedmodels](https://www.kaggle.com/corochann/bengaliaicv19-trainedmodels)**<br>\n",
    "**Trained model weight with this kernel(v2~)**\n",
    "\n",
    "#### Library\n",
    "**https://github.com/pytorch/ignite**\n",
    "\n",
    "Used for training code abstraction. The advantage of abstracting the code is that we can re-use implemented handler class for other training, other competition.<br>\n",
    "You don't need to write code for saving models, logging training loss/metric, show progressbar etc.\n",
    "\n",
    "**https://github.com/Cadene/pretrained-models.pytorch**\n",
    "\n",
    "Many pretrained models are supported by this library, and we can switch to use them easily.\n",
    "Other model may perform better in this competition.\n",
    "\n",
    "**https://github.com/albumentations-team/albumentations**\n",
    "\n",
    "fast image augmentation library and easy to use wrapper around other libraries https://arxiv.org/abs/1809.06839<br>\n",
    "I could not show all the methods, you can find more methods in the library, check yourself!"
   ]
  },
  {
   "cell_type": "markdown",
   "metadata": {},
   "source": [
    "<h3 style=\"color:red\">If this kernel helps you, please upvote to keep me motivated :)<br>Thanks!</h3>"
   ]
  },
  {
   "cell_type": "code",
   "execution_count": null,
   "metadata": {},
   "outputs": [],
   "source": []
  }
 ],
 "metadata": {
  "kernelspec": {
   "display_name": "Python 3.7.5 64-bit ('pytorch': conda)",
   "language": "python",
   "name": "python37564bitpytorchconda133dde54c45c40c2946593d30b593426"
  },
  "language_info": {
   "codemirror_mode": {
    "name": "ipython",
    "version": 3
   },
   "file_extension": ".py",
   "mimetype": "text/x-python",
   "name": "python",
   "nbconvert_exporter": "python",
   "pygments_lexer": "ipython3",
   "version": "3.7.5"
  },
  "widgets": {
   "application/vnd.jupyter.widget-state+json": {
    "state": {
     "003455a3f76e462989dc8f5918b5e2bc": {
      "model_module": "@jupyter-widgets/base",
      "model_module_version": "1.2.0",
      "model_name": "LayoutModel",
      "state": {
       "_model_module": "@jupyter-widgets/base",
       "_model_module_version": "1.2.0",
       "_model_name": "LayoutModel",
       "_view_count": null,
       "_view_module": "@jupyter-widgets/base",
       "_view_module_version": "1.2.0",
       "_view_name": "LayoutView",
       "align_content": null,
       "align_items": null,
       "align_self": null,
       "border": null,
       "bottom": null,
       "display": null,
       "flex": null,
       "flex_flow": null,
       "grid_area": null,
       "grid_auto_columns": null,
       "grid_auto_flow": null,
       "grid_auto_rows": null,
       "grid_column": null,
       "grid_gap": null,
       "grid_row": null,
       "grid_template_areas": null,
       "grid_template_columns": null,
       "grid_template_rows": null,
       "height": null,
       "justify_content": null,
       "justify_items": null,
       "left": null,
       "margin": null,
       "max_height": null,
       "max_width": null,
       "min_height": null,
       "min_width": null,
       "object_fit": null,
       "object_position": null,
       "order": null,
       "overflow": null,
       "overflow_x": null,
       "overflow_y": null,
       "padding": null,
       "right": null,
       "top": null,
       "visibility": null,
       "width": null
      }
     },
     "0160d992f66e44bba4e99a432005bb53": {
      "model_module": "@jupyter-widgets/controls",
      "model_module_version": "1.5.0",
      "model_name": "HTMLModel",
      "state": {
       "_dom_classes": [],
       "_model_module": "@jupyter-widgets/controls",
       "_model_module_version": "1.5.0",
       "_model_name": "HTMLModel",
       "_view_count": null,
       "_view_module": "@jupyter-widgets/controls",
       "_view_module_version": "1.5.0",
       "_view_name": "HTMLView",
       "description": "",
       "description_tooltip": null,
       "layout": "IPY_MODEL_04ccf740a8de458486499beff54f5fca",
       "placeholder": "​",
       "style": "IPY_MODEL_f76974dd7d5c49cda99393efe40e8a61",
       "value": ", acc_consonant=0.549, acc_grapheme=0.201, acc_vowel=0.464, loss=7.44, loss_consonant=1.59, loss_grapheme=4.16, loss_vowel=1.69, recall=0.275 [00:01&lt;00:00]"
      }
     },
     "01862e3426f44e80a32776bc42a92762": {
      "model_module": "@jupyter-widgets/controls",
      "model_module_version": "1.5.0",
      "model_name": "IntProgressModel",
      "state": {
       "_dom_classes": [],
       "_model_module": "@jupyter-widgets/controls",
       "_model_module_version": "1.5.0",
       "_model_name": "IntProgressModel",
       "_view_count": null,
       "_view_module": "@jupyter-widgets/controls",
       "_view_module_version": "1.5.0",
       "_view_name": "ProgressView",
       "bar_style": "",
       "description": "Epoch [10/10]: [7/7] 100%",
       "description_tooltip": null,
       "layout": "IPY_MODEL_4e7e691144c24145993ec5ab8c37095a",
       "max": 7,
       "min": 0,
       "orientation": "horizontal",
       "style": "IPY_MODEL_62e813082cd84b349be4970c36506709",
       "value": 7
      }
     },
     "025e6ce14f4540c0bc220fc29b591177": {
      "model_module": "@jupyter-widgets/controls",
      "model_module_version": "1.5.0",
      "model_name": "ProgressStyleModel",
      "state": {
       "_model_module": "@jupyter-widgets/controls",
       "_model_module_version": "1.5.0",
       "_model_name": "ProgressStyleModel",
       "_view_count": null,
       "_view_module": "@jupyter-widgets/base",
       "_view_module_version": "1.2.0",
       "_view_name": "StyleView",
       "bar_color": null,
       "description_width": "initial"
      }
     },
     "03e301b22c424672992a54c6c8e4d288": {
      "model_module": "@jupyter-widgets/controls",
      "model_module_version": "1.5.0",
      "model_name": "HBoxModel",
      "state": {
       "_dom_classes": [],
       "_model_module": "@jupyter-widgets/controls",
       "_model_module_version": "1.5.0",
       "_model_name": "HBoxModel",
       "_view_count": null,
       "_view_module": "@jupyter-widgets/controls",
       "_view_module_version": "1.5.0",
       "_view_name": "HBoxView",
       "box_style": "",
       "children": [
        "IPY_MODEL_4fde98b59321448e9acef9fc7671711e",
        "IPY_MODEL_e54cbbf92da24a3d8fe549341193a719"
       ],
       "layout": "IPY_MODEL_945c8e2595dc4ba9ab0a3442b1ab0d91"
      }
     },
     "04ccf740a8de458486499beff54f5fca": {
      "model_module": "@jupyter-widgets/base",
      "model_module_version": "1.2.0",
      "model_name": "LayoutModel",
      "state": {
       "_model_module": "@jupyter-widgets/base",
       "_model_module_version": "1.2.0",
       "_model_name": "LayoutModel",
       "_view_count": null,
       "_view_module": "@jupyter-widgets/base",
       "_view_module_version": "1.2.0",
       "_view_name": "LayoutView",
       "align_content": null,
       "align_items": null,
       "align_self": null,
       "border": null,
       "bottom": null,
       "display": null,
       "flex": null,
       "flex_flow": null,
       "grid_area": null,
       "grid_auto_columns": null,
       "grid_auto_flow": null,
       "grid_auto_rows": null,
       "grid_column": null,
       "grid_gap": null,
       "grid_row": null,
       "grid_template_areas": null,
       "grid_template_columns": null,
       "grid_template_rows": null,
       "height": null,
       "justify_content": null,
       "justify_items": null,
       "left": null,
       "margin": null,
       "max_height": null,
       "max_width": null,
       "min_height": null,
       "min_width": null,
       "object_fit": null,
       "object_position": null,
       "order": null,
       "overflow": null,
       "overflow_x": null,
       "overflow_y": null,
       "padding": null,
       "right": null,
       "top": null,
       "visibility": null,
       "width": null
      }
     },
     "052b457f704b4a2396f66e268c1defdf": {
      "model_module": "@jupyter-widgets/base",
      "model_module_version": "1.2.0",
      "model_name": "LayoutModel",
      "state": {
       "_model_module": "@jupyter-widgets/base",
       "_model_module_version": "1.2.0",
       "_model_name": "LayoutModel",
       "_view_count": null,
       "_view_module": "@jupyter-widgets/base",
       "_view_module_version": "1.2.0",
       "_view_name": "LayoutView",
       "align_content": null,
       "align_items": null,
       "align_self": null,
       "border": null,
       "bottom": null,
       "display": null,
       "flex": null,
       "flex_flow": null,
       "grid_area": null,
       "grid_auto_columns": null,
       "grid_auto_flow": null,
       "grid_auto_rows": null,
       "grid_column": null,
       "grid_gap": null,
       "grid_row": null,
       "grid_template_areas": null,
       "grid_template_columns": null,
       "grid_template_rows": null,
       "height": null,
       "justify_content": null,
       "justify_items": null,
       "left": null,
       "margin": null,
       "max_height": null,
       "max_width": null,
       "min_height": null,
       "min_width": null,
       "object_fit": null,
       "object_position": null,
       "order": null,
       "overflow": null,
       "overflow_x": null,
       "overflow_y": null,
       "padding": null,
       "right": null,
       "top": null,
       "visibility": null,
       "width": null
      }
     },
     "066b716b0fc64967ad1c9277739734f2": {
      "model_module": "@jupyter-widgets/controls",
      "model_module_version": "1.5.0",
      "model_name": "HBoxModel",
      "state": {
       "_dom_classes": [],
       "_model_module": "@jupyter-widgets/controls",
       "_model_module_version": "1.5.0",
       "_model_name": "HBoxModel",
       "_view_count": null,
       "_view_module": "@jupyter-widgets/controls",
       "_view_module_version": "1.5.0",
       "_view_name": "HBoxView",
       "box_style": "",
       "children": [
        "IPY_MODEL_50ec360ce132466eacb2f6fb2696548c",
        "IPY_MODEL_469969ae06434d16b85154cb1e7baf03"
       ],
       "layout": "IPY_MODEL_7ba6392660f0482a91d6bee7e2074f33"
      }
     },
     "071e854f10b14ba288cd530cbed57ad1": {
      "model_module": "@jupyter-widgets/controls",
      "model_module_version": "1.5.0",
      "model_name": "HBoxModel",
      "state": {
       "_dom_classes": [],
       "_model_module": "@jupyter-widgets/controls",
       "_model_module_version": "1.5.0",
       "_model_name": "HBoxModel",
       "_view_count": null,
       "_view_module": "@jupyter-widgets/controls",
       "_view_module_version": "1.5.0",
       "_view_name": "HBoxView",
       "box_style": "",
       "children": [
        "IPY_MODEL_cc0419ce7e3445ce8325c5e0876490ce",
        "IPY_MODEL_e2855c55edfa44c79eb40fb0cc7dfff3"
       ],
       "layout": "IPY_MODEL_bca64c0170c547e79628defb3668841d"
      }
     },
     "07ca477e64014a7eaa6e2f019ddabcdc": {
      "model_module": "@jupyter-widgets/controls",
      "model_module_version": "1.5.0",
      "model_name": "ProgressStyleModel",
      "state": {
       "_model_module": "@jupyter-widgets/controls",
       "_model_module_version": "1.5.0",
       "_model_name": "ProgressStyleModel",
       "_view_count": null,
       "_view_module": "@jupyter-widgets/base",
       "_view_module_version": "1.2.0",
       "_view_name": "StyleView",
       "bar_color": null,
       "description_width": "initial"
      }
     },
     "0b333c91fe844fce993917157af849e6": {
      "model_module": "@jupyter-widgets/base",
      "model_module_version": "1.2.0",
      "model_name": "LayoutModel",
      "state": {
       "_model_module": "@jupyter-widgets/base",
       "_model_module_version": "1.2.0",
       "_model_name": "LayoutModel",
       "_view_count": null,
       "_view_module": "@jupyter-widgets/base",
       "_view_module_version": "1.2.0",
       "_view_name": "LayoutView",
       "align_content": null,
       "align_items": null,
       "align_self": null,
       "border": null,
       "bottom": null,
       "display": null,
       "flex": null,
       "flex_flow": null,
       "grid_area": null,
       "grid_auto_columns": null,
       "grid_auto_flow": null,
       "grid_auto_rows": null,
       "grid_column": null,
       "grid_gap": null,
       "grid_row": null,
       "grid_template_areas": null,
       "grid_template_columns": null,
       "grid_template_rows": null,
       "height": null,
       "justify_content": null,
       "justify_items": null,
       "left": null,
       "margin": null,
       "max_height": null,
       "max_width": null,
       "min_height": null,
       "min_width": null,
       "object_fit": null,
       "object_position": null,
       "order": null,
       "overflow": null,
       "overflow_x": null,
       "overflow_y": null,
       "padding": null,
       "right": null,
       "top": null,
       "visibility": null,
       "width": null
      }
     },
     "0e51f99fb6bd411b9af7d2a3ea288301": {
      "model_module": "@jupyter-widgets/base",
      "model_module_version": "1.2.0",
      "model_name": "LayoutModel",
      "state": {
       "_model_module": "@jupyter-widgets/base",
       "_model_module_version": "1.2.0",
       "_model_name": "LayoutModel",
       "_view_count": null,
       "_view_module": "@jupyter-widgets/base",
       "_view_module_version": "1.2.0",
       "_view_name": "LayoutView",
       "align_content": null,
       "align_items": null,
       "align_self": null,
       "border": null,
       "bottom": null,
       "display": null,
       "flex": null,
       "flex_flow": null,
       "grid_area": null,
       "grid_auto_columns": null,
       "grid_auto_flow": null,
       "grid_auto_rows": null,
       "grid_column": null,
       "grid_gap": null,
       "grid_row": null,
       "grid_template_areas": null,
       "grid_template_columns": null,
       "grid_template_rows": null,
       "height": null,
       "justify_content": null,
       "justify_items": null,
       "left": null,
       "margin": null,
       "max_height": null,
       "max_width": null,
       "min_height": null,
       "min_width": null,
       "object_fit": null,
       "object_position": null,
       "order": null,
       "overflow": null,
       "overflow_x": null,
       "overflow_y": null,
       "padding": null,
       "right": null,
       "top": null,
       "visibility": null,
       "width": null
      }
     },
     "0fcbb5c7492f4bc2bfbcb7db0c52f507": {
      "model_module": "@jupyter-widgets/controls",
      "model_module_version": "1.5.0",
      "model_name": "IntProgressModel",
      "state": {
       "_dom_classes": [],
       "_model_module": "@jupyter-widgets/controls",
       "_model_module_version": "1.5.0",
       "_model_name": "IntProgressModel",
       "_view_count": null,
       "_view_module": "@jupyter-widgets/controls",
       "_view_module_version": "1.5.0",
       "_view_name": "ProgressView",
       "bar_style": "success",
       "description": "",
       "description_tooltip": null,
       "layout": "IPY_MODEL_628487ded9ea434b991fd9ad24cd46df",
       "max": 1,
       "min": 0,
       "orientation": "horizontal",
       "style": "IPY_MODEL_fe0d96b7dace48bb9646e8254a64550a",
       "value": 1
      }
     },
     "17db07a7781c4576b5dc66f365b297db": {
      "model_module": "@jupyter-widgets/base",
      "model_module_version": "1.2.0",
      "model_name": "LayoutModel",
      "state": {
       "_model_module": "@jupyter-widgets/base",
       "_model_module_version": "1.2.0",
       "_model_name": "LayoutModel",
       "_view_count": null,
       "_view_module": "@jupyter-widgets/base",
       "_view_module_version": "1.2.0",
       "_view_name": "LayoutView",
       "align_content": null,
       "align_items": null,
       "align_self": null,
       "border": null,
       "bottom": null,
       "display": null,
       "flex": null,
       "flex_flow": null,
       "grid_area": null,
       "grid_auto_columns": null,
       "grid_auto_flow": null,
       "grid_auto_rows": null,
       "grid_column": null,
       "grid_gap": null,
       "grid_row": null,
       "grid_template_areas": null,
       "grid_template_columns": null,
       "grid_template_rows": null,
       "height": null,
       "justify_content": null,
       "justify_items": null,
       "left": null,
       "margin": null,
       "max_height": null,
       "max_width": null,
       "min_height": null,
       "min_width": null,
       "object_fit": null,
       "object_position": null,
       "order": null,
       "overflow": null,
       "overflow_x": null,
       "overflow_y": null,
       "padding": null,
       "right": null,
       "top": null,
       "visibility": null,
       "width": null
      }
     },
     "183b694071124aeaabb783fa2d314df6": {
      "model_module": "@jupyter-widgets/base",
      "model_module_version": "1.2.0",
      "model_name": "LayoutModel",
      "state": {
       "_model_module": "@jupyter-widgets/base",
       "_model_module_version": "1.2.0",
       "_model_name": "LayoutModel",
       "_view_count": null,
       "_view_module": "@jupyter-widgets/base",
       "_view_module_version": "1.2.0",
       "_view_name": "LayoutView",
       "align_content": null,
       "align_items": null,
       "align_self": null,
       "border": null,
       "bottom": null,
       "display": null,
       "flex": null,
       "flex_flow": null,
       "grid_area": null,
       "grid_auto_columns": null,
       "grid_auto_flow": null,
       "grid_auto_rows": null,
       "grid_column": null,
       "grid_gap": null,
       "grid_row": null,
       "grid_template_areas": null,
       "grid_template_columns": null,
       "grid_template_rows": null,
       "height": null,
       "justify_content": null,
       "justify_items": null,
       "left": null,
       "margin": null,
       "max_height": null,
       "max_width": null,
       "min_height": null,
       "min_width": null,
       "object_fit": null,
       "object_position": null,
       "order": null,
       "overflow": null,
       "overflow_x": null,
       "overflow_y": null,
       "padding": null,
       "right": null,
       "top": null,
       "visibility": null,
       "width": null
      }
     },
     "1a67e30d4ff34596bc81352f0a244e68": {
      "model_module": "@jupyter-widgets/controls",
      "model_module_version": "1.5.0",
      "model_name": "HBoxModel",
      "state": {
       "_dom_classes": [],
       "_model_module": "@jupyter-widgets/controls",
       "_model_module_version": "1.5.0",
       "_model_name": "HBoxModel",
       "_view_count": null,
       "_view_module": "@jupyter-widgets/controls",
       "_view_module_version": "1.5.0",
       "_view_name": "HBoxView",
       "box_style": "",
       "children": [
        "IPY_MODEL_01862e3426f44e80a32776bc42a92762",
        "IPY_MODEL_6c9f3f5279314b97bbea5c05248752ec"
       ],
       "layout": "IPY_MODEL_94e11e6462ae4d4e827be47a8a7a54ab"
      }
     },
     "1ddc85c9726d495fb8e9d56b456da48e": {
      "model_module": "@jupyter-widgets/controls",
      "model_module_version": "1.5.0",
      "model_name": "DescriptionStyleModel",
      "state": {
       "_model_module": "@jupyter-widgets/controls",
       "_model_module_version": "1.5.0",
       "_model_name": "DescriptionStyleModel",
       "_view_count": null,
       "_view_module": "@jupyter-widgets/base",
       "_view_module_version": "1.2.0",
       "_view_name": "StyleView",
       "description_width": ""
      }
     },
     "20a379929c8f482c89db2fa4f77da403": {
      "model_module": "@jupyter-widgets/base",
      "model_module_version": "1.2.0",
      "model_name": "LayoutModel",
      "state": {
       "_model_module": "@jupyter-widgets/base",
       "_model_module_version": "1.2.0",
       "_model_name": "LayoutModel",
       "_view_count": null,
       "_view_module": "@jupyter-widgets/base",
       "_view_module_version": "1.2.0",
       "_view_name": "LayoutView",
       "align_content": null,
       "align_items": null,
       "align_self": null,
       "border": null,
       "bottom": null,
       "display": null,
       "flex": null,
       "flex_flow": null,
       "grid_area": null,
       "grid_auto_columns": null,
       "grid_auto_flow": null,
       "grid_auto_rows": null,
       "grid_column": null,
       "grid_gap": null,
       "grid_row": null,
       "grid_template_areas": null,
       "grid_template_columns": null,
       "grid_template_rows": null,
       "height": null,
       "justify_content": null,
       "justify_items": null,
       "left": null,
       "margin": null,
       "max_height": null,
       "max_width": null,
       "min_height": null,
       "min_width": null,
       "object_fit": null,
       "object_position": null,
       "order": null,
       "overflow": null,
       "overflow_x": null,
       "overflow_y": null,
       "padding": null,
       "right": null,
       "top": null,
       "visibility": null,
       "width": null
      }
     },
     "20fb74bc8c5a446ca63db79973376954": {
      "model_module": "@jupyter-widgets/base",
      "model_module_version": "1.2.0",
      "model_name": "LayoutModel",
      "state": {
       "_model_module": "@jupyter-widgets/base",
       "_model_module_version": "1.2.0",
       "_model_name": "LayoutModel",
       "_view_count": null,
       "_view_module": "@jupyter-widgets/base",
       "_view_module_version": "1.2.0",
       "_view_name": "LayoutView",
       "align_content": null,
       "align_items": null,
       "align_self": null,
       "border": null,
       "bottom": null,
       "display": null,
       "flex": null,
       "flex_flow": null,
       "grid_area": null,
       "grid_auto_columns": null,
       "grid_auto_flow": null,
       "grid_auto_rows": null,
       "grid_column": null,
       "grid_gap": null,
       "grid_row": null,
       "grid_template_areas": null,
       "grid_template_columns": null,
       "grid_template_rows": null,
       "height": null,
       "justify_content": null,
       "justify_items": null,
       "left": null,
       "margin": null,
       "max_height": null,
       "max_width": null,
       "min_height": null,
       "min_width": null,
       "object_fit": null,
       "object_position": null,
       "order": null,
       "overflow": null,
       "overflow_x": null,
       "overflow_y": null,
       "padding": null,
       "right": null,
       "top": null,
       "visibility": null,
       "width": null
      }
     },
     "231a642ee4d24fb8a186f304807d3e41": {
      "model_module": "@jupyter-widgets/controls",
      "model_module_version": "1.5.0",
      "model_name": "DescriptionStyleModel",
      "state": {
       "_model_module": "@jupyter-widgets/controls",
       "_model_module_version": "1.5.0",
       "_model_name": "DescriptionStyleModel",
       "_view_count": null,
       "_view_module": "@jupyter-widgets/base",
       "_view_module_version": "1.2.0",
       "_view_name": "StyleView",
       "description_width": ""
      }
     },
     "24d7700dcae94218be0501e9284e626a": {
      "model_module": "@jupyter-widgets/controls",
      "model_module_version": "1.5.0",
      "model_name": "HBoxModel",
      "state": {
       "_dom_classes": [],
       "_model_module": "@jupyter-widgets/controls",
       "_model_module_version": "1.5.0",
       "_model_name": "HBoxModel",
       "_view_count": null,
       "_view_module": "@jupyter-widgets/controls",
       "_view_module_version": "1.5.0",
       "_view_name": "HBoxView",
       "box_style": "",
       "children": [
        "IPY_MODEL_68e6a40bf40e485aa066e3a734961ba2",
        "IPY_MODEL_bdada1576edb4e14ac408e342f663273"
       ],
       "layout": "IPY_MODEL_8569061e6ceb4db898efb09464a3f13f"
      }
     },
     "272861ed3ed04d9c8bc233c2b60a046c": {
      "model_module": "@jupyter-widgets/controls",
      "model_module_version": "1.5.0",
      "model_name": "DescriptionStyleModel",
      "state": {
       "_model_module": "@jupyter-widgets/controls",
       "_model_module_version": "1.5.0",
       "_model_name": "DescriptionStyleModel",
       "_view_count": null,
       "_view_module": "@jupyter-widgets/base",
       "_view_module_version": "1.2.0",
       "_view_name": "StyleView",
       "description_width": ""
      }
     },
     "2f3bfff231a448728b3a6ef090d1e199": {
      "model_module": "@jupyter-widgets/controls",
      "model_module_version": "1.5.0",
      "model_name": "HBoxModel",
      "state": {
       "_dom_classes": [],
       "_model_module": "@jupyter-widgets/controls",
       "_model_module_version": "1.5.0",
       "_model_name": "HBoxModel",
       "_view_count": null,
       "_view_module": "@jupyter-widgets/controls",
       "_view_module_version": "1.5.0",
       "_view_name": "HBoxView",
       "box_style": "",
       "children": [
        "IPY_MODEL_e79d605b55f24c9c9e41edabc20e8c50",
        "IPY_MODEL_70c750b99784450193b6e6689b4d97dd"
       ],
       "layout": "IPY_MODEL_4611991803204101b3c2b415376ad3e5"
      }
     },
     "343aa558e88c4b58be2c33f732c9871c": {
      "model_module": "@jupyter-widgets/base",
      "model_module_version": "1.2.0",
      "model_name": "LayoutModel",
      "state": {
       "_model_module": "@jupyter-widgets/base",
       "_model_module_version": "1.2.0",
       "_model_name": "LayoutModel",
       "_view_count": null,
       "_view_module": "@jupyter-widgets/base",
       "_view_module_version": "1.2.0",
       "_view_name": "LayoutView",
       "align_content": null,
       "align_items": null,
       "align_self": null,
       "border": null,
       "bottom": null,
       "display": null,
       "flex": null,
       "flex_flow": null,
       "grid_area": null,
       "grid_auto_columns": null,
       "grid_auto_flow": null,
       "grid_auto_rows": null,
       "grid_column": null,
       "grid_gap": null,
       "grid_row": null,
       "grid_template_areas": null,
       "grid_template_columns": null,
       "grid_template_rows": null,
       "height": null,
       "justify_content": null,
       "justify_items": null,
       "left": null,
       "margin": null,
       "max_height": null,
       "max_width": null,
       "min_height": null,
       "min_width": null,
       "object_fit": null,
       "object_position": null,
       "order": null,
       "overflow": null,
       "overflow_x": null,
       "overflow_y": null,
       "padding": null,
       "right": null,
       "top": null,
       "visibility": null,
       "width": null
      }
     },
     "360c6c7d53864f36861f262e036d701f": {
      "model_module": "@jupyter-widgets/controls",
      "model_module_version": "1.5.0",
      "model_name": "IntProgressModel",
      "state": {
       "_dom_classes": [],
       "_model_module": "@jupyter-widgets/controls",
       "_model_module_version": "1.5.0",
       "_model_name": "IntProgressModel",
       "_view_count": null,
       "_view_module": "@jupyter-widgets/controls",
       "_view_module_version": "1.5.0",
       "_view_name": "ProgressView",
       "bar_style": "",
       "description": "Epoch [2/10]: [7/7] 100%",
       "description_tooltip": null,
       "layout": "IPY_MODEL_954bb84c6aed4ae4b67225f639b0b6fe",
       "max": 7,
       "min": 0,
       "orientation": "horizontal",
       "style": "IPY_MODEL_bf0477e2f441498baeb67772323d2a94",
       "value": 7
      }
     },
     "37974842565b4008b636bcc6c5c008c9": {
      "model_module": "@jupyter-widgets/controls",
      "model_module_version": "1.5.0",
      "model_name": "DescriptionStyleModel",
      "state": {
       "_model_module": "@jupyter-widgets/controls",
       "_model_module_version": "1.5.0",
       "_model_name": "DescriptionStyleModel",
       "_view_count": null,
       "_view_module": "@jupyter-widgets/base",
       "_view_module_version": "1.2.0",
       "_view_name": "StyleView",
       "description_width": ""
      }
     },
     "3f1ffa5656ae4f54b14f021606ad0738": {
      "model_module": "@jupyter-widgets/controls",
      "model_module_version": "1.5.0",
      "model_name": "HBoxModel",
      "state": {
       "_dom_classes": [],
       "_model_module": "@jupyter-widgets/controls",
       "_model_module_version": "1.5.0",
       "_model_name": "HBoxModel",
       "_view_count": null,
       "_view_module": "@jupyter-widgets/controls",
       "_view_module_version": "1.5.0",
       "_view_name": "HBoxView",
       "box_style": "",
       "children": [
        "IPY_MODEL_e0967e71810b4b1496f28544f4fe6f12",
        "IPY_MODEL_0160d992f66e44bba4e99a432005bb53"
       ],
       "layout": "IPY_MODEL_8be9be0ca219430babf3f981102a8ab6"
      }
     },
     "41bb3e4e0d8842cbaf7a6a4977fde007": {
      "model_module": "@jupyter-widgets/controls",
      "model_module_version": "1.5.0",
      "model_name": "ProgressStyleModel",
      "state": {
       "_model_module": "@jupyter-widgets/controls",
       "_model_module_version": "1.5.0",
       "_model_name": "ProgressStyleModel",
       "_view_count": null,
       "_view_module": "@jupyter-widgets/base",
       "_view_module_version": "1.2.0",
       "_view_name": "StyleView",
       "bar_color": null,
       "description_width": "initial"
      }
     },
     "4251eccedbc14d47aeb47be63a934d3b": {
      "model_module": "@jupyter-widgets/controls",
      "model_module_version": "1.5.0",
      "model_name": "ProgressStyleModel",
      "state": {
       "_model_module": "@jupyter-widgets/controls",
       "_model_module_version": "1.5.0",
       "_model_name": "ProgressStyleModel",
       "_view_count": null,
       "_view_module": "@jupyter-widgets/base",
       "_view_module_version": "1.2.0",
       "_view_name": "StyleView",
       "bar_color": null,
       "description_width": "initial"
      }
     },
     "43cdf5ea12fc487491113213ad4b4498": {
      "model_module": "@jupyter-widgets/controls",
      "model_module_version": "1.5.0",
      "model_name": "HTMLModel",
      "state": {
       "_dom_classes": [],
       "_model_module": "@jupyter-widgets/controls",
       "_model_module_version": "1.5.0",
       "_model_name": "HTMLModel",
       "_view_count": null,
       "_view_module": "@jupyter-widgets/controls",
       "_view_module_version": "1.5.0",
       "_view_name": "HTMLView",
       "description": "",
       "description_tooltip": null,
       "layout": "IPY_MODEL_77446dd67e3444aabb5d5f6d31955ef2",
       "placeholder": "​",
       "style": "IPY_MODEL_231a642ee4d24fb8a186f304807d3e41",
       "value": ", acc_consonant=0.147, acc_grapheme=0.00893, acc_vowel=0.17, loss=10.4, loss_consonant=2.34, loss_grapheme=5.44, loss_vowel=2.66, recall=0.072 [00:01&lt;00:00]"
      }
     },
     "445ebe16f650447a899c775c4d2893e3": {
      "model_module": "@jupyter-widgets/base",
      "model_module_version": "1.2.0",
      "model_name": "LayoutModel",
      "state": {
       "_model_module": "@jupyter-widgets/base",
       "_model_module_version": "1.2.0",
       "_model_name": "LayoutModel",
       "_view_count": null,
       "_view_module": "@jupyter-widgets/base",
       "_view_module_version": "1.2.0",
       "_view_name": "LayoutView",
       "align_content": null,
       "align_items": null,
       "align_self": null,
       "border": null,
       "bottom": null,
       "display": null,
       "flex": null,
       "flex_flow": null,
       "grid_area": null,
       "grid_auto_columns": null,
       "grid_auto_flow": null,
       "grid_auto_rows": null,
       "grid_column": null,
       "grid_gap": null,
       "grid_row": null,
       "grid_template_areas": null,
       "grid_template_columns": null,
       "grid_template_rows": null,
       "height": null,
       "justify_content": null,
       "justify_items": null,
       "left": null,
       "margin": null,
       "max_height": null,
       "max_width": null,
       "min_height": null,
       "min_width": null,
       "object_fit": null,
       "object_position": null,
       "order": null,
       "overflow": null,
       "overflow_x": null,
       "overflow_y": null,
       "padding": null,
       "right": null,
       "top": null,
       "visibility": null,
       "width": null
      }
     },
     "4573129e86b846bd80b2bbcff2608f92": {
      "model_module": "@jupyter-widgets/controls",
      "model_module_version": "1.5.0",
      "model_name": "IntProgressModel",
      "state": {
       "_dom_classes": [],
       "_model_module": "@jupyter-widgets/controls",
       "_model_module_version": "1.5.0",
       "_model_name": "IntProgressModel",
       "_view_count": null,
       "_view_module": "@jupyter-widgets/controls",
       "_view_module_version": "1.5.0",
       "_view_name": "ProgressView",
       "bar_style": "success",
       "description": "",
       "description_tooltip": null,
       "layout": "IPY_MODEL_445ebe16f650447a899c775c4d2893e3",
       "max": 1,
       "min": 0,
       "orientation": "horizontal",
       "style": "IPY_MODEL_5d78f9fbd3704fb3b1461f602b3586bf",
       "value": 1
      }
     },
     "4611991803204101b3c2b415376ad3e5": {
      "model_module": "@jupyter-widgets/base",
      "model_module_version": "1.2.0",
      "model_name": "LayoutModel",
      "state": {
       "_model_module": "@jupyter-widgets/base",
       "_model_module_version": "1.2.0",
       "_model_name": "LayoutModel",
       "_view_count": null,
       "_view_module": "@jupyter-widgets/base",
       "_view_module_version": "1.2.0",
       "_view_name": "LayoutView",
       "align_content": null,
       "align_items": null,
       "align_self": null,
       "border": null,
       "bottom": null,
       "display": null,
       "flex": null,
       "flex_flow": null,
       "grid_area": null,
       "grid_auto_columns": null,
       "grid_auto_flow": null,
       "grid_auto_rows": null,
       "grid_column": null,
       "grid_gap": null,
       "grid_row": null,
       "grid_template_areas": null,
       "grid_template_columns": null,
       "grid_template_rows": null,
       "height": null,
       "justify_content": null,
       "justify_items": null,
       "left": null,
       "margin": null,
       "max_height": null,
       "max_width": null,
       "min_height": null,
       "min_width": null,
       "object_fit": null,
       "object_position": null,
       "order": null,
       "overflow": null,
       "overflow_x": null,
       "overflow_y": null,
       "padding": null,
       "right": null,
       "top": null,
       "visibility": null,
       "width": null
      }
     },
     "469969ae06434d16b85154cb1e7baf03": {
      "model_module": "@jupyter-widgets/controls",
      "model_module_version": "1.5.0",
      "model_name": "HTMLModel",
      "state": {
       "_dom_classes": [],
       "_model_module": "@jupyter-widgets/controls",
       "_model_module_version": "1.5.0",
       "_model_name": "HTMLModel",
       "_view_count": null,
       "_view_module": "@jupyter-widgets/controls",
       "_view_module_version": "1.5.0",
       "_view_name": "HTMLView",
       "description": "",
       "description_tooltip": null,
       "layout": "IPY_MODEL_9d0b912e463342889c3e2e69b24cd3ec",
       "placeholder": "​",
       "style": "IPY_MODEL_e35111890ad24af1a4c34eacde60649b",
       "value": ", acc_consonant=0.562, acc_grapheme=0.482, acc_vowel=0.616, loss=6.14, loss_consonant=1.46, loss_grapheme=3.3, loss_vowel=1.38, recall=0.462 [00:01&lt;00:00]"
      }
     },
     "46bc1e20d89c4b9597d19fb894f3315f": {
      "model_module": "@jupyter-widgets/base",
      "model_module_version": "1.2.0",
      "model_name": "LayoutModel",
      "state": {
       "_model_module": "@jupyter-widgets/base",
       "_model_module_version": "1.2.0",
       "_model_name": "LayoutModel",
       "_view_count": null,
       "_view_module": "@jupyter-widgets/base",
       "_view_module_version": "1.2.0",
       "_view_name": "LayoutView",
       "align_content": null,
       "align_items": null,
       "align_self": null,
       "border": null,
       "bottom": null,
       "display": null,
       "flex": null,
       "flex_flow": null,
       "grid_area": null,
       "grid_auto_columns": null,
       "grid_auto_flow": null,
       "grid_auto_rows": null,
       "grid_column": null,
       "grid_gap": null,
       "grid_row": null,
       "grid_template_areas": null,
       "grid_template_columns": null,
       "grid_template_rows": null,
       "height": null,
       "justify_content": null,
       "justify_items": null,
       "left": null,
       "margin": null,
       "max_height": null,
       "max_width": null,
       "min_height": null,
       "min_width": null,
       "object_fit": null,
       "object_position": null,
       "order": null,
       "overflow": null,
       "overflow_x": null,
       "overflow_y": null,
       "padding": null,
       "right": null,
       "top": null,
       "visibility": null,
       "width": null
      }
     },
     "475df4ec566e4abf84ae20aec0af97d2": {
      "model_module": "@jupyter-widgets/controls",
      "model_module_version": "1.5.0",
      "model_name": "DescriptionStyleModel",
      "state": {
       "_model_module": "@jupyter-widgets/controls",
       "_model_module_version": "1.5.0",
       "_model_name": "DescriptionStyleModel",
       "_view_count": null,
       "_view_module": "@jupyter-widgets/base",
       "_view_module_version": "1.2.0",
       "_view_name": "StyleView",
       "description_width": ""
      }
     },
     "4ac8348d41be4c00b508c589abb2ce9c": {
      "model_module": "@jupyter-widgets/controls",
      "model_module_version": "1.5.0",
      "model_name": "IntProgressModel",
      "state": {
       "_dom_classes": [],
       "_model_module": "@jupyter-widgets/controls",
       "_model_module_version": "1.5.0",
       "_model_name": "IntProgressModel",
       "_view_count": null,
       "_view_module": "@jupyter-widgets/controls",
       "_view_module_version": "1.5.0",
       "_view_name": "ProgressView",
       "bar_style": "",
       "description": "Epoch [3/10]: [7/7] 100%",
       "description_tooltip": null,
       "layout": "IPY_MODEL_052b457f704b4a2396f66e268c1defdf",
       "max": 7,
       "min": 0,
       "orientation": "horizontal",
       "style": "IPY_MODEL_e25e7536b5da49b1bf05d96978f522f6",
       "value": 7
      }
     },
     "4bd38a5e70ca47eb91ace39582c53dc6": {
      "model_module": "@jupyter-widgets/controls",
      "model_module_version": "1.5.0",
      "model_name": "ProgressStyleModel",
      "state": {
       "_model_module": "@jupyter-widgets/controls",
       "_model_module_version": "1.5.0",
       "_model_name": "ProgressStyleModel",
       "_view_count": null,
       "_view_module": "@jupyter-widgets/base",
       "_view_module_version": "1.2.0",
       "_view_name": "StyleView",
       "bar_color": null,
       "description_width": "initial"
      }
     },
     "4e6f99a5ded34778945874908b0e1e33": {
      "model_module": "@jupyter-widgets/controls",
      "model_module_version": "1.5.0",
      "model_name": "IntProgressModel",
      "state": {
       "_dom_classes": [],
       "_model_module": "@jupyter-widgets/controls",
       "_model_module_version": "1.5.0",
       "_model_name": "IntProgressModel",
       "_view_count": null,
       "_view_module": "@jupyter-widgets/controls",
       "_view_module_version": "1.5.0",
       "_view_name": "ProgressView",
       "bar_style": "",
       "description": "Epoch [6/10]: [7/7] 100%",
       "description_tooltip": null,
       "layout": "IPY_MODEL_20a379929c8f482c89db2fa4f77da403",
       "max": 7,
       "min": 0,
       "orientation": "horizontal",
       "style": "IPY_MODEL_57c1dd9241f14f24b0220bdde5b036d4",
       "value": 7
      }
     },
     "4e7e691144c24145993ec5ab8c37095a": {
      "model_module": "@jupyter-widgets/base",
      "model_module_version": "1.2.0",
      "model_name": "LayoutModel",
      "state": {
       "_model_module": "@jupyter-widgets/base",
       "_model_module_version": "1.2.0",
       "_model_name": "LayoutModel",
       "_view_count": null,
       "_view_module": "@jupyter-widgets/base",
       "_view_module_version": "1.2.0",
       "_view_name": "LayoutView",
       "align_content": null,
       "align_items": null,
       "align_self": null,
       "border": null,
       "bottom": null,
       "display": null,
       "flex": null,
       "flex_flow": null,
       "grid_area": null,
       "grid_auto_columns": null,
       "grid_auto_flow": null,
       "grid_auto_rows": null,
       "grid_column": null,
       "grid_gap": null,
       "grid_row": null,
       "grid_template_areas": null,
       "grid_template_columns": null,
       "grid_template_rows": null,
       "height": null,
       "justify_content": null,
       "justify_items": null,
       "left": null,
       "margin": null,
       "max_height": null,
       "max_width": null,
       "min_height": null,
       "min_width": null,
       "object_fit": null,
       "object_position": null,
       "order": null,
       "overflow": null,
       "overflow_x": null,
       "overflow_y": null,
       "padding": null,
       "right": null,
       "top": null,
       "visibility": null,
       "width": null
      }
     },
     "4edcfa38e8454f7195c69de561d48b5d": {
      "model_module": "@jupyter-widgets/base",
      "model_module_version": "1.2.0",
      "model_name": "LayoutModel",
      "state": {
       "_model_module": "@jupyter-widgets/base",
       "_model_module_version": "1.2.0",
       "_model_name": "LayoutModel",
       "_view_count": null,
       "_view_module": "@jupyter-widgets/base",
       "_view_module_version": "1.2.0",
       "_view_name": "LayoutView",
       "align_content": null,
       "align_items": null,
       "align_self": null,
       "border": null,
       "bottom": null,
       "display": null,
       "flex": null,
       "flex_flow": null,
       "grid_area": null,
       "grid_auto_columns": null,
       "grid_auto_flow": null,
       "grid_auto_rows": null,
       "grid_column": null,
       "grid_gap": null,
       "grid_row": null,
       "grid_template_areas": null,
       "grid_template_columns": null,
       "grid_template_rows": null,
       "height": null,
       "justify_content": null,
       "justify_items": null,
       "left": null,
       "margin": null,
       "max_height": null,
       "max_width": null,
       "min_height": null,
       "min_width": null,
       "object_fit": null,
       "object_position": null,
       "order": null,
       "overflow": null,
       "overflow_x": null,
       "overflow_y": null,
       "padding": null,
       "right": null,
       "top": null,
       "visibility": null,
       "width": null
      }
     },
     "4fde98b59321448e9acef9fc7671711e": {
      "model_module": "@jupyter-widgets/controls",
      "model_module_version": "1.5.0",
      "model_name": "IntProgressModel",
      "state": {
       "_dom_classes": [],
       "_model_module": "@jupyter-widgets/controls",
       "_model_module_version": "1.5.0",
       "_model_name": "IntProgressModel",
       "_view_count": null,
       "_view_module": "@jupyter-widgets/controls",
       "_view_module_version": "1.5.0",
       "_view_name": "ProgressView",
       "bar_style": "",
       "description": "Epoch [8/10]: [7/7] 100%",
       "description_tooltip": null,
       "layout": "IPY_MODEL_bb4bfcea489942b6b4425b57fe518fc8",
       "max": 7,
       "min": 0,
       "orientation": "horizontal",
       "style": "IPY_MODEL_025e6ce14f4540c0bc220fc29b591177",
       "value": 7
      }
     },
     "50ec360ce132466eacb2f6fb2696548c": {
      "model_module": "@jupyter-widgets/controls",
      "model_module_version": "1.5.0",
      "model_name": "IntProgressModel",
      "state": {
       "_dom_classes": [],
       "_model_module": "@jupyter-widgets/controls",
       "_model_module_version": "1.5.0",
       "_model_name": "IntProgressModel",
       "_view_count": null,
       "_view_module": "@jupyter-widgets/controls",
       "_view_module_version": "1.5.0",
       "_view_name": "ProgressView",
       "bar_style": "",
       "description": "Epoch [7/10]: [7/7] 100%",
       "description_tooltip": null,
       "layout": "IPY_MODEL_daf5a29d831149e386a18f4b58209c8a",
       "max": 7,
       "min": 0,
       "orientation": "horizontal",
       "style": "IPY_MODEL_b5e264cee9f84586b4bd08769f9ea7f1",
       "value": 7
      }
     },
     "511f097951384c0f90139472a15e13d4": {
      "model_module": "@jupyter-widgets/controls",
      "model_module_version": "1.5.0",
      "model_name": "HTMLModel",
      "state": {
       "_dom_classes": [],
       "_model_module": "@jupyter-widgets/controls",
       "_model_module_version": "1.5.0",
       "_model_name": "HTMLModel",
       "_view_count": null,
       "_view_module": "@jupyter-widgets/controls",
       "_view_module_version": "1.5.0",
       "_view_name": "HTMLView",
       "description": "",
       "description_tooltip": null,
       "layout": "IPY_MODEL_5760045b67194a81a95779b4027a425a",
       "placeholder": "​",
       "style": "IPY_MODEL_1ddc85c9726d495fb8e9d56b456da48e",
       "value": ", acc_consonant=0.353, acc_grapheme=0.0893, acc_vowel=0.286, loss=8.69, loss_consonant=1.84, loss_grapheme=4.78, loss_vowel=2.07, recall=0.134 [00:01&lt;00:00]"
      }
     },
     "5760045b67194a81a95779b4027a425a": {
      "model_module": "@jupyter-widgets/base",
      "model_module_version": "1.2.0",
      "model_name": "LayoutModel",
      "state": {
       "_model_module": "@jupyter-widgets/base",
       "_model_module_version": "1.2.0",
       "_model_name": "LayoutModel",
       "_view_count": null,
       "_view_module": "@jupyter-widgets/base",
       "_view_module_version": "1.2.0",
       "_view_name": "LayoutView",
       "align_content": null,
       "align_items": null,
       "align_self": null,
       "border": null,
       "bottom": null,
       "display": null,
       "flex": null,
       "flex_flow": null,
       "grid_area": null,
       "grid_auto_columns": null,
       "grid_auto_flow": null,
       "grid_auto_rows": null,
       "grid_column": null,
       "grid_gap": null,
       "grid_row": null,
       "grid_template_areas": null,
       "grid_template_columns": null,
       "grid_template_rows": null,
       "height": null,
       "justify_content": null,
       "justify_items": null,
       "left": null,
       "margin": null,
       "max_height": null,
       "max_width": null,
       "min_height": null,
       "min_width": null,
       "object_fit": null,
       "object_position": null,
       "order": null,
       "overflow": null,
       "overflow_x": null,
       "overflow_y": null,
       "padding": null,
       "right": null,
       "top": null,
       "visibility": null,
       "width": null
      }
     },
     "57c1dd9241f14f24b0220bdde5b036d4": {
      "model_module": "@jupyter-widgets/controls",
      "model_module_version": "1.5.0",
      "model_name": "ProgressStyleModel",
      "state": {
       "_model_module": "@jupyter-widgets/controls",
       "_model_module_version": "1.5.0",
       "_model_name": "ProgressStyleModel",
       "_view_count": null,
       "_view_module": "@jupyter-widgets/base",
       "_view_module_version": "1.2.0",
       "_view_name": "StyleView",
       "bar_color": null,
       "description_width": "initial"
      }
     },
     "5828b8e0b137409781ff4dade6bcc7e9": {
      "model_module": "@jupyter-widgets/base",
      "model_module_version": "1.2.0",
      "model_name": "LayoutModel",
      "state": {
       "_model_module": "@jupyter-widgets/base",
       "_model_module_version": "1.2.0",
       "_model_name": "LayoutModel",
       "_view_count": null,
       "_view_module": "@jupyter-widgets/base",
       "_view_module_version": "1.2.0",
       "_view_name": "LayoutView",
       "align_content": null,
       "align_items": null,
       "align_self": null,
       "border": null,
       "bottom": null,
       "display": null,
       "flex": null,
       "flex_flow": null,
       "grid_area": null,
       "grid_auto_columns": null,
       "grid_auto_flow": null,
       "grid_auto_rows": null,
       "grid_column": null,
       "grid_gap": null,
       "grid_row": null,
       "grid_template_areas": null,
       "grid_template_columns": null,
       "grid_template_rows": null,
       "height": null,
       "justify_content": null,
       "justify_items": null,
       "left": null,
       "margin": null,
       "max_height": null,
       "max_width": null,
       "min_height": null,
       "min_width": null,
       "object_fit": null,
       "object_position": null,
       "order": null,
       "overflow": null,
       "overflow_x": null,
       "overflow_y": null,
       "padding": null,
       "right": null,
       "top": null,
       "visibility": null,
       "width": null
      }
     },
     "5a5dad6f15734d10849ed845f03b4796": {
      "model_module": "@jupyter-widgets/base",
      "model_module_version": "1.2.0",
      "model_name": "LayoutModel",
      "state": {
       "_model_module": "@jupyter-widgets/base",
       "_model_module_version": "1.2.0",
       "_model_name": "LayoutModel",
       "_view_count": null,
       "_view_module": "@jupyter-widgets/base",
       "_view_module_version": "1.2.0",
       "_view_name": "LayoutView",
       "align_content": null,
       "align_items": null,
       "align_self": null,
       "border": null,
       "bottom": null,
       "display": null,
       "flex": null,
       "flex_flow": null,
       "grid_area": null,
       "grid_auto_columns": null,
       "grid_auto_flow": null,
       "grid_auto_rows": null,
       "grid_column": null,
       "grid_gap": null,
       "grid_row": null,
       "grid_template_areas": null,
       "grid_template_columns": null,
       "grid_template_rows": null,
       "height": null,
       "justify_content": null,
       "justify_items": null,
       "left": null,
       "margin": null,
       "max_height": null,
       "max_width": null,
       "min_height": null,
       "min_width": null,
       "object_fit": null,
       "object_position": null,
       "order": null,
       "overflow": null,
       "overflow_x": null,
       "overflow_y": null,
       "padding": null,
       "right": null,
       "top": null,
       "visibility": null,
       "width": null
      }
     },
     "5d78f9fbd3704fb3b1461f602b3586bf": {
      "model_module": "@jupyter-widgets/controls",
      "model_module_version": "1.5.0",
      "model_name": "ProgressStyleModel",
      "state": {
       "_model_module": "@jupyter-widgets/controls",
       "_model_module_version": "1.5.0",
       "_model_name": "ProgressStyleModel",
       "_view_count": null,
       "_view_module": "@jupyter-widgets/base",
       "_view_module_version": "1.2.0",
       "_view_name": "StyleView",
       "bar_color": null,
       "description_width": "initial"
      }
     },
     "5dc473987f1c4be68990ff47de4f7ed9": {
      "model_module": "@jupyter-widgets/base",
      "model_module_version": "1.2.0",
      "model_name": "LayoutModel",
      "state": {
       "_model_module": "@jupyter-widgets/base",
       "_model_module_version": "1.2.0",
       "_model_name": "LayoutModel",
       "_view_count": null,
       "_view_module": "@jupyter-widgets/base",
       "_view_module_version": "1.2.0",
       "_view_name": "LayoutView",
       "align_content": null,
       "align_items": null,
       "align_self": null,
       "border": null,
       "bottom": null,
       "display": null,
       "flex": null,
       "flex_flow": null,
       "grid_area": null,
       "grid_auto_columns": null,
       "grid_auto_flow": null,
       "grid_auto_rows": null,
       "grid_column": null,
       "grid_gap": null,
       "grid_row": null,
       "grid_template_areas": null,
       "grid_template_columns": null,
       "grid_template_rows": null,
       "height": null,
       "justify_content": null,
       "justify_items": null,
       "left": null,
       "margin": null,
       "max_height": null,
       "max_width": null,
       "min_height": null,
       "min_width": null,
       "object_fit": null,
       "object_position": null,
       "order": null,
       "overflow": null,
       "overflow_x": null,
       "overflow_y": null,
       "padding": null,
       "right": null,
       "top": null,
       "visibility": null,
       "width": null
      }
     },
     "5dd5c1cb44304ec2b52e0c3807e800c5": {
      "model_module": "@jupyter-widgets/controls",
      "model_module_version": "1.5.0",
      "model_name": "DescriptionStyleModel",
      "state": {
       "_model_module": "@jupyter-widgets/controls",
       "_model_module_version": "1.5.0",
       "_model_name": "DescriptionStyleModel",
       "_view_count": null,
       "_view_module": "@jupyter-widgets/base",
       "_view_module_version": "1.2.0",
       "_view_name": "StyleView",
       "description_width": ""
      }
     },
     "61f35eecaa9d4a409be9fc114929c8a1": {
      "model_module": "@jupyter-widgets/controls",
      "model_module_version": "1.5.0",
      "model_name": "ProgressStyleModel",
      "state": {
       "_model_module": "@jupyter-widgets/controls",
       "_model_module_version": "1.5.0",
       "_model_name": "ProgressStyleModel",
       "_view_count": null,
       "_view_module": "@jupyter-widgets/base",
       "_view_module_version": "1.2.0",
       "_view_name": "StyleView",
       "bar_color": null,
       "description_width": "initial"
      }
     },
     "6233ee4e9b734afbb1a8955243a4bcf9": {
      "model_module": "@jupyter-widgets/base",
      "model_module_version": "1.2.0",
      "model_name": "LayoutModel",
      "state": {
       "_model_module": "@jupyter-widgets/base",
       "_model_module_version": "1.2.0",
       "_model_name": "LayoutModel",
       "_view_count": null,
       "_view_module": "@jupyter-widgets/base",
       "_view_module_version": "1.2.0",
       "_view_name": "LayoutView",
       "align_content": null,
       "align_items": null,
       "align_self": null,
       "border": null,
       "bottom": null,
       "display": null,
       "flex": null,
       "flex_flow": null,
       "grid_area": null,
       "grid_auto_columns": null,
       "grid_auto_flow": null,
       "grid_auto_rows": null,
       "grid_column": null,
       "grid_gap": null,
       "grid_row": null,
       "grid_template_areas": null,
       "grid_template_columns": null,
       "grid_template_rows": null,
       "height": null,
       "justify_content": null,
       "justify_items": null,
       "left": null,
       "margin": null,
       "max_height": null,
       "max_width": null,
       "min_height": null,
       "min_width": null,
       "object_fit": null,
       "object_position": null,
       "order": null,
       "overflow": null,
       "overflow_x": null,
       "overflow_y": null,
       "padding": null,
       "right": null,
       "top": null,
       "visibility": null,
       "width": null
      }
     },
     "628487ded9ea434b991fd9ad24cd46df": {
      "model_module": "@jupyter-widgets/base",
      "model_module_version": "1.2.0",
      "model_name": "LayoutModel",
      "state": {
       "_model_module": "@jupyter-widgets/base",
       "_model_module_version": "1.2.0",
       "_model_name": "LayoutModel",
       "_view_count": null,
       "_view_module": "@jupyter-widgets/base",
       "_view_module_version": "1.2.0",
       "_view_name": "LayoutView",
       "align_content": null,
       "align_items": null,
       "align_self": null,
       "border": null,
       "bottom": null,
       "display": null,
       "flex": null,
       "flex_flow": null,
       "grid_area": null,
       "grid_auto_columns": null,
       "grid_auto_flow": null,
       "grid_auto_rows": null,
       "grid_column": null,
       "grid_gap": null,
       "grid_row": null,
       "grid_template_areas": null,
       "grid_template_columns": null,
       "grid_template_rows": null,
       "height": null,
       "justify_content": null,
       "justify_items": null,
       "left": null,
       "margin": null,
       "max_height": null,
       "max_width": null,
       "min_height": null,
       "min_width": null,
       "object_fit": null,
       "object_position": null,
       "order": null,
       "overflow": null,
       "overflow_x": null,
       "overflow_y": null,
       "padding": null,
       "right": null,
       "top": null,
       "visibility": null,
       "width": null
      }
     },
     "62e813082cd84b349be4970c36506709": {
      "model_module": "@jupyter-widgets/controls",
      "model_module_version": "1.5.0",
      "model_name": "ProgressStyleModel",
      "state": {
       "_model_module": "@jupyter-widgets/controls",
       "_model_module_version": "1.5.0",
       "_model_name": "ProgressStyleModel",
       "_view_count": null,
       "_view_module": "@jupyter-widgets/base",
       "_view_module_version": "1.2.0",
       "_view_name": "StyleView",
       "bar_color": null,
       "description_width": "initial"
      }
     },
     "64fd4ac764c448439ae2c8e7a9fbb67a": {
      "model_module": "@jupyter-widgets/controls",
      "model_module_version": "1.5.0",
      "model_name": "DescriptionStyleModel",
      "state": {
       "_model_module": "@jupyter-widgets/controls",
       "_model_module_version": "1.5.0",
       "_model_name": "DescriptionStyleModel",
       "_view_count": null,
       "_view_module": "@jupyter-widgets/base",
       "_view_module_version": "1.2.0",
       "_view_name": "StyleView",
       "description_width": ""
      }
     },
     "65eb74d0ce264f29b0451b5261d4d186": {
      "model_module": "@jupyter-widgets/base",
      "model_module_version": "1.2.0",
      "model_name": "LayoutModel",
      "state": {
       "_model_module": "@jupyter-widgets/base",
       "_model_module_version": "1.2.0",
       "_model_name": "LayoutModel",
       "_view_count": null,
       "_view_module": "@jupyter-widgets/base",
       "_view_module_version": "1.2.0",
       "_view_name": "LayoutView",
       "align_content": null,
       "align_items": null,
       "align_self": null,
       "border": null,
       "bottom": null,
       "display": null,
       "flex": null,
       "flex_flow": null,
       "grid_area": null,
       "grid_auto_columns": null,
       "grid_auto_flow": null,
       "grid_auto_rows": null,
       "grid_column": null,
       "grid_gap": null,
       "grid_row": null,
       "grid_template_areas": null,
       "grid_template_columns": null,
       "grid_template_rows": null,
       "height": null,
       "justify_content": null,
       "justify_items": null,
       "left": null,
       "margin": null,
       "max_height": null,
       "max_width": null,
       "min_height": null,
       "min_width": null,
       "object_fit": null,
       "object_position": null,
       "order": null,
       "overflow": null,
       "overflow_x": null,
       "overflow_y": null,
       "padding": null,
       "right": null,
       "top": null,
       "visibility": null,
       "width": null
      }
     },
     "663f092ec06a43ca9e1e8c9ee1fd3cc8": {
      "model_module": "@jupyter-widgets/base",
      "model_module_version": "1.2.0",
      "model_name": "LayoutModel",
      "state": {
       "_model_module": "@jupyter-widgets/base",
       "_model_module_version": "1.2.0",
       "_model_name": "LayoutModel",
       "_view_count": null,
       "_view_module": "@jupyter-widgets/base",
       "_view_module_version": "1.2.0",
       "_view_name": "LayoutView",
       "align_content": null,
       "align_items": null,
       "align_self": null,
       "border": null,
       "bottom": null,
       "display": null,
       "flex": null,
       "flex_flow": null,
       "grid_area": null,
       "grid_auto_columns": null,
       "grid_auto_flow": null,
       "grid_auto_rows": null,
       "grid_column": null,
       "grid_gap": null,
       "grid_row": null,
       "grid_template_areas": null,
       "grid_template_columns": null,
       "grid_template_rows": null,
       "height": null,
       "justify_content": null,
       "justify_items": null,
       "left": null,
       "margin": null,
       "max_height": null,
       "max_width": null,
       "min_height": null,
       "min_width": null,
       "object_fit": null,
       "object_position": null,
       "order": null,
       "overflow": null,
       "overflow_x": null,
       "overflow_y": null,
       "padding": null,
       "right": null,
       "top": null,
       "visibility": null,
       "width": null
      }
     },
     "68e6a40bf40e485aa066e3a734961ba2": {
      "model_module": "@jupyter-widgets/controls",
      "model_module_version": "1.5.0",
      "model_name": "IntProgressModel",
      "state": {
       "_dom_classes": [],
       "_model_module": "@jupyter-widgets/controls",
       "_model_module_version": "1.5.0",
       "_model_name": "IntProgressModel",
       "_view_count": null,
       "_view_module": "@jupyter-widgets/controls",
       "_view_module_version": "1.5.0",
       "_view_name": "ProgressView",
       "bar_style": "",
       "description": "Epoch [1/10]: [7/7] 100%",
       "description_tooltip": null,
       "layout": "IPY_MODEL_0b333c91fe844fce993917157af849e6",
       "max": 7,
       "min": 0,
       "orientation": "horizontal",
       "style": "IPY_MODEL_e12439e08a3a4d79908f80dbc4cb1688",
       "value": 7
      }
     },
     "6c9f3f5279314b97bbea5c05248752ec": {
      "model_module": "@jupyter-widgets/controls",
      "model_module_version": "1.5.0",
      "model_name": "HTMLModel",
      "state": {
       "_dom_classes": [],
       "_model_module": "@jupyter-widgets/controls",
       "_model_module_version": "1.5.0",
       "_model_name": "HTMLModel",
       "_view_count": null,
       "_view_module": "@jupyter-widgets/controls",
       "_view_module_version": "1.5.0",
       "_view_name": "HTMLView",
       "description": "",
       "description_tooltip": null,
       "layout": "IPY_MODEL_663f092ec06a43ca9e1e8c9ee1fd3cc8",
       "placeholder": "​",
       "style": "IPY_MODEL_475df4ec566e4abf84ae20aec0af97d2",
       "value": ", acc_consonant=0.763, acc_grapheme=0.723, acc_vowel=0.786, loss=4.8, loss_consonant=1.19, loss_grapheme=2.52, loss_vowel=1.09, recall=0.685 [00:01&lt;00:00]"
      }
     },
     "70c750b99784450193b6e6689b4d97dd": {
      "model_module": "@jupyter-widgets/controls",
      "model_module_version": "1.5.0",
      "model_name": "HTMLModel",
      "state": {
       "_dom_classes": [],
       "_model_module": "@jupyter-widgets/controls",
       "_model_module_version": "1.5.0",
       "_model_name": "HTMLModel",
       "_view_count": null,
       "_view_module": "@jupyter-widgets/controls",
       "_view_module_version": "1.5.0",
       "_view_name": "HTMLView",
       "description": "",
       "description_tooltip": null,
       "layout": "IPY_MODEL_46bc1e20d89c4b9597d19fb894f3315f",
       "placeholder": "​",
       "style": "IPY_MODEL_805ea8044b614e28b19a00b42bfd0ed1",
       "value": " 30/? [00:00&lt;00:00, 102.14it/s]"
      }
     },
     "740d773f159a4800abb69d5742701a15": {
      "model_module": "@jupyter-widgets/controls",
      "model_module_version": "1.5.0",
      "model_name": "IntProgressModel",
      "state": {
       "_dom_classes": [],
       "_model_module": "@jupyter-widgets/controls",
       "_model_module_version": "1.5.0",
       "_model_name": "IntProgressModel",
       "_view_count": null,
       "_view_module": "@jupyter-widgets/controls",
       "_view_module_version": "1.5.0",
       "_view_name": "ProgressView",
       "bar_style": "",
       "description": "Epoch [9/10]: [7/7] 100%",
       "description_tooltip": null,
       "layout": "IPY_MODEL_deb78abb88d243e6bba1d754d74ab311",
       "max": 7,
       "min": 0,
       "orientation": "horizontal",
       "style": "IPY_MODEL_4bd38a5e70ca47eb91ace39582c53dc6",
       "value": 7
      }
     },
     "77446dd67e3444aabb5d5f6d31955ef2": {
      "model_module": "@jupyter-widgets/base",
      "model_module_version": "1.2.0",
      "model_name": "LayoutModel",
      "state": {
       "_model_module": "@jupyter-widgets/base",
       "_model_module_version": "1.2.0",
       "_model_name": "LayoutModel",
       "_view_count": null,
       "_view_module": "@jupyter-widgets/base",
       "_view_module_version": "1.2.0",
       "_view_name": "LayoutView",
       "align_content": null,
       "align_items": null,
       "align_self": null,
       "border": null,
       "bottom": null,
       "display": null,
       "flex": null,
       "flex_flow": null,
       "grid_area": null,
       "grid_auto_columns": null,
       "grid_auto_flow": null,
       "grid_auto_rows": null,
       "grid_column": null,
       "grid_gap": null,
       "grid_row": null,
       "grid_template_areas": null,
       "grid_template_columns": null,
       "grid_template_rows": null,
       "height": null,
       "justify_content": null,
       "justify_items": null,
       "left": null,
       "margin": null,
       "max_height": null,
       "max_width": null,
       "min_height": null,
       "min_width": null,
       "object_fit": null,
       "object_position": null,
       "order": null,
       "overflow": null,
       "overflow_x": null,
       "overflow_y": null,
       "padding": null,
       "right": null,
       "top": null,
       "visibility": null,
       "width": null
      }
     },
     "781f9807309a45fbb3caf19e4527f828": {
      "model_module": "@jupyter-widgets/base",
      "model_module_version": "1.2.0",
      "model_name": "LayoutModel",
      "state": {
       "_model_module": "@jupyter-widgets/base",
       "_model_module_version": "1.2.0",
       "_model_name": "LayoutModel",
       "_view_count": null,
       "_view_module": "@jupyter-widgets/base",
       "_view_module_version": "1.2.0",
       "_view_name": "LayoutView",
       "align_content": null,
       "align_items": null,
       "align_self": null,
       "border": null,
       "bottom": null,
       "display": null,
       "flex": null,
       "flex_flow": null,
       "grid_area": null,
       "grid_auto_columns": null,
       "grid_auto_flow": null,
       "grid_auto_rows": null,
       "grid_column": null,
       "grid_gap": null,
       "grid_row": null,
       "grid_template_areas": null,
       "grid_template_columns": null,
       "grid_template_rows": null,
       "height": null,
       "justify_content": null,
       "justify_items": null,
       "left": null,
       "margin": null,
       "max_height": null,
       "max_width": null,
       "min_height": null,
       "min_width": null,
       "object_fit": null,
       "object_position": null,
       "order": null,
       "overflow": null,
       "overflow_x": null,
       "overflow_y": null,
       "padding": null,
       "right": null,
       "top": null,
       "visibility": null,
       "width": null
      }
     },
     "7a2f49f01f2d4e0c8311bf8bbbd06127": {
      "model_module": "@jupyter-widgets/base",
      "model_module_version": "1.2.0",
      "model_name": "LayoutModel",
      "state": {
       "_model_module": "@jupyter-widgets/base",
       "_model_module_version": "1.2.0",
       "_model_name": "LayoutModel",
       "_view_count": null,
       "_view_module": "@jupyter-widgets/base",
       "_view_module_version": "1.2.0",
       "_view_name": "LayoutView",
       "align_content": null,
       "align_items": null,
       "align_self": null,
       "border": null,
       "bottom": null,
       "display": null,
       "flex": null,
       "flex_flow": null,
       "grid_area": null,
       "grid_auto_columns": null,
       "grid_auto_flow": null,
       "grid_auto_rows": null,
       "grid_column": null,
       "grid_gap": null,
       "grid_row": null,
       "grid_template_areas": null,
       "grid_template_columns": null,
       "grid_template_rows": null,
       "height": null,
       "justify_content": null,
       "justify_items": null,
       "left": null,
       "margin": null,
       "max_height": null,
       "max_width": null,
       "min_height": null,
       "min_width": null,
       "object_fit": null,
       "object_position": null,
       "order": null,
       "overflow": null,
       "overflow_x": null,
       "overflow_y": null,
       "padding": null,
       "right": null,
       "top": null,
       "visibility": null,
       "width": null
      }
     },
     "7ba6392660f0482a91d6bee7e2074f33": {
      "model_module": "@jupyter-widgets/base",
      "model_module_version": "1.2.0",
      "model_name": "LayoutModel",
      "state": {
       "_model_module": "@jupyter-widgets/base",
       "_model_module_version": "1.2.0",
       "_model_name": "LayoutModel",
       "_view_count": null,
       "_view_module": "@jupyter-widgets/base",
       "_view_module_version": "1.2.0",
       "_view_name": "LayoutView",
       "align_content": null,
       "align_items": null,
       "align_self": null,
       "border": null,
       "bottom": null,
       "display": null,
       "flex": null,
       "flex_flow": null,
       "grid_area": null,
       "grid_auto_columns": null,
       "grid_auto_flow": null,
       "grid_auto_rows": null,
       "grid_column": null,
       "grid_gap": null,
       "grid_row": null,
       "grid_template_areas": null,
       "grid_template_columns": null,
       "grid_template_rows": null,
       "height": null,
       "justify_content": null,
       "justify_items": null,
       "left": null,
       "margin": null,
       "max_height": null,
       "max_width": null,
       "min_height": null,
       "min_width": null,
       "object_fit": null,
       "object_position": null,
       "order": null,
       "overflow": null,
       "overflow_x": null,
       "overflow_y": null,
       "padding": null,
       "right": null,
       "top": null,
       "visibility": null,
       "width": null
      }
     },
     "7f35a6c65d2f465caa32c72a3d13b35f": {
      "model_module": "@jupyter-widgets/controls",
      "model_module_version": "1.5.0",
      "model_name": "HBoxModel",
      "state": {
       "_dom_classes": [],
       "_model_module": "@jupyter-widgets/controls",
       "_model_module_version": "1.5.0",
       "_model_name": "HBoxModel",
       "_view_count": null,
       "_view_module": "@jupyter-widgets/controls",
       "_view_module_version": "1.5.0",
       "_view_name": "HBoxView",
       "box_style": "",
       "children": [
        "IPY_MODEL_4573129e86b846bd80b2bbcff2608f92",
        "IPY_MODEL_a5f39282e1ad4ed5a5624c2863310023"
       ],
       "layout": "IPY_MODEL_9f6ebbee958d4fd9af3e6298920b1ca8"
      }
     },
     "805ea8044b614e28b19a00b42bfd0ed1": {
      "model_module": "@jupyter-widgets/controls",
      "model_module_version": "1.5.0",
      "model_name": "DescriptionStyleModel",
      "state": {
       "_model_module": "@jupyter-widgets/controls",
       "_model_module_version": "1.5.0",
       "_model_name": "DescriptionStyleModel",
       "_view_count": null,
       "_view_module": "@jupyter-widgets/base",
       "_view_module_version": "1.2.0",
       "_view_name": "StyleView",
       "description_width": ""
      }
     },
     "832b8ab960434d2fa4599031699096ad": {
      "model_module": "@jupyter-widgets/controls",
      "model_module_version": "1.5.0",
      "model_name": "IntProgressModel",
      "state": {
       "_dom_classes": [],
       "_model_module": "@jupyter-widgets/controls",
       "_model_module_version": "1.5.0",
       "_model_name": "IntProgressModel",
       "_view_count": null,
       "_view_module": "@jupyter-widgets/controls",
       "_view_module_version": "1.5.0",
       "_view_name": "ProgressView",
       "bar_style": "",
       "description": "Epoch [4/10]: [7/7] 100%",
       "description_tooltip": null,
       "layout": "IPY_MODEL_0e51f99fb6bd411b9af7d2a3ea288301",
       "max": 7,
       "min": 0,
       "orientation": "horizontal",
       "style": "IPY_MODEL_07ca477e64014a7eaa6e2f019ddabcdc",
       "value": 7
      }
     },
     "8569061e6ceb4db898efb09464a3f13f": {
      "model_module": "@jupyter-widgets/base",
      "model_module_version": "1.2.0",
      "model_name": "LayoutModel",
      "state": {
       "_model_module": "@jupyter-widgets/base",
       "_model_module_version": "1.2.0",
       "_model_name": "LayoutModel",
       "_view_count": null,
       "_view_module": "@jupyter-widgets/base",
       "_view_module_version": "1.2.0",
       "_view_name": "LayoutView",
       "align_content": null,
       "align_items": null,
       "align_self": null,
       "border": null,
       "bottom": null,
       "display": null,
       "flex": null,
       "flex_flow": null,
       "grid_area": null,
       "grid_auto_columns": null,
       "grid_auto_flow": null,
       "grid_auto_rows": null,
       "grid_column": null,
       "grid_gap": null,
       "grid_row": null,
       "grid_template_areas": null,
       "grid_template_columns": null,
       "grid_template_rows": null,
       "height": null,
       "justify_content": null,
       "justify_items": null,
       "left": null,
       "margin": null,
       "max_height": null,
       "max_width": null,
       "min_height": null,
       "min_width": null,
       "object_fit": null,
       "object_position": null,
       "order": null,
       "overflow": null,
       "overflow_x": null,
       "overflow_y": null,
       "padding": null,
       "right": null,
       "top": null,
       "visibility": null,
       "width": null
      }
     },
     "8be9be0ca219430babf3f981102a8ab6": {
      "model_module": "@jupyter-widgets/base",
      "model_module_version": "1.2.0",
      "model_name": "LayoutModel",
      "state": {
       "_model_module": "@jupyter-widgets/base",
       "_model_module_version": "1.2.0",
       "_model_name": "LayoutModel",
       "_view_count": null,
       "_view_module": "@jupyter-widgets/base",
       "_view_module_version": "1.2.0",
       "_view_name": "LayoutView",
       "align_content": null,
       "align_items": null,
       "align_self": null,
       "border": null,
       "bottom": null,
       "display": null,
       "flex": null,
       "flex_flow": null,
       "grid_area": null,
       "grid_auto_columns": null,
       "grid_auto_flow": null,
       "grid_auto_rows": null,
       "grid_column": null,
       "grid_gap": null,
       "grid_row": null,
       "grid_template_areas": null,
       "grid_template_columns": null,
       "grid_template_rows": null,
       "height": null,
       "justify_content": null,
       "justify_items": null,
       "left": null,
       "margin": null,
       "max_height": null,
       "max_width": null,
       "min_height": null,
       "min_width": null,
       "object_fit": null,
       "object_position": null,
       "order": null,
       "overflow": null,
       "overflow_x": null,
       "overflow_y": null,
       "padding": null,
       "right": null,
       "top": null,
       "visibility": null,
       "width": null
      }
     },
     "945c8e2595dc4ba9ab0a3442b1ab0d91": {
      "model_module": "@jupyter-widgets/base",
      "model_module_version": "1.2.0",
      "model_name": "LayoutModel",
      "state": {
       "_model_module": "@jupyter-widgets/base",
       "_model_module_version": "1.2.0",
       "_model_name": "LayoutModel",
       "_view_count": null,
       "_view_module": "@jupyter-widgets/base",
       "_view_module_version": "1.2.0",
       "_view_name": "LayoutView",
       "align_content": null,
       "align_items": null,
       "align_self": null,
       "border": null,
       "bottom": null,
       "display": null,
       "flex": null,
       "flex_flow": null,
       "grid_area": null,
       "grid_auto_columns": null,
       "grid_auto_flow": null,
       "grid_auto_rows": null,
       "grid_column": null,
       "grid_gap": null,
       "grid_row": null,
       "grid_template_areas": null,
       "grid_template_columns": null,
       "grid_template_rows": null,
       "height": null,
       "justify_content": null,
       "justify_items": null,
       "left": null,
       "margin": null,
       "max_height": null,
       "max_width": null,
       "min_height": null,
       "min_width": null,
       "object_fit": null,
       "object_position": null,
       "order": null,
       "overflow": null,
       "overflow_x": null,
       "overflow_y": null,
       "padding": null,
       "right": null,
       "top": null,
       "visibility": null,
       "width": null
      }
     },
     "94e11e6462ae4d4e827be47a8a7a54ab": {
      "model_module": "@jupyter-widgets/base",
      "model_module_version": "1.2.0",
      "model_name": "LayoutModel",
      "state": {
       "_model_module": "@jupyter-widgets/base",
       "_model_module_version": "1.2.0",
       "_model_name": "LayoutModel",
       "_view_count": null,
       "_view_module": "@jupyter-widgets/base",
       "_view_module_version": "1.2.0",
       "_view_name": "LayoutView",
       "align_content": null,
       "align_items": null,
       "align_self": null,
       "border": null,
       "bottom": null,
       "display": null,
       "flex": null,
       "flex_flow": null,
       "grid_area": null,
       "grid_auto_columns": null,
       "grid_auto_flow": null,
       "grid_auto_rows": null,
       "grid_column": null,
       "grid_gap": null,
       "grid_row": null,
       "grid_template_areas": null,
       "grid_template_columns": null,
       "grid_template_rows": null,
       "height": null,
       "justify_content": null,
       "justify_items": null,
       "left": null,
       "margin": null,
       "max_height": null,
       "max_width": null,
       "min_height": null,
       "min_width": null,
       "object_fit": null,
       "object_position": null,
       "order": null,
       "overflow": null,
       "overflow_x": null,
       "overflow_y": null,
       "padding": null,
       "right": null,
       "top": null,
       "visibility": null,
       "width": null
      }
     },
     "954bb84c6aed4ae4b67225f639b0b6fe": {
      "model_module": "@jupyter-widgets/base",
      "model_module_version": "1.2.0",
      "model_name": "LayoutModel",
      "state": {
       "_model_module": "@jupyter-widgets/base",
       "_model_module_version": "1.2.0",
       "_model_name": "LayoutModel",
       "_view_count": null,
       "_view_module": "@jupyter-widgets/base",
       "_view_module_version": "1.2.0",
       "_view_name": "LayoutView",
       "align_content": null,
       "align_items": null,
       "align_self": null,
       "border": null,
       "bottom": null,
       "display": null,
       "flex": null,
       "flex_flow": null,
       "grid_area": null,
       "grid_auto_columns": null,
       "grid_auto_flow": null,
       "grid_auto_rows": null,
       "grid_column": null,
       "grid_gap": null,
       "grid_row": null,
       "grid_template_areas": null,
       "grid_template_columns": null,
       "grid_template_rows": null,
       "height": null,
       "justify_content": null,
       "justify_items": null,
       "left": null,
       "margin": null,
       "max_height": null,
       "max_width": null,
       "min_height": null,
       "min_width": null,
       "object_fit": null,
       "object_position": null,
       "order": null,
       "overflow": null,
       "overflow_x": null,
       "overflow_y": null,
       "padding": null,
       "right": null,
       "top": null,
       "visibility": null,
       "width": null
      }
     },
     "95bb16babf5a497d84594c074a97f41f": {
      "model_module": "@jupyter-widgets/controls",
      "model_module_version": "1.5.0",
      "model_name": "HTMLModel",
      "state": {
       "_dom_classes": [],
       "_model_module": "@jupyter-widgets/controls",
       "_model_module_version": "1.5.0",
       "_model_name": "HTMLModel",
       "_view_count": null,
       "_view_module": "@jupyter-widgets/controls",
       "_view_module_version": "1.5.0",
       "_view_name": "HTMLView",
       "description": "",
       "description_tooltip": null,
       "layout": "IPY_MODEL_17db07a7781c4576b5dc66f365b297db",
       "placeholder": "​",
       "style": "IPY_MODEL_969c0eddf49f4a8b951498ae21d503e2",
       "value": " 6/? [00:00&lt;00:00, 37.52it/s]"
      }
     },
     "969c0eddf49f4a8b951498ae21d503e2": {
      "model_module": "@jupyter-widgets/controls",
      "model_module_version": "1.5.0",
      "model_name": "DescriptionStyleModel",
      "state": {
       "_model_module": "@jupyter-widgets/controls",
       "_model_module_version": "1.5.0",
       "_model_name": "DescriptionStyleModel",
       "_view_count": null,
       "_view_module": "@jupyter-widgets/base",
       "_view_module_version": "1.2.0",
       "_view_name": "StyleView",
       "description_width": ""
      }
     },
     "9a84e9c0f22943b18d7e68ff422d7959": {
      "model_module": "@jupyter-widgets/controls",
      "model_module_version": "1.5.0",
      "model_name": "DescriptionStyleModel",
      "state": {
       "_model_module": "@jupyter-widgets/controls",
       "_model_module_version": "1.5.0",
       "_model_name": "DescriptionStyleModel",
       "_view_count": null,
       "_view_module": "@jupyter-widgets/base",
       "_view_module_version": "1.2.0",
       "_view_name": "StyleView",
       "description_width": ""
      }
     },
     "9d0b912e463342889c3e2e69b24cd3ec": {
      "model_module": "@jupyter-widgets/base",
      "model_module_version": "1.2.0",
      "model_name": "LayoutModel",
      "state": {
       "_model_module": "@jupyter-widgets/base",
       "_model_module_version": "1.2.0",
       "_model_name": "LayoutModel",
       "_view_count": null,
       "_view_module": "@jupyter-widgets/base",
       "_view_module_version": "1.2.0",
       "_view_name": "LayoutView",
       "align_content": null,
       "align_items": null,
       "align_self": null,
       "border": null,
       "bottom": null,
       "display": null,
       "flex": null,
       "flex_flow": null,
       "grid_area": null,
       "grid_auto_columns": null,
       "grid_auto_flow": null,
       "grid_auto_rows": null,
       "grid_column": null,
       "grid_gap": null,
       "grid_row": null,
       "grid_template_areas": null,
       "grid_template_columns": null,
       "grid_template_rows": null,
       "height": null,
       "justify_content": null,
       "justify_items": null,
       "left": null,
       "margin": null,
       "max_height": null,
       "max_width": null,
       "min_height": null,
       "min_width": null,
       "object_fit": null,
       "object_position": null,
       "order": null,
       "overflow": null,
       "overflow_x": null,
       "overflow_y": null,
       "padding": null,
       "right": null,
       "top": null,
       "visibility": null,
       "width": null
      }
     },
     "9f6ebbee958d4fd9af3e6298920b1ca8": {
      "model_module": "@jupyter-widgets/base",
      "model_module_version": "1.2.0",
      "model_name": "LayoutModel",
      "state": {
       "_model_module": "@jupyter-widgets/base",
       "_model_module_version": "1.2.0",
       "_model_name": "LayoutModel",
       "_view_count": null,
       "_view_module": "@jupyter-widgets/base",
       "_view_module_version": "1.2.0",
       "_view_name": "LayoutView",
       "align_content": null,
       "align_items": null,
       "align_self": null,
       "border": null,
       "bottom": null,
       "display": null,
       "flex": null,
       "flex_flow": null,
       "grid_area": null,
       "grid_auto_columns": null,
       "grid_auto_flow": null,
       "grid_auto_rows": null,
       "grid_column": null,
       "grid_gap": null,
       "grid_row": null,
       "grid_template_areas": null,
       "grid_template_columns": null,
       "grid_template_rows": null,
       "height": null,
       "justify_content": null,
       "justify_items": null,
       "left": null,
       "margin": null,
       "max_height": null,
       "max_width": null,
       "min_height": null,
       "min_width": null,
       "object_fit": null,
       "object_position": null,
       "order": null,
       "overflow": null,
       "overflow_x": null,
       "overflow_y": null,
       "padding": null,
       "right": null,
       "top": null,
       "visibility": null,
       "width": null
      }
     },
     "a208f6562d9a411da2eb1d60d7d885a5": {
      "model_module": "@jupyter-widgets/base",
      "model_module_version": "1.2.0",
      "model_name": "LayoutModel",
      "state": {
       "_model_module": "@jupyter-widgets/base",
       "_model_module_version": "1.2.0",
       "_model_name": "LayoutModel",
       "_view_count": null,
       "_view_module": "@jupyter-widgets/base",
       "_view_module_version": "1.2.0",
       "_view_name": "LayoutView",
       "align_content": null,
       "align_items": null,
       "align_self": null,
       "border": null,
       "bottom": null,
       "display": null,
       "flex": null,
       "flex_flow": null,
       "grid_area": null,
       "grid_auto_columns": null,
       "grid_auto_flow": null,
       "grid_auto_rows": null,
       "grid_column": null,
       "grid_gap": null,
       "grid_row": null,
       "grid_template_areas": null,
       "grid_template_columns": null,
       "grid_template_rows": null,
       "height": null,
       "justify_content": null,
       "justify_items": null,
       "left": null,
       "margin": null,
       "max_height": null,
       "max_width": null,
       "min_height": null,
       "min_width": null,
       "object_fit": null,
       "object_position": null,
       "order": null,
       "overflow": null,
       "overflow_x": null,
       "overflow_y": null,
       "padding": null,
       "right": null,
       "top": null,
       "visibility": null,
       "width": null
      }
     },
     "a5f39282e1ad4ed5a5624c2863310023": {
      "model_module": "@jupyter-widgets/controls",
      "model_module_version": "1.5.0",
      "model_name": "HTMLModel",
      "state": {
       "_dom_classes": [],
       "_model_module": "@jupyter-widgets/controls",
       "_model_module_version": "1.5.0",
       "_model_name": "HTMLModel",
       "_view_count": null,
       "_view_module": "@jupyter-widgets/controls",
       "_view_module_version": "1.5.0",
       "_view_name": "HTMLView",
       "description": "",
       "description_tooltip": null,
       "layout": "IPY_MODEL_e9d35d05b632447aa98556a768cc156d",
       "placeholder": "​",
       "style": "IPY_MODEL_df686d180d5a49d184f1a6f1bedb680c",
       "value": " 30/? [00:00&lt;00:00, 79.98it/s]"
      }
     },
     "a88d973317bc4c72be37d019a384bbb4": {
      "model_module": "@jupyter-widgets/controls",
      "model_module_version": "1.5.0",
      "model_name": "ProgressStyleModel",
      "state": {
       "_model_module": "@jupyter-widgets/controls",
       "_model_module_version": "1.5.0",
       "_model_name": "ProgressStyleModel",
       "_view_count": null,
       "_view_module": "@jupyter-widgets/base",
       "_view_module_version": "1.2.0",
       "_view_name": "StyleView",
       "bar_color": null,
       "description_width": "initial"
      }
     },
     "abc6bfa0da3e49caab514629c4b1664d": {
      "model_module": "@jupyter-widgets/controls",
      "model_module_version": "1.5.0",
      "model_name": "DescriptionStyleModel",
      "state": {
       "_model_module": "@jupyter-widgets/controls",
       "_model_module_version": "1.5.0",
       "_model_name": "DescriptionStyleModel",
       "_view_count": null,
       "_view_module": "@jupyter-widgets/base",
       "_view_module_version": "1.2.0",
       "_view_name": "StyleView",
       "description_width": ""
      }
     },
     "b2bb2a71619440f8a667fc7aa4b13698": {
      "model_module": "@jupyter-widgets/base",
      "model_module_version": "1.2.0",
      "model_name": "LayoutModel",
      "state": {
       "_model_module": "@jupyter-widgets/base",
       "_model_module_version": "1.2.0",
       "_model_name": "LayoutModel",
       "_view_count": null,
       "_view_module": "@jupyter-widgets/base",
       "_view_module_version": "1.2.0",
       "_view_name": "LayoutView",
       "align_content": null,
       "align_items": null,
       "align_self": null,
       "border": null,
       "bottom": null,
       "display": null,
       "flex": null,
       "flex_flow": null,
       "grid_area": null,
       "grid_auto_columns": null,
       "grid_auto_flow": null,
       "grid_auto_rows": null,
       "grid_column": null,
       "grid_gap": null,
       "grid_row": null,
       "grid_template_areas": null,
       "grid_template_columns": null,
       "grid_template_rows": null,
       "height": null,
       "justify_content": null,
       "justify_items": null,
       "left": null,
       "margin": null,
       "max_height": null,
       "max_width": null,
       "min_height": null,
       "min_width": null,
       "object_fit": null,
       "object_position": null,
       "order": null,
       "overflow": null,
       "overflow_x": null,
       "overflow_y": null,
       "padding": null,
       "right": null,
       "top": null,
       "visibility": null,
       "width": null
      }
     },
     "b5e264cee9f84586b4bd08769f9ea7f1": {
      "model_module": "@jupyter-widgets/controls",
      "model_module_version": "1.5.0",
      "model_name": "ProgressStyleModel",
      "state": {
       "_model_module": "@jupyter-widgets/controls",
       "_model_module_version": "1.5.0",
       "_model_name": "ProgressStyleModel",
       "_view_count": null,
       "_view_module": "@jupyter-widgets/base",
       "_view_module_version": "1.2.0",
       "_view_name": "StyleView",
       "bar_color": null,
       "description_width": "initial"
      }
     },
     "b83f58c0980049fc91d8cd937c07ceb5": {
      "model_module": "@jupyter-widgets/base",
      "model_module_version": "1.2.0",
      "model_name": "LayoutModel",
      "state": {
       "_model_module": "@jupyter-widgets/base",
       "_model_module_version": "1.2.0",
       "_model_name": "LayoutModel",
       "_view_count": null,
       "_view_module": "@jupyter-widgets/base",
       "_view_module_version": "1.2.0",
       "_view_name": "LayoutView",
       "align_content": null,
       "align_items": null,
       "align_self": null,
       "border": null,
       "bottom": null,
       "display": null,
       "flex": null,
       "flex_flow": null,
       "grid_area": null,
       "grid_auto_columns": null,
       "grid_auto_flow": null,
       "grid_auto_rows": null,
       "grid_column": null,
       "grid_gap": null,
       "grid_row": null,
       "grid_template_areas": null,
       "grid_template_columns": null,
       "grid_template_rows": null,
       "height": null,
       "justify_content": null,
       "justify_items": null,
       "left": null,
       "margin": null,
       "max_height": null,
       "max_width": null,
       "min_height": null,
       "min_width": null,
       "object_fit": null,
       "object_position": null,
       "order": null,
       "overflow": null,
       "overflow_x": null,
       "overflow_y": null,
       "padding": null,
       "right": null,
       "top": null,
       "visibility": null,
       "width": null
      }
     },
     "b987563f9b084f25aa7537d0ed73a554": {
      "model_module": "@jupyter-widgets/base",
      "model_module_version": "1.2.0",
      "model_name": "LayoutModel",
      "state": {
       "_model_module": "@jupyter-widgets/base",
       "_model_module_version": "1.2.0",
       "_model_name": "LayoutModel",
       "_view_count": null,
       "_view_module": "@jupyter-widgets/base",
       "_view_module_version": "1.2.0",
       "_view_name": "LayoutView",
       "align_content": null,
       "align_items": null,
       "align_self": null,
       "border": null,
       "bottom": null,
       "display": null,
       "flex": null,
       "flex_flow": null,
       "grid_area": null,
       "grid_auto_columns": null,
       "grid_auto_flow": null,
       "grid_auto_rows": null,
       "grid_column": null,
       "grid_gap": null,
       "grid_row": null,
       "grid_template_areas": null,
       "grid_template_columns": null,
       "grid_template_rows": null,
       "height": null,
       "justify_content": null,
       "justify_items": null,
       "left": null,
       "margin": null,
       "max_height": null,
       "max_width": null,
       "min_height": null,
       "min_width": null,
       "object_fit": null,
       "object_position": null,
       "order": null,
       "overflow": null,
       "overflow_x": null,
       "overflow_y": null,
       "padding": null,
       "right": null,
       "top": null,
       "visibility": null,
       "width": null
      }
     },
     "ba457279b4594e3a87d22ee11aae1f65": {
      "model_module": "@jupyter-widgets/controls",
      "model_module_version": "1.5.0",
      "model_name": "IntProgressModel",
      "state": {
       "_dom_classes": [],
       "_model_module": "@jupyter-widgets/controls",
       "_model_module_version": "1.5.0",
       "_model_name": "IntProgressModel",
       "_view_count": null,
       "_view_module": "@jupyter-widgets/controls",
       "_view_module_version": "1.5.0",
       "_view_name": "ProgressView",
       "bar_style": "success",
       "description": "",
       "description_tooltip": null,
       "layout": "IPY_MODEL_6233ee4e9b734afbb1a8955243a4bcf9",
       "max": 1,
       "min": 0,
       "orientation": "horizontal",
       "style": "IPY_MODEL_a88d973317bc4c72be37d019a384bbb4",
       "value": 1
      }
     },
     "bb4bfcea489942b6b4425b57fe518fc8": {
      "model_module": "@jupyter-widgets/base",
      "model_module_version": "1.2.0",
      "model_name": "LayoutModel",
      "state": {
       "_model_module": "@jupyter-widgets/base",
       "_model_module_version": "1.2.0",
       "_model_name": "LayoutModel",
       "_view_count": null,
       "_view_module": "@jupyter-widgets/base",
       "_view_module_version": "1.2.0",
       "_view_name": "LayoutView",
       "align_content": null,
       "align_items": null,
       "align_self": null,
       "border": null,
       "bottom": null,
       "display": null,
       "flex": null,
       "flex_flow": null,
       "grid_area": null,
       "grid_auto_columns": null,
       "grid_auto_flow": null,
       "grid_auto_rows": null,
       "grid_column": null,
       "grid_gap": null,
       "grid_row": null,
       "grid_template_areas": null,
       "grid_template_columns": null,
       "grid_template_rows": null,
       "height": null,
       "justify_content": null,
       "justify_items": null,
       "left": null,
       "margin": null,
       "max_height": null,
       "max_width": null,
       "min_height": null,
       "min_width": null,
       "object_fit": null,
       "object_position": null,
       "order": null,
       "overflow": null,
       "overflow_x": null,
       "overflow_y": null,
       "padding": null,
       "right": null,
       "top": null,
       "visibility": null,
       "width": null
      }
     },
     "bc486f189410421f8e9cf59dfb4fd3bf": {
      "model_module": "@jupyter-widgets/base",
      "model_module_version": "1.2.0",
      "model_name": "LayoutModel",
      "state": {
       "_model_module": "@jupyter-widgets/base",
       "_model_module_version": "1.2.0",
       "_model_name": "LayoutModel",
       "_view_count": null,
       "_view_module": "@jupyter-widgets/base",
       "_view_module_version": "1.2.0",
       "_view_name": "LayoutView",
       "align_content": null,
       "align_items": null,
       "align_self": null,
       "border": null,
       "bottom": null,
       "display": null,
       "flex": null,
       "flex_flow": null,
       "grid_area": null,
       "grid_auto_columns": null,
       "grid_auto_flow": null,
       "grid_auto_rows": null,
       "grid_column": null,
       "grid_gap": null,
       "grid_row": null,
       "grid_template_areas": null,
       "grid_template_columns": null,
       "grid_template_rows": null,
       "height": null,
       "justify_content": null,
       "justify_items": null,
       "left": null,
       "margin": null,
       "max_height": null,
       "max_width": null,
       "min_height": null,
       "min_width": null,
       "object_fit": null,
       "object_position": null,
       "order": null,
       "overflow": null,
       "overflow_x": null,
       "overflow_y": null,
       "padding": null,
       "right": null,
       "top": null,
       "visibility": null,
       "width": null
      }
     },
     "bca64c0170c547e79628defb3668841d": {
      "model_module": "@jupyter-widgets/base",
      "model_module_version": "1.2.0",
      "model_name": "LayoutModel",
      "state": {
       "_model_module": "@jupyter-widgets/base",
       "_model_module_version": "1.2.0",
       "_model_name": "LayoutModel",
       "_view_count": null,
       "_view_module": "@jupyter-widgets/base",
       "_view_module_version": "1.2.0",
       "_view_name": "LayoutView",
       "align_content": null,
       "align_items": null,
       "align_self": null,
       "border": null,
       "bottom": null,
       "display": null,
       "flex": null,
       "flex_flow": null,
       "grid_area": null,
       "grid_auto_columns": null,
       "grid_auto_flow": null,
       "grid_auto_rows": null,
       "grid_column": null,
       "grid_gap": null,
       "grid_row": null,
       "grid_template_areas": null,
       "grid_template_columns": null,
       "grid_template_rows": null,
       "height": null,
       "justify_content": null,
       "justify_items": null,
       "left": null,
       "margin": null,
       "max_height": null,
       "max_width": null,
       "min_height": null,
       "min_width": null,
       "object_fit": null,
       "object_position": null,
       "order": null,
       "overflow": null,
       "overflow_x": null,
       "overflow_y": null,
       "padding": null,
       "right": null,
       "top": null,
       "visibility": null,
       "width": null
      }
     },
     "bdac98f3db1349c1b8aa4bbff297a053": {
      "model_module": "@jupyter-widgets/base",
      "model_module_version": "1.2.0",
      "model_name": "LayoutModel",
      "state": {
       "_model_module": "@jupyter-widgets/base",
       "_model_module_version": "1.2.0",
       "_model_name": "LayoutModel",
       "_view_count": null,
       "_view_module": "@jupyter-widgets/base",
       "_view_module_version": "1.2.0",
       "_view_name": "LayoutView",
       "align_content": null,
       "align_items": null,
       "align_self": null,
       "border": null,
       "bottom": null,
       "display": null,
       "flex": null,
       "flex_flow": null,
       "grid_area": null,
       "grid_auto_columns": null,
       "grid_auto_flow": null,
       "grid_auto_rows": null,
       "grid_column": null,
       "grid_gap": null,
       "grid_row": null,
       "grid_template_areas": null,
       "grid_template_columns": null,
       "grid_template_rows": null,
       "height": null,
       "justify_content": null,
       "justify_items": null,
       "left": null,
       "margin": null,
       "max_height": null,
       "max_width": null,
       "min_height": null,
       "min_width": null,
       "object_fit": null,
       "object_position": null,
       "order": null,
       "overflow": null,
       "overflow_x": null,
       "overflow_y": null,
       "padding": null,
       "right": null,
       "top": null,
       "visibility": null,
       "width": null
      }
     },
     "bdada1576edb4e14ac408e342f663273": {
      "model_module": "@jupyter-widgets/controls",
      "model_module_version": "1.5.0",
      "model_name": "HTMLModel",
      "state": {
       "_dom_classes": [],
       "_model_module": "@jupyter-widgets/controls",
       "_model_module_version": "1.5.0",
       "_model_name": "HTMLModel",
       "_view_count": null,
       "_view_module": "@jupyter-widgets/controls",
       "_view_module_version": "1.5.0",
       "_view_name": "HTMLView",
       "description": "",
       "description_tooltip": null,
       "layout": "IPY_MODEL_b83f58c0980049fc91d8cd937c07ceb5",
       "placeholder": "​",
       "style": "IPY_MODEL_e3087dfccabe4528bbcb1cdae37da127",
       "value": " [00:01&lt;00:00]"
      }
     },
     "bf0477e2f441498baeb67772323d2a94": {
      "model_module": "@jupyter-widgets/controls",
      "model_module_version": "1.5.0",
      "model_name": "ProgressStyleModel",
      "state": {
       "_model_module": "@jupyter-widgets/controls",
       "_model_module_version": "1.5.0",
       "_model_name": "ProgressStyleModel",
       "_view_count": null,
       "_view_module": "@jupyter-widgets/base",
       "_view_module_version": "1.2.0",
       "_view_name": "StyleView",
       "bar_color": null,
       "description_width": "initial"
      }
     },
     "c87ae58416db40e4985ea5056a94d049": {
      "model_module": "@jupyter-widgets/controls",
      "model_module_version": "1.5.0",
      "model_name": "HTMLModel",
      "state": {
       "_dom_classes": [],
       "_model_module": "@jupyter-widgets/controls",
       "_model_module_version": "1.5.0",
       "_model_name": "HTMLModel",
       "_view_count": null,
       "_view_module": "@jupyter-widgets/controls",
       "_view_module_version": "1.5.0",
       "_view_name": "HTMLView",
       "description": "",
       "description_tooltip": null,
       "layout": "IPY_MODEL_cbad50febcea45cdbfaf9aa331ab30f6",
       "placeholder": "​",
       "style": "IPY_MODEL_64fd4ac764c448439ae2c8e7a9fbb67a",
       "value": ", acc_consonant=0.719, acc_grapheme=0.701, acc_vowel=0.772, loss=5.13, loss_consonant=1.24, loss_grapheme=2.76, loss_vowel=1.13, recall=0.666 [00:01&lt;00:00]"
      }
     },
     "c9ec3841da934d95bab8eab5cf02b957": {
      "model_module": "@jupyter-widgets/controls",
      "model_module_version": "1.5.0",
      "model_name": "HTMLModel",
      "state": {
       "_dom_classes": [],
       "_model_module": "@jupyter-widgets/controls",
       "_model_module_version": "1.5.0",
       "_model_name": "HTMLModel",
       "_view_count": null,
       "_view_module": "@jupyter-widgets/controls",
       "_view_module_version": "1.5.0",
       "_view_name": "HTMLView",
       "description": "",
       "description_tooltip": null,
       "layout": "IPY_MODEL_5a5dad6f15734d10849ed845f03b4796",
       "placeholder": "​",
       "style": "IPY_MODEL_abc6bfa0da3e49caab514629c4b1664d",
       "value": ", acc_consonant=0.522, acc_grapheme=0.411, acc_vowel=0.527, loss=6.6, loss_consonant=1.49, loss_grapheme=3.6, loss_vowel=1.51, recall=0.381 [00:01&lt;00:00]"
      }
     },
     "cbad50febcea45cdbfaf9aa331ab30f6": {
      "model_module": "@jupyter-widgets/base",
      "model_module_version": "1.2.0",
      "model_name": "LayoutModel",
      "state": {
       "_model_module": "@jupyter-widgets/base",
       "_model_module_version": "1.2.0",
       "_model_name": "LayoutModel",
       "_view_count": null,
       "_view_module": "@jupyter-widgets/base",
       "_view_module_version": "1.2.0",
       "_view_name": "LayoutView",
       "align_content": null,
       "align_items": null,
       "align_self": null,
       "border": null,
       "bottom": null,
       "display": null,
       "flex": null,
       "flex_flow": null,
       "grid_area": null,
       "grid_auto_columns": null,
       "grid_auto_flow": null,
       "grid_auto_rows": null,
       "grid_column": null,
       "grid_gap": null,
       "grid_row": null,
       "grid_template_areas": null,
       "grid_template_columns": null,
       "grid_template_rows": null,
       "height": null,
       "justify_content": null,
       "justify_items": null,
       "left": null,
       "margin": null,
       "max_height": null,
       "max_width": null,
       "min_height": null,
       "min_width": null,
       "object_fit": null,
       "object_position": null,
       "order": null,
       "overflow": null,
       "overflow_x": null,
       "overflow_y": null,
       "padding": null,
       "right": null,
       "top": null,
       "visibility": null,
       "width": null
      }
     },
     "cc020aad5221470ca59a606c428a869d": {
      "model_module": "@jupyter-widgets/base",
      "model_module_version": "1.2.0",
      "model_name": "LayoutModel",
      "state": {
       "_model_module": "@jupyter-widgets/base",
       "_model_module_version": "1.2.0",
       "_model_name": "LayoutModel",
       "_view_count": null,
       "_view_module": "@jupyter-widgets/base",
       "_view_module_version": "1.2.0",
       "_view_name": "LayoutView",
       "align_content": null,
       "align_items": null,
       "align_self": null,
       "border": null,
       "bottom": null,
       "display": null,
       "flex": null,
       "flex_flow": null,
       "grid_area": null,
       "grid_auto_columns": null,
       "grid_auto_flow": null,
       "grid_auto_rows": null,
       "grid_column": null,
       "grid_gap": null,
       "grid_row": null,
       "grid_template_areas": null,
       "grid_template_columns": null,
       "grid_template_rows": null,
       "height": null,
       "justify_content": null,
       "justify_items": null,
       "left": null,
       "margin": null,
       "max_height": null,
       "max_width": null,
       "min_height": null,
       "min_width": null,
       "object_fit": null,
       "object_position": null,
       "order": null,
       "overflow": null,
       "overflow_x": null,
       "overflow_y": null,
       "padding": null,
       "right": null,
       "top": null,
       "visibility": null,
       "width": null
      }
     },
     "cc0419ce7e3445ce8325c5e0876490ce": {
      "model_module": "@jupyter-widgets/controls",
      "model_module_version": "1.5.0",
      "model_name": "IntProgressModel",
      "state": {
       "_dom_classes": [],
       "_model_module": "@jupyter-widgets/controls",
       "_model_module_version": "1.5.0",
       "_model_name": "IntProgressModel",
       "_view_count": null,
       "_view_module": "@jupyter-widgets/controls",
       "_view_module_version": "1.5.0",
       "_view_name": "ProgressView",
       "bar_style": "success",
       "description": "",
       "description_tooltip": null,
       "layout": "IPY_MODEL_bdac98f3db1349c1b8aa4bbff297a053",
       "max": 1,
       "min": 0,
       "orientation": "horizontal",
       "style": "IPY_MODEL_ee451547930b443bb88f0817873e86a0",
       "value": 1
      }
     },
     "ccc09db109d44e4c9b87472222d477f5": {
      "model_module": "@jupyter-widgets/controls",
      "model_module_version": "1.5.0",
      "model_name": "HBoxModel",
      "state": {
       "_dom_classes": [],
       "_model_module": "@jupyter-widgets/controls",
       "_model_module_version": "1.5.0",
       "_model_name": "HBoxModel",
       "_view_count": null,
       "_view_module": "@jupyter-widgets/controls",
       "_view_module_version": "1.5.0",
       "_view_name": "HBoxView",
       "box_style": "",
       "children": [
        "IPY_MODEL_832b8ab960434d2fa4599031699096ad",
        "IPY_MODEL_ffd3d1af4e494fc19f20cf20be6ee2d4"
       ],
       "layout": "IPY_MODEL_343aa558e88c4b58be2c33f732c9871c"
      }
     },
     "cf001db7d83e4a308048fe80f0dd3f91": {
      "model_module": "@jupyter-widgets/controls",
      "model_module_version": "1.5.0",
      "model_name": "DescriptionStyleModel",
      "state": {
       "_model_module": "@jupyter-widgets/controls",
       "_model_module_version": "1.5.0",
       "_model_name": "DescriptionStyleModel",
       "_view_count": null,
       "_view_module": "@jupyter-widgets/base",
       "_view_module_version": "1.2.0",
       "_view_name": "StyleView",
       "description_width": ""
      }
     },
     "d240de84f1294ec59ad8b34267aa4df8": {
      "model_module": "@jupyter-widgets/controls",
      "model_module_version": "1.5.0",
      "model_name": "HBoxModel",
      "state": {
       "_dom_classes": [],
       "_model_module": "@jupyter-widgets/controls",
       "_model_module_version": "1.5.0",
       "_model_name": "HBoxModel",
       "_view_count": null,
       "_view_module": "@jupyter-widgets/controls",
       "_view_module_version": "1.5.0",
       "_view_name": "HBoxView",
       "box_style": "",
       "children": [
        "IPY_MODEL_4e6f99a5ded34778945874908b0e1e33",
        "IPY_MODEL_c9ec3841da934d95bab8eab5cf02b957"
       ],
       "layout": "IPY_MODEL_5dc473987f1c4be68990ff47de4f7ed9"
      }
     },
     "d3d5fb326b864fed8e2143a2a3220278": {
      "model_module": "@jupyter-widgets/base",
      "model_module_version": "1.2.0",
      "model_name": "LayoutModel",
      "state": {
       "_model_module": "@jupyter-widgets/base",
       "_model_module_version": "1.2.0",
       "_model_name": "LayoutModel",
       "_view_count": null,
       "_view_module": "@jupyter-widgets/base",
       "_view_module_version": "1.2.0",
       "_view_name": "LayoutView",
       "align_content": null,
       "align_items": null,
       "align_self": null,
       "border": null,
       "bottom": null,
       "display": null,
       "flex": null,
       "flex_flow": null,
       "grid_area": null,
       "grid_auto_columns": null,
       "grid_auto_flow": null,
       "grid_auto_rows": null,
       "grid_column": null,
       "grid_gap": null,
       "grid_row": null,
       "grid_template_areas": null,
       "grid_template_columns": null,
       "grid_template_rows": null,
       "height": null,
       "justify_content": null,
       "justify_items": null,
       "left": null,
       "margin": null,
       "max_height": null,
       "max_width": null,
       "min_height": null,
       "min_width": null,
       "object_fit": null,
       "object_position": null,
       "order": null,
       "overflow": null,
       "overflow_x": null,
       "overflow_y": null,
       "padding": null,
       "right": null,
       "top": null,
       "visibility": null,
       "width": null
      }
     },
     "daf5a29d831149e386a18f4b58209c8a": {
      "model_module": "@jupyter-widgets/base",
      "model_module_version": "1.2.0",
      "model_name": "LayoutModel",
      "state": {
       "_model_module": "@jupyter-widgets/base",
       "_model_module_version": "1.2.0",
       "_model_name": "LayoutModel",
       "_view_count": null,
       "_view_module": "@jupyter-widgets/base",
       "_view_module_version": "1.2.0",
       "_view_name": "LayoutView",
       "align_content": null,
       "align_items": null,
       "align_self": null,
       "border": null,
       "bottom": null,
       "display": null,
       "flex": null,
       "flex_flow": null,
       "grid_area": null,
       "grid_auto_columns": null,
       "grid_auto_flow": null,
       "grid_auto_rows": null,
       "grid_column": null,
       "grid_gap": null,
       "grid_row": null,
       "grid_template_areas": null,
       "grid_template_columns": null,
       "grid_template_rows": null,
       "height": null,
       "justify_content": null,
       "justify_items": null,
       "left": null,
       "margin": null,
       "max_height": null,
       "max_width": null,
       "min_height": null,
       "min_width": null,
       "object_fit": null,
       "object_position": null,
       "order": null,
       "overflow": null,
       "overflow_x": null,
       "overflow_y": null,
       "padding": null,
       "right": null,
       "top": null,
       "visibility": null,
       "width": null
      }
     },
     "ddde4de154fd4bbf80489772d0f4d378": {
      "model_module": "@jupyter-widgets/controls",
      "model_module_version": "1.5.0",
      "model_name": "HBoxModel",
      "state": {
       "_dom_classes": [],
       "_model_module": "@jupyter-widgets/controls",
       "_model_module_version": "1.5.0",
       "_model_name": "HBoxModel",
       "_view_count": null,
       "_view_module": "@jupyter-widgets/controls",
       "_view_module_version": "1.5.0",
       "_view_name": "HBoxView",
       "box_style": "",
       "children": [
        "IPY_MODEL_ba457279b4594e3a87d22ee11aae1f65",
        "IPY_MODEL_e0f435416365473dba47bd00c7a35bea"
       ],
       "layout": "IPY_MODEL_65eb74d0ce264f29b0451b5261d4d186"
      }
     },
     "deb78abb88d243e6bba1d754d74ab311": {
      "model_module": "@jupyter-widgets/base",
      "model_module_version": "1.2.0",
      "model_name": "LayoutModel",
      "state": {
       "_model_module": "@jupyter-widgets/base",
       "_model_module_version": "1.2.0",
       "_model_name": "LayoutModel",
       "_view_count": null,
       "_view_module": "@jupyter-widgets/base",
       "_view_module_version": "1.2.0",
       "_view_name": "LayoutView",
       "align_content": null,
       "align_items": null,
       "align_self": null,
       "border": null,
       "bottom": null,
       "display": null,
       "flex": null,
       "flex_flow": null,
       "grid_area": null,
       "grid_auto_columns": null,
       "grid_auto_flow": null,
       "grid_auto_rows": null,
       "grid_column": null,
       "grid_gap": null,
       "grid_row": null,
       "grid_template_areas": null,
       "grid_template_columns": null,
       "grid_template_rows": null,
       "height": null,
       "justify_content": null,
       "justify_items": null,
       "left": null,
       "margin": null,
       "max_height": null,
       "max_width": null,
       "min_height": null,
       "min_width": null,
       "object_fit": null,
       "object_position": null,
       "order": null,
       "overflow": null,
       "overflow_x": null,
       "overflow_y": null,
       "padding": null,
       "right": null,
       "top": null,
       "visibility": null,
       "width": null
      }
     },
     "df686d180d5a49d184f1a6f1bedb680c": {
      "model_module": "@jupyter-widgets/controls",
      "model_module_version": "1.5.0",
      "model_name": "DescriptionStyleModel",
      "state": {
       "_model_module": "@jupyter-widgets/controls",
       "_model_module_version": "1.5.0",
       "_model_name": "DescriptionStyleModel",
       "_view_count": null,
       "_view_module": "@jupyter-widgets/base",
       "_view_module_version": "1.2.0",
       "_view_name": "StyleView",
       "description_width": ""
      }
     },
     "e0967e71810b4b1496f28544f4fe6f12": {
      "model_module": "@jupyter-widgets/controls",
      "model_module_version": "1.5.0",
      "model_name": "IntProgressModel",
      "state": {
       "_dom_classes": [],
       "_model_module": "@jupyter-widgets/controls",
       "_model_module_version": "1.5.0",
       "_model_name": "IntProgressModel",
       "_view_count": null,
       "_view_module": "@jupyter-widgets/controls",
       "_view_module_version": "1.5.0",
       "_view_name": "ProgressView",
       "bar_style": "",
       "description": "Epoch [5/10]: [7/7] 100%",
       "description_tooltip": null,
       "layout": "IPY_MODEL_5828b8e0b137409781ff4dade6bcc7e9",
       "max": 7,
       "min": 0,
       "orientation": "horizontal",
       "style": "IPY_MODEL_41bb3e4e0d8842cbaf7a6a4977fde007",
       "value": 7
      }
     },
     "e0f435416365473dba47bd00c7a35bea": {
      "model_module": "@jupyter-widgets/controls",
      "model_module_version": "1.5.0",
      "model_name": "HTMLModel",
      "state": {
       "_dom_classes": [],
       "_model_module": "@jupyter-widgets/controls",
       "_model_module_version": "1.5.0",
       "_model_name": "HTMLModel",
       "_view_count": null,
       "_view_module": "@jupyter-widgets/controls",
       "_view_module_version": "1.5.0",
       "_view_name": "HTMLView",
       "description": "",
       "description_tooltip": null,
       "layout": "IPY_MODEL_b987563f9b084f25aa7537d0ed73a554",
       "placeholder": "​",
       "style": "IPY_MODEL_272861ed3ed04d9c8bc233c2b60a046c",
       "value": " 30/? [00:00&lt;00:00, 36.61it/s]"
      }
     },
     "e0faaf55abed4df597d68cb299611401": {
      "model_module": "@jupyter-widgets/controls",
      "model_module_version": "1.5.0",
      "model_name": "HBoxModel",
      "state": {
       "_dom_classes": [],
       "_model_module": "@jupyter-widgets/controls",
       "_model_module_version": "1.5.0",
       "_model_name": "HBoxModel",
       "_view_count": null,
       "_view_module": "@jupyter-widgets/controls",
       "_view_module_version": "1.5.0",
       "_view_name": "HBoxView",
       "box_style": "",
       "children": [
        "IPY_MODEL_0fcbb5c7492f4bc2bfbcb7db0c52f507",
        "IPY_MODEL_95bb16babf5a497d84594c074a97f41f"
       ],
       "layout": "IPY_MODEL_bc486f189410421f8e9cf59dfb4fd3bf"
      }
     },
     "e12439e08a3a4d79908f80dbc4cb1688": {
      "model_module": "@jupyter-widgets/controls",
      "model_module_version": "1.5.0",
      "model_name": "ProgressStyleModel",
      "state": {
       "_model_module": "@jupyter-widgets/controls",
       "_model_module_version": "1.5.0",
       "_model_name": "ProgressStyleModel",
       "_view_count": null,
       "_view_module": "@jupyter-widgets/base",
       "_view_module_version": "1.2.0",
       "_view_name": "StyleView",
       "bar_color": null,
       "description_width": "initial"
      }
     },
     "e25e7536b5da49b1bf05d96978f522f6": {
      "model_module": "@jupyter-widgets/controls",
      "model_module_version": "1.5.0",
      "model_name": "ProgressStyleModel",
      "state": {
       "_model_module": "@jupyter-widgets/controls",
       "_model_module_version": "1.5.0",
       "_model_name": "ProgressStyleModel",
       "_view_count": null,
       "_view_module": "@jupyter-widgets/base",
       "_view_module_version": "1.2.0",
       "_view_name": "StyleView",
       "bar_color": null,
       "description_width": "initial"
      }
     },
     "e2855c55edfa44c79eb40fb0cc7dfff3": {
      "model_module": "@jupyter-widgets/controls",
      "model_module_version": "1.5.0",
      "model_name": "HTMLModel",
      "state": {
       "_dom_classes": [],
       "_model_module": "@jupyter-widgets/controls",
       "_model_module_version": "1.5.0",
       "_model_name": "HTMLModel",
       "_view_count": null,
       "_view_module": "@jupyter-widgets/controls",
       "_view_module_version": "1.5.0",
       "_view_name": "HTMLView",
       "description": "",
       "description_tooltip": null,
       "layout": "IPY_MODEL_003455a3f76e462989dc8f5918b5e2bc",
       "placeholder": "​",
       "style": "IPY_MODEL_5dd5c1cb44304ec2b52e0c3807e800c5",
       "value": " 6/? [00:00&lt;00:00, 51.24it/s]"
      }
     },
     "e3087dfccabe4528bbcb1cdae37da127": {
      "model_module": "@jupyter-widgets/controls",
      "model_module_version": "1.5.0",
      "model_name": "DescriptionStyleModel",
      "state": {
       "_model_module": "@jupyter-widgets/controls",
       "_model_module_version": "1.5.0",
       "_model_name": "DescriptionStyleModel",
       "_view_count": null,
       "_view_module": "@jupyter-widgets/base",
       "_view_module_version": "1.2.0",
       "_view_name": "StyleView",
       "description_width": ""
      }
     },
     "e35111890ad24af1a4c34eacde60649b": {
      "model_module": "@jupyter-widgets/controls",
      "model_module_version": "1.5.0",
      "model_name": "DescriptionStyleModel",
      "state": {
       "_model_module": "@jupyter-widgets/controls",
       "_model_module_version": "1.5.0",
       "_model_name": "DescriptionStyleModel",
       "_view_count": null,
       "_view_module": "@jupyter-widgets/base",
       "_view_module_version": "1.2.0",
       "_view_name": "StyleView",
       "description_width": ""
      }
     },
     "e54cbbf92da24a3d8fe549341193a719": {
      "model_module": "@jupyter-widgets/controls",
      "model_module_version": "1.5.0",
      "model_name": "HTMLModel",
      "state": {
       "_dom_classes": [],
       "_model_module": "@jupyter-widgets/controls",
       "_model_module_version": "1.5.0",
       "_model_name": "HTMLModel",
       "_view_count": null,
       "_view_module": "@jupyter-widgets/controls",
       "_view_module_version": "1.5.0",
       "_view_name": "HTMLView",
       "description": "",
       "description_tooltip": null,
       "layout": "IPY_MODEL_b2bb2a71619440f8a667fc7aa4b13698",
       "placeholder": "​",
       "style": "IPY_MODEL_37974842565b4008b636bcc6c5c008c9",
       "value": ", acc_consonant=0.634, acc_grapheme=0.616, acc_vowel=0.723, loss=5.68, loss_consonant=1.43, loss_grapheme=2.99, loss_vowel=1.26, recall=0.612 [00:01&lt;00:00]"
      }
     },
     "e79d605b55f24c9c9e41edabc20e8c50": {
      "model_module": "@jupyter-widgets/controls",
      "model_module_version": "1.5.0",
      "model_name": "IntProgressModel",
      "state": {
       "_dom_classes": [],
       "_model_module": "@jupyter-widgets/controls",
       "_model_module_version": "1.5.0",
       "_model_name": "IntProgressModel",
       "_view_count": null,
       "_view_module": "@jupyter-widgets/controls",
       "_view_module_version": "1.5.0",
       "_view_name": "ProgressView",
       "bar_style": "success",
       "description": "",
       "description_tooltip": null,
       "layout": "IPY_MODEL_a208f6562d9a411da2eb1d60d7d885a5",
       "max": 1,
       "min": 0,
       "orientation": "horizontal",
       "style": "IPY_MODEL_4251eccedbc14d47aeb47be63a934d3b",
       "value": 1
      }
     },
     "e9d35d05b632447aa98556a768cc156d": {
      "model_module": "@jupyter-widgets/base",
      "model_module_version": "1.2.0",
      "model_name": "LayoutModel",
      "state": {
       "_model_module": "@jupyter-widgets/base",
       "_model_module_version": "1.2.0",
       "_model_name": "LayoutModel",
       "_view_count": null,
       "_view_module": "@jupyter-widgets/base",
       "_view_module_version": "1.2.0",
       "_view_name": "LayoutView",
       "align_content": null,
       "align_items": null,
       "align_self": null,
       "border": null,
       "bottom": null,
       "display": null,
       "flex": null,
       "flex_flow": null,
       "grid_area": null,
       "grid_auto_columns": null,
       "grid_auto_flow": null,
       "grid_auto_rows": null,
       "grid_column": null,
       "grid_gap": null,
       "grid_row": null,
       "grid_template_areas": null,
       "grid_template_columns": null,
       "grid_template_rows": null,
       "height": null,
       "justify_content": null,
       "justify_items": null,
       "left": null,
       "margin": null,
       "max_height": null,
       "max_width": null,
       "min_height": null,
       "min_width": null,
       "object_fit": null,
       "object_position": null,
       "order": null,
       "overflow": null,
       "overflow_x": null,
       "overflow_y": null,
       "padding": null,
       "right": null,
       "top": null,
       "visibility": null,
       "width": null
      }
     },
     "ec49e06ece3d4a32881338ddb20171de": {
      "model_module": "@jupyter-widgets/controls",
      "model_module_version": "1.5.0",
      "model_name": "HBoxModel",
      "state": {
       "_dom_classes": [],
       "_model_module": "@jupyter-widgets/controls",
       "_model_module_version": "1.5.0",
       "_model_name": "HBoxModel",
       "_view_count": null,
       "_view_module": "@jupyter-widgets/controls",
       "_view_module_version": "1.5.0",
       "_view_name": "HBoxView",
       "box_style": "",
       "children": [
        "IPY_MODEL_360c6c7d53864f36861f262e036d701f",
        "IPY_MODEL_43cdf5ea12fc487491113213ad4b4498"
       ],
       "layout": "IPY_MODEL_781f9807309a45fbb3caf19e4527f828"
      }
     },
     "ed3e967233644d9c83694cc383beae18": {
      "model_module": "@jupyter-widgets/controls",
      "model_module_version": "1.5.0",
      "model_name": "IntProgressModel",
      "state": {
       "_dom_classes": [],
       "_model_module": "@jupyter-widgets/controls",
       "_model_module_version": "1.5.0",
       "_model_name": "IntProgressModel",
       "_view_count": null,
       "_view_module": "@jupyter-widgets/controls",
       "_view_module_version": "1.5.0",
       "_view_name": "ProgressView",
       "bar_style": "success",
       "description": "",
       "description_tooltip": null,
       "layout": "IPY_MODEL_d3d5fb326b864fed8e2143a2a3220278",
       "max": 1,
       "min": 0,
       "orientation": "horizontal",
       "style": "IPY_MODEL_61f35eecaa9d4a409be9fc114929c8a1",
       "value": 1
      }
     },
     "ee451547930b443bb88f0817873e86a0": {
      "model_module": "@jupyter-widgets/controls",
      "model_module_version": "1.5.0",
      "model_name": "ProgressStyleModel",
      "state": {
       "_model_module": "@jupyter-widgets/controls",
       "_model_module_version": "1.5.0",
       "_model_name": "ProgressStyleModel",
       "_view_count": null,
       "_view_module": "@jupyter-widgets/base",
       "_view_module_version": "1.2.0",
       "_view_name": "StyleView",
       "bar_color": null,
       "description_width": "initial"
      }
     },
     "f57d475ebf0647f181211ac7cbba209a": {
      "model_module": "@jupyter-widgets/controls",
      "model_module_version": "1.5.0",
      "model_name": "HBoxModel",
      "state": {
       "_dom_classes": [],
       "_model_module": "@jupyter-widgets/controls",
       "_model_module_version": "1.5.0",
       "_model_name": "HBoxModel",
       "_view_count": null,
       "_view_module": "@jupyter-widgets/controls",
       "_view_module_version": "1.5.0",
       "_view_name": "HBoxView",
       "box_style": "",
       "children": [
        "IPY_MODEL_4ac8348d41be4c00b508c589abb2ce9c",
        "IPY_MODEL_511f097951384c0f90139472a15e13d4"
       ],
       "layout": "IPY_MODEL_cc020aad5221470ca59a606c428a869d"
      }
     },
     "f76974dd7d5c49cda99393efe40e8a61": {
      "model_module": "@jupyter-widgets/controls",
      "model_module_version": "1.5.0",
      "model_name": "DescriptionStyleModel",
      "state": {
       "_model_module": "@jupyter-widgets/controls",
       "_model_module_version": "1.5.0",
       "_model_name": "DescriptionStyleModel",
       "_view_count": null,
       "_view_module": "@jupyter-widgets/base",
       "_view_module_version": "1.2.0",
       "_view_name": "StyleView",
       "description_width": ""
      }
     },
     "f77071d6e7464c0391a4aabf2c177b34": {
      "model_module": "@jupyter-widgets/controls",
      "model_module_version": "1.5.0",
      "model_name": "HBoxModel",
      "state": {
       "_dom_classes": [],
       "_model_module": "@jupyter-widgets/controls",
       "_model_module_version": "1.5.0",
       "_model_name": "HBoxModel",
       "_view_count": null,
       "_view_module": "@jupyter-widgets/controls",
       "_view_module_version": "1.5.0",
       "_view_name": "HBoxView",
       "box_style": "",
       "children": [
        "IPY_MODEL_740d773f159a4800abb69d5742701a15",
        "IPY_MODEL_c87ae58416db40e4985ea5056a94d049"
       ],
       "layout": "IPY_MODEL_7a2f49f01f2d4e0c8311bf8bbbd06127"
      }
     },
     "f7ea00be076c48438433f5c443774748": {
      "model_module": "@jupyter-widgets/controls",
      "model_module_version": "1.5.0",
      "model_name": "HBoxModel",
      "state": {
       "_dom_classes": [],
       "_model_module": "@jupyter-widgets/controls",
       "_model_module_version": "1.5.0",
       "_model_name": "HBoxModel",
       "_view_count": null,
       "_view_module": "@jupyter-widgets/controls",
       "_view_module_version": "1.5.0",
       "_view_name": "HBoxView",
       "box_style": "",
       "children": [
        "IPY_MODEL_ed3e967233644d9c83694cc383beae18",
        "IPY_MODEL_fc34b34d8b064d58b42f9c71e1d575f4"
       ],
       "layout": "IPY_MODEL_183b694071124aeaabb783fa2d314df6"
      }
     },
     "fc34b34d8b064d58b42f9c71e1d575f4": {
      "model_module": "@jupyter-widgets/controls",
      "model_module_version": "1.5.0",
      "model_name": "HTMLModel",
      "state": {
       "_dom_classes": [],
       "_model_module": "@jupyter-widgets/controls",
       "_model_module_version": "1.5.0",
       "_model_name": "HTMLModel",
       "_view_count": null,
       "_view_module": "@jupyter-widgets/controls",
       "_view_module_version": "1.5.0",
       "_view_name": "HTMLView",
       "description": "",
       "description_tooltip": null,
       "layout": "IPY_MODEL_4edcfa38e8454f7195c69de561d48b5d",
       "placeholder": "​",
       "style": "IPY_MODEL_9a84e9c0f22943b18d7e68ff422d7959",
       "value": " 30/? [00:00&lt;00:00, 79.61it/s]"
      }
     },
     "fe0d96b7dace48bb9646e8254a64550a": {
      "model_module": "@jupyter-widgets/controls",
      "model_module_version": "1.5.0",
      "model_name": "ProgressStyleModel",
      "state": {
       "_model_module": "@jupyter-widgets/controls",
       "_model_module_version": "1.5.0",
       "_model_name": "ProgressStyleModel",
       "_view_count": null,
       "_view_module": "@jupyter-widgets/base",
       "_view_module_version": "1.2.0",
       "_view_name": "StyleView",
       "bar_color": null,
       "description_width": "initial"
      }
     },
     "ffd3d1af4e494fc19f20cf20be6ee2d4": {
      "model_module": "@jupyter-widgets/controls",
      "model_module_version": "1.5.0",
      "model_name": "HTMLModel",
      "state": {
       "_dom_classes": [],
       "_model_module": "@jupyter-widgets/controls",
       "_model_module_version": "1.5.0",
       "_model_name": "HTMLModel",
       "_view_count": null,
       "_view_module": "@jupyter-widgets/controls",
       "_view_module_version": "1.5.0",
       "_view_name": "HTMLView",
       "description": "",
       "description_tooltip": null,
       "layout": "IPY_MODEL_20fb74bc8c5a446ca63db79973376954",
       "placeholder": "​",
       "style": "IPY_MODEL_cf001db7d83e4a308048fe80f0dd3f91",
       "value": ", acc_consonant=0.504, acc_grapheme=0.143, acc_vowel=0.482, loss=8.03, loss_consonant=1.82, loss_grapheme=4.44, loss_vowel=1.77, recall=0.232 [00:01&lt;00:00]"
      }
     }
    },
    "version_major": 2,
    "version_minor": 0
   }
  }
 },
 "nbformat": 4,
 "nbformat_minor": 4
}
